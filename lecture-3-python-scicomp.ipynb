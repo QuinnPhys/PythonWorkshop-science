{
 "cells": [
  {
   "cell_type": "markdown",
   "metadata": {},
   "source": [
    "# Lecture 2: Python for Scientific Computing (1.5 Hours) #"
   ]
  },
  {
   "cell_type": "markdown",
   "metadata": {},
   "source": [
    "### ABSTRACT ###\n",
    "\n",
    "In this Lecture, we will do yet another kind of stuff. **todo**\n",
    "\n",
    "---"
   ]
  },
  {
   "cell_type": "markdown",
   "metadata": {},
   "source": [
    "**TODO**\n",
    "\n",
    "- explain ``dtype``\n",
    "- useful constructors like ``arange`` and ``linspace``."
   ]
  },
  {
   "cell_type": "markdown",
   "metadata": {},
   "source": [
    "## Manipulating Arrays w/ NumPy and SciPy (40 Minutes) ##"
   ]
  },
  {
   "cell_type": "markdown",
   "metadata": {},
   "source": [
    "So far, we've seen that Python offers flexible structures such as ``list`` and ``dict`` for storing data, but this flexibility comes at a cost. Consider, for instance, representing a matrix as a ``list`` of ``list`` instances."
   ]
  },
  {
   "cell_type": "code",
   "execution_count": 1,
   "metadata": {
    "collapsed": true
   },
   "outputs": [],
   "source": [
    "x = [\n",
    "    [0, 1],\n",
    "    [1, 0]\n",
    "]"
   ]
  },
  {
   "cell_type": "code",
   "execution_count": 2,
   "metadata": {
    "collapsed": false
   },
   "outputs": [
    {
     "data": {
      "text/plain": [
       "[[0, 1], [1, 0]]"
      ]
     },
     "execution_count": 2,
     "metadata": {},
     "output_type": "execute_result"
    }
   ],
   "source": [
    "x"
   ]
  },
  {
   "cell_type": "markdown",
   "metadata": {},
   "source": [
    "This \"works\" in the sense that it stores the data we're interested in, but fails to enforce that its entries are all numeric, that each \"row\" is the same length, and doesn't give us a terribly useful way of performing mathematical operations."
   ]
  },
  {
   "cell_type": "code",
   "execution_count": 3,
   "metadata": {
    "collapsed": false
   },
   "outputs": [
    {
     "data": {
      "text/plain": [
       "[[0, 1], [1, 0], [0, 1], [1, 0]]"
      ]
     },
     "execution_count": 3,
     "metadata": {},
     "output_type": "execute_result"
    }
   ],
   "source": [
    "# Almost certainly not what we expect \"matrix\" addition to look like!\n",
    "x + x"
   ]
  },
  {
   "cell_type": "code",
   "execution_count": 4,
   "metadata": {
    "collapsed": false
   },
   "outputs": [
    {
     "data": {
      "text/plain": [
       "[[0, 1, 0], [1, 0]]"
      ]
     },
     "execution_count": 4,
     "metadata": {},
     "output_type": "execute_result"
    }
   ],
   "source": [
    "# \"Ragged\" structures are OK for lists, even though that doesn't\n",
    "# make sense for matrices.\n",
    "x = [\n",
    "    [0, 1, 0],\n",
    "    [1, 0]\n",
    "]\n",
    "x"
   ]
  },
  {
   "cell_type": "code",
   "execution_count": 6,
   "metadata": {
    "collapsed": false
   },
   "outputs": [
    {
     "data": {
      "text/plain": [
       "[['0', True], [1, None]]"
      ]
     },
     "execution_count": 6,
     "metadata": {},
     "output_type": "execute_result"
    }
   ],
   "source": [
    "# Heterogeneuous data types are also OK for lists,\n",
    "# but not what we want here.\n",
    "x = [\n",
    "    [\"0\", True],\n",
    "    [1, None]\n",
    "]\n",
    "x"
   ]
  },
  {
   "cell_type": "markdown",
   "metadata": {},
   "source": [
    "None of this indicates that ``list`` is bad, but rather that it's not the data structure we want to represent tensors of numbers, such as vectors or matrices. Thankfully, the NumPy library provides precisely such a tensor structure, called an *array*. This library is installed by default with Anaconda, so let's go on and import it now."
   ]
  },
  {
   "cell_type": "code",
   "execution_count": 7,
   "metadata": {
    "collapsed": true
   },
   "outputs": [],
   "source": [
    "import numpy as np\n",
    "x = np.array([\n",
    "    [0, 1],\n",
    "    [1, 0]\n",
    "])"
   ]
  },
  {
   "cell_type": "code",
   "execution_count": 8,
   "metadata": {
    "collapsed": false
   },
   "outputs": [
    {
     "data": {
      "text/plain": [
       "array([[0, 1],\n",
       "       [1, 0]])"
      ]
     },
     "execution_count": 8,
     "metadata": {},
     "output_type": "execute_result"
    }
   ],
   "source": [
    "x"
   ]
  },
  {
   "cell_type": "code",
   "execution_count": 9,
   "metadata": {
    "collapsed": false
   },
   "outputs": [
    {
     "data": {
      "text/plain": [
       "array([[0, 2],\n",
       "       [2, 0]])"
      ]
     },
     "execution_count": 9,
     "metadata": {},
     "output_type": "execute_result"
    }
   ],
   "source": [
    "x + x"
   ]
  },
  {
   "cell_type": "code",
   "execution_count": 10,
   "metadata": {
    "collapsed": false
   },
   "outputs": [
    {
     "data": {
      "text/plain": [
       "array([[0, 2],\n",
       "       [2, 0]])"
      ]
     },
     "execution_count": 10,
     "metadata": {},
     "output_type": "execute_result"
    }
   ],
   "source": [
    "2 * x"
   ]
  },
  {
   "cell_type": "markdown",
   "metadata": {},
   "source": [
    "By contrast to ``list`` instances, arrays provide much more structure that we can use to represent numerical operations. The most basic operation allowed by arrays is that of *indexing*, wherein we access one or more elements of an array. This is similar to indexing lists, but much more powerful thanks to the additional assumptions that we can make about arrays. In particular, we can now index along multiple *dimensions* at once, each of which is also called an *axis* or an *index*."
   ]
  },
  {
   "cell_type": "code",
   "execution_count": 17,
   "metadata": {
    "collapsed": false
   },
   "outputs": [
    {
     "name": "stdout",
     "output_type": "stream",
     "text": [
      "2\n"
     ]
    }
   ],
   "source": [
    "x = np.array([\n",
    "    [1, 2, 3],\n",
    "    [4, 5, 6]\n",
    "])\n",
    "print(x[0, 1])"
   ]
  },
  {
   "cell_type": "markdown",
   "metadata": {},
   "source": [
    "Each of these index expressions can itself be a slice, as we saw earlier with lists. The special slice ``:`` selects everything along that axis."
   ]
  },
  {
   "cell_type": "code",
   "execution_count": 18,
   "metadata": {
    "collapsed": false
   },
   "outputs": [
    {
     "name": "stdout",
     "output_type": "stream",
     "text": [
      "[1 4]\n",
      "[4 5 6]\n"
     ]
    }
   ],
   "source": [
    "print(x[:, 0])\n",
    "print(x[1, :])"
   ]
  },
  {
   "cell_type": "markdown",
   "metadata": {},
   "source": [
    "In the example above, we note that indexing by a scalar removes that axis from the returned array, reducing the number of dimensions. This is represented in the array's *shape*, which describes the length of that array along each axis (this generalizes MATLAB's ``size`` concept to tensors of rank up to 63). Each shape is a ``tuple`` of integers, or the empty tuple for a scalar."
   ]
  },
  {
   "cell_type": "code",
   "execution_count": 23,
   "metadata": {
    "collapsed": false
   },
   "outputs": [
    {
     "name": "stdout",
     "output_type": "stream",
     "text": [
      "(2L, 3L)\n",
      "(2L,)\n",
      "(3L,)\n",
      "(2L,)\n",
      "()\n"
     ]
    }
   ],
   "source": [
    "print(x.shape)\n",
    "print(x[:, 0].shape)\n",
    "print(x[1, :].shape)\n",
    "print(x[1, :2].shape)\n",
    "print(x[0, 0].shape)"
   ]
  },
  {
   "cell_type": "markdown",
   "metadata": {},
   "source": [
    "Arrays are also iterable, such that they can be used in ``for`` loops, ``map``, etc. There are often more powerful (and much faster!) ways of acting on arrays, as we'll see in a few minutes, but it's occasionally useful to iterate. When used in this way, an array iterates over its leftmost axis, yielding slices of the array. For example, if we think of a 2-axis array as a matrix whose first axis is a \"row\" and whose second index is a \"column,\" then iterating yields row vectors as 1-axis arrays:"
   ]
  },
  {
   "cell_type": "code",
   "execution_count": 24,
   "metadata": {
    "collapsed": false
   },
   "outputs": [
    {
     "name": "stdout",
     "output_type": "stream",
     "text": [
      "[1 2 3]\n",
      "[4 5 6]\n"
     ]
    }
   ],
   "source": [
    "for vec in x:\n",
    "    print(vec)"
   ]
  },
  {
   "cell_type": "markdown",
   "metadata": {},
   "source": [
    "To iterate over an axis other than the leftmost, use the ``transpose`` method:"
   ]
  },
  {
   "cell_type": "code",
   "execution_count": 26,
   "metadata": {
    "collapsed": false
   },
   "outputs": [
    {
     "name": "stdout",
     "output_type": "stream",
     "text": [
      "[1 4]\n",
      "[2 5]\n",
      "[3 6]\n"
     ]
    }
   ],
   "source": [
    "for col in x.transpose():\n",
    "    print(col)"
   ]
  },
  {
   "cell_type": "markdown",
   "metadata": {},
   "source": [
    "The ``transpose`` method is also exposed via the shorthand ``.T``:"
   ]
  },
  {
   "cell_type": "code",
   "execution_count": 28,
   "metadata": {
    "collapsed": false
   },
   "outputs": [
    {
     "data": {
      "text/plain": [
       "True"
      ]
     },
     "execution_count": 28,
     "metadata": {},
     "output_type": "execute_result"
    }
   ],
   "source": [
    "np.all(x.transpose() == x.T)"
   ]
  },
  {
   "cell_type": "markdown",
   "metadata": {},
   "source": [
    "In this example, if we did not call ``np.all``, we would get a Boolean array describing elementwise equality. For instance:"
   ]
  },
  {
   "cell_type": "code",
   "execution_count": 30,
   "metadata": {
    "collapsed": false
   },
   "outputs": [
    {
     "name": "stdout",
     "output_type": "stream",
     "text": [
      "[[False  True]\n",
      " [False False]]\n"
     ]
    }
   ],
   "source": [
    "a = np.array([[1, 2], [3, 4]])\n",
    "b = np.array([[0, 2], [0, 0]])\n",
    "print(a == b)"
   ]
  },
  {
   "cell_type": "markdown",
   "metadata": {},
   "source": [
    "The ``np.all`` function then *reduces* an array by using a logical ``and``, returning ``True`` if and only if all elements of its argument are ``True``. We can also reduce only over a subset of axes, using the ``axis`` argument:"
   ]
  },
  {
   "cell_type": "code",
   "execution_count": 34,
   "metadata": {
    "collapsed": false
   },
   "outputs": [
    {
     "name": "stdout",
     "output_type": "stream",
     "text": [
      "[False  True]\n",
      "[ True False]\n"
     ]
    }
   ],
   "source": [
    "a = np.array([[1, 1], [0, 1]])\n",
    "b = np.array([[1, 1], [-1, 1]])\n",
    "\n",
    "print(np.all(a == b, axis=0))\n",
    "print(np.all(a == b, axis=1))"
   ]
  },
  {
   "cell_type": "markdown",
   "metadata": {},
   "source": [
    "This tells us that the first \"rows\" of ``a`` and ``b`` are equal, while the second ``columns`` of ``a`` and ``b`` are equal. Other useful reductions include ``np.max``, ``np.min``, ``np.median``, and ``np.mean``."
   ]
  },
  {
   "cell_type": "code",
   "execution_count": 37,
   "metadata": {
    "collapsed": false
   },
   "outputs": [
    {
     "name": "stdout",
     "output_type": "stream",
     "text": [
      "(<function mean at 0x0000000004E94828>, -3.0)\n",
      "(<function median at 0x00000000069A3F98>, 0.0)\n",
      "(<function amin at 0x0000000004E94438>, -10)\n",
      "(<function amax at 0x0000000004E943C8>, 1)\n"
     ]
    }
   ],
   "source": [
    "vec = np.array([-10, 0, 1])\n",
    "for reduction_fn in (np.mean, np.median, np.min, np.max):\n",
    "    print(reduction_fn, reduction_fn(vec))"
   ]
  },
  {
   "cell_type": "markdown",
   "metadata": {},
   "source": [
    "Of course, we will often want to actually perform arithmetic operations on arrays. In NumPy, such operations are represented by *universal functions*, or *ufuncs* for short. Each ufunc describes an element-wise operation which NumPy can then act on arrays."
   ]
  },
  {
   "cell_type": "code",
   "execution_count": 39,
   "metadata": {
    "collapsed": true
   },
   "outputs": [],
   "source": [
    "a = np.array([[0, 1], [2, 3]])\n",
    "b = np.array([[0, 10], [20, 30]])"
   ]
  },
  {
   "cell_type": "code",
   "execution_count": 40,
   "metadata": {
    "collapsed": false
   },
   "outputs": [
    {
     "data": {
      "text/plain": [
       "array([[ 0, 11],\n",
       "       [22, 33]])"
      ]
     },
     "execution_count": 40,
     "metadata": {},
     "output_type": "execute_result"
    }
   ],
   "source": [
    "a + b"
   ]
  },
  {
   "cell_type": "code",
   "execution_count": 41,
   "metadata": {
    "collapsed": false
   },
   "outputs": [
    {
     "data": {
      "text/plain": [
       "array([[ 0, 10],\n",
       "       [40, 90]])"
      ]
     },
     "execution_count": 41,
     "metadata": {},
     "output_type": "execute_result"
    }
   ],
   "source": [
    "a * b"
   ]
  },
  {
   "cell_type": "code",
   "execution_count": 44,
   "metadata": {
    "collapsed": false
   },
   "outputs": [
    {
     "data": {
      "text/plain": [
       "array([[    1,    10],\n",
       "       [  400, 27000]])"
      ]
     },
     "execution_count": 44,
     "metadata": {},
     "output_type": "execute_result"
    }
   ],
   "source": [
    "b ** a"
   ]
  },
  {
   "cell_type": "code",
   "execution_count": 45,
   "metadata": {
    "collapsed": false
   },
   "outputs": [
    {
     "data": {
      "text/plain": [
       "array([[ 0, -1],\n",
       "       [-2, -3]])"
      ]
     },
     "execution_count": 45,
     "metadata": {},
     "output_type": "execute_result"
    }
   ],
   "source": [
    "-a"
   ]
  },
  {
   "cell_type": "markdown",
   "metadata": {},
   "source": [
    "A ufunc can be applied to two or more arrays if their shapes match exactly, or if one can be *broadcast* to each other. Before we explain what broadcasting is in detail, let's jump right into an example: adding a scalar to a 2-axis array:"
   ]
  },
  {
   "cell_type": "code",
   "execution_count": 46,
   "metadata": {
    "collapsed": false
   },
   "outputs": [
    {
     "data": {
      "text/plain": [
       "array([[1, 2],\n",
       "       [3, 4]])"
      ]
     },
     "execution_count": 46,
     "metadata": {},
     "output_type": "execute_result"
    }
   ],
   "source": [
    "a + 1"
   ]
  },
  {
   "cell_type": "markdown",
   "metadata": {},
   "source": [
    "Here, we see that NumPy knew to \"repeat\" the scalar 1 such that it can then properly match the shape ``(2, 2)`` of ``a``. This holds even for higher-rank arrays:"
   ]
  },
  {
   "cell_type": "code",
   "execution_count": 48,
   "metadata": {
    "collapsed": false
   },
   "outputs": [
    {
     "data": {
      "text/plain": [
       "array([[[0],\n",
       "        [1],\n",
       "        [2]],\n",
       "\n",
       "       [[3],\n",
       "        [4],\n",
       "        [5]]])"
      ]
     },
     "execution_count": 48,
     "metadata": {},
     "output_type": "execute_result"
    }
   ],
   "source": [
    "a = np.arange(6).reshape((2, 3, 1))\n",
    "a"
   ]
  },
  {
   "cell_type": "code",
   "execution_count": 50,
   "metadata": {
    "collapsed": false
   },
   "outputs": [
    {
     "data": {
      "text/plain": [
       "array([[[ 0],\n",
       "        [ 1],\n",
       "        [ 4]],\n",
       "\n",
       "       [[ 9],\n",
       "        [16],\n",
       "        [25]]])"
      ]
     },
     "execution_count": 50,
     "metadata": {},
     "output_type": "execute_result"
    }
   ],
   "source": [
    "a ** 2"
   ]
  },
  {
   "cell_type": "markdown",
   "metadata": {},
   "source": [
    "Essentially, broadcasting consists of a formal list of rules for determining when and how to repeat lower-rank arrays to properly match shapes for elementwise computation. First, the arrays being operated on by a ufunc have different numbers of axes, singleton dimensions (axes of length 1) are added to the left of each array until they have the same length shapes.\n",
    "For instance, if ``a`` is a ``(1, 2)``-shape array, and ``b`` is a ``(2,)``-shape array, then ``a`` and ``b`` are treated as having the same shape for the purpose of broadcasting.\n",
    "\n",
    "Next, for each axis, the lengths along that axis must match for each array, or any non-matching arrays must have length 1. Thus, an array of shape ``(1, 2)`` and an array of shape ``(3, 1)`` can be broadcast with each other, but ``(2, 2)`` does not broadcast with ``(3, 1)``.\n",
    "\n",
    "As a more applied example, we can use broadcasting together with ``np.newaxis`` to quickly define generalized outer products:"
   ]
  },
  {
   "cell_type": "code",
   "execution_count": 52,
   "metadata": {
    "collapsed": false
   },
   "outputs": [
    {
     "name": "stdout",
     "output_type": "stream",
     "text": [
      "[[ 4  5]\n",
      " [ 8 10]\n",
      " [12 15]]\n",
      "[[5 6]\n",
      " [6 7]\n",
      " [7 8]]\n",
      "[[  1   1]\n",
      " [ 16  32]\n",
      " [ 81 243]]\n",
      "[[1 1]\n",
      " [2 2]\n",
      " [3 3]]\n"
     ]
    }
   ],
   "source": [
    "a = np.array([1, 2, 3])\n",
    "b = np.array([4, 5])\n",
    "\n",
    "print(a[:, np.newaxis] * b)\n",
    "print(a[:, np.newaxis] + b)\n",
    "print(a[:, np.newaxis] ** b)\n",
    "print(a[:, np.newaxis] % b)"
   ]
  },
  {
   "cell_type": "markdown",
   "metadata": {},
   "source": [
    "This works because ``np.newaxis`` adds a new singleton axis at that location in the indexing operation. In the example above, ``a[:, np.newaxis]`` has shape ``(3, 1)``, which broadcasts with ``b`` (shape ``(2,)``) to return a shape ``(3, 2)`` array. Broadcasting thus gives us a very powerful tool for quickly performing index gymnastics, even on high-rank tensors."
   ]
  },
  {
   "cell_type": "markdown",
   "metadata": {},
   "source": [
    "**TODO**\n",
    "\n",
    "- Tensor operations (dot, contract).\n",
    "- linalg (eig, for example)"
   ]
  },
  {
   "cell_type": "markdown",
   "metadata": {},
   "source": [
    "## Pandas (15 Minutes) ##"
   ]
  },
  {
   "cell_type": "markdown",
   "metadata": {},
   "source": [
    "- Loading data into data frames (NumPy arrays, CSV, Excel)\n",
    "- Groupby / pivot, etc.\n",
    "- Reductions"
   ]
  },
  {
   "cell_type": "markdown",
   "metadata": {},
   "source": [
    "## Plotting with Matplotlib and Seaborn (25 Minutes) ##"
   ]
  },
  {
   "cell_type": "markdown",
   "metadata": {},
   "source": [
    "- Basics of plotting, Jupyter Notebook support\n",
    "- Style (``ggplot``, etc.)\n",
    "- Modifying plots with labels, ticks, titles, etc.\n",
    "- Bar plots, histograms, scatter.\n",
    "- Seaborn for time series and joint plots."
   ]
  },
  {
   "cell_type": "markdown",
   "metadata": {},
   "source": [
    "## Unitful Computing with Pint and python-quantities (10 Minutes) ##"
   ]
  },
  {
   "cell_type": "markdown",
   "metadata": {},
   "source": [
    "- Show brief examples of using p-q to detect unit/dimension problems\n",
    "- Allude to IK, Mabuchi group."
   ]
  }
 ],
 "metadata": {
  "anaconda-cloud": {},
  "kernelspec": {
   "display_name": "Python [default]",
   "language": "python",
   "name": "python2"
  },
  "language_info": {
   "codemirror_mode": {
    "name": "ipython",
    "version": 2
   },
   "file_extension": ".py",
   "mimetype": "text/x-python",
   "name": "python",
   "nbconvert_exporter": "python",
   "pygments_lexer": "ipython2",
   "version": "2.7.12"
  }
 },
 "nbformat": 4,
 "nbformat_minor": 1
}

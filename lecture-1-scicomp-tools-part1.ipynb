{
 "cells": [
  {
   "cell_type": "markdown",
   "metadata": {},
   "source": [
    "# Lecture 1: Tools for Scientific Computing 1 (1.5 Hours) #"
   ]
  },
  {
   "cell_type": "markdown",
   "metadata": {},
   "source": [
    "## Secure Shell for Remote Computing (40 Minutes) ##"
   ]
  },
  {
   "cell_type": "markdown",
   "metadata": {},
   "source": [
    "- Basics of SSH (leave test server running!!!)\n",
    "- What is a public key?\n",
    "- Contrast passwords.\n",
    "- ``ssh-keygen``\n",
    "- (Windows only) Converting private keys to PuTTY format\n",
    "- Passwordless login w/ ``ssh-copy-id`` and ``authorized_keys``\n",
    "- SSH forwarding?"
   ]
  },
  {
   "cell_type": "markdown",
   "metadata": {},
   "source": [
    "## Version Control with Git (50 Minutes) ##"
   ]
  },
  {
   "cell_type": "markdown",
   "metadata": {},
   "source": [
    "- DAGs\n",
    "- Edges as diffs, mention latexdiff\n",
    "- GitHub, Bitbucket\n",
    "- Configuring Git to use SSH with Plink (Windows-only), Nano (OS X and Windows only)\n",
    "- Integration with Sublime Text, VS Code"
   ]
  }
 ],
 "metadata": {
  "anaconda-cloud": {},
  "kernelspec": {
   "display_name": "Python [default]",
   "language": "python",
   "name": "python2"
  },
  "language_info": {
   "codemirror_mode": {
    "name": "ipython",
    "version": 2
   },
   "file_extension": ".py",
   "mimetype": "text/x-python",
   "name": "python",
   "nbconvert_exporter": "python",
   "pygments_lexer": "ipython2",
   "version": "2.7.12"
  }
 },
 "nbformat": 4,
 "nbformat_minor": 1
}

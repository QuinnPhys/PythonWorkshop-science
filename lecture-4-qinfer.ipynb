{
 "cells": [
  {
   "cell_type": "markdown",
   "metadata": {},
   "source": [
    "# Lecture 4: Data Analysis with Qinfer (1.5 hours) #\n",
    "\n",
    "**TODO**: relevant Qinfer links\n",
    "\n",
    "In this notebook, we will introduce Bayesian parameter estimation and the sequential Monte Carlo algorithm implemented by **Qinfer**. \n",
    "\n",
    "\n",
    "### Preamble\n",
    "\n",
    "Here we import all the necessary modules as well as make the code compatible with Python 2.7."
   ]
  },
  {
   "cell_type": "code",
   "execution_count": 5,
   "metadata": {
    "collapsed": false
   },
   "outputs": [],
   "source": [
    "from __future__ import division, print_function\n",
    "\n",
    "import qinfer as qi\n",
    "import numpy as np\n",
    "import scipy as sp\n",
    "import matplotlib.pyplot as plt\n",
    "\n",
    "#%matplotlib notebook\n",
    "# Use nice plotting defaults if available.\n",
    "try: plt.style.use('ggplot')\n",
    "except: pass\n",
    "\n",
    "from ipywidgets import interact, interactive, fixed, FloatProgress\n",
    "from IPython.display import display, clear_output\n",
    "from time import sleep"
   ]
  },
  {
   "cell_type": "markdown",
   "metadata": {},
   "source": [
    "## Starting simple: estimating the bias of a coin\n",
    "\n",
    "Suppose we have a coin that we do not know the bias $p$ of. We will guess what $p$ is by flipping the coin many times. \n",
    "\n",
    "If we knew the bias, we could determine the exact distribution of the number of \"Heads\" we would see. If we label the number of flips $N$ and the number of heads $n$, then the distribution of $n$ is a [Binomial distribution](https://en.wikipedia.org/wiki/Binomial_distribution):\n",
    "$$\n",
    "\\operatorname{Pr}(n|p) = \\binom{N}{n} p^n (1-p)^{N-n}.\n",
    "$$\n",
    "\n",
    "Now suppose we have flipped the coin and $n$ heads did actually occur in $N$ flips. What is the distribution of $p|n$? The answer is given by [Bayes' rule](https://en.wikipedia.org/wiki/Bayes%27_theorem):\n",
    "$$\n",
    "\\operatorname{Pr}(n|p) = \\frac{\\operatorname{Pr}(n|p)\\operatorname{Pr}(p)}{\\operatorname{Pr}(n)},\n",
    "$$\n",
    "where $\\operatorname{Pr}(n|p)$ is called the likelihood function, $\\operatorname{Pr}(p)$ the prior, $\\operatorname{Pr}(p|n)$ the posterior and $\\operatorname{Pr}(n)$ is called the evidence. The likelihood function we have determined above. The prior is the input to the problem and the evidence can be determined by normalization of probability.\n",
    "\n",
    "The input, the prior, can be anything. A typical choice for generic problems is the uniform prior $\\operatorname{Pr}(p) = 1/V$, where $V$ is the volume of the parameter space, in this case $V = 1$ since the bias can be between 0 and 1. For the uniform prior, the posterior is\n",
    "$$\n",
    "\\operatorname{Pr}(p|n) = \\frac{p^n (1-p)^{N-n}}{B(n+1,N-n+1)},\n",
    "$$\n",
    "where $B$ is the Beta function. (See a derivation of a slightly more general form [here](https://en.wikipedia.org/wiki/Conjugate_prior#Example)).\n",
    "\n",
    "For more complicated models, such an analytic solution is not obtainable and we must turn to numerical algorithms. The algorithm we use is called [sequential Monte Carlo or the particle filter](https://en.wikipedia.org/wiki/Particle_filter). We begin by drawing $k$ samples $\\{p_i\\}$ from the prior and approximating it as\n",
    "$$\n",
    "\\operatorname{Pr}(p) = \\frac{1}{k}\\sum_{i=1}^k \\delta(p-p_i).\n",
    "$$\n",
    "The samples are called particles. Each particle is associated a weight $w_i$ which is conventionally set to be $1/k$ initially. The weights are updated via Bayes rule as follows:\n",
    "$$\n",
    "w_i(n) \\mapsto \\Pr(n|p_i)/k.\n",
    "$$\n",
    "The set of weights $\\{w_i(n)\\}$ are not normalized so we make one final assignment\n",
    "$$\n",
    "w_i(n) \\mapsto \\frac{w_i(n)}{\\sum_j w_j(n)}.\n",
    "$$\n",
    "Then the posterior is approximated by\n",
    "$$\n",
    "\\operatorname{Pr}(p|n) = \\sum_{i=1}^k w_i(n) \\delta(p-p_i).\n",
    "$$\n",
    "\n",
    "That's it; that's the basics! Now we will go through it a little more slowly using numpy, scipy and qinfer."
   ]
  },
  {
   "cell_type": "markdown",
   "metadata": {},
   "source": [
    "### Flipping coins"
   ]
  },
  {
   "cell_type": "markdown",
   "metadata": {},
   "source": [
    "Suppose we flip our coin 10 times. What does $\\operatorname{Pr}(n|p)$ look like?"
   ]
  },
  {
   "cell_type": "code",
   "execution_count": null,
   "metadata": {
    "collapsed": false
   },
   "outputs": [],
   "source": [
    "# Create a variable for the number of flips (go ahead and change this if you want).\n",
    "N = 10\n",
    "# This creates an array containing [0, 1, ..., N].\n",
    "n = np.arange(0, N + 1)\n",
    "\n",
    "# This sets up the figure as an matrix of subfigures with 1 row and 3 columns.\n",
    "fig, axarr = plt.subplots(1, 3, figsize=(15, 5))\n",
    "# This is the probability mass function (pmf) of the binomial distribution for p = 0.\n",
    "dist = sp.stats.binom.pmf(n, N, 0)\n",
    "# On the first (0 indexed!) subplot, make a bar plot with x-axis given by the array n and y-axis given by the pmf.\n",
    "axarr[0].bar(n, dist)\n",
    "\n",
    "# The rest is just annotation and repeating for different biases.\n",
    "axarr[0].set_xlabel(\"$n$\")\n",
    "axarr[0].set_ylabel(\"$\\operatorname{Pr}(n|p)$\")\n",
    "axarr[0].set_title(\"$p=0$\")\n",
    "\n",
    "dist = sp.stats.binom.pmf(n, N, 0.1)\n",
    "axarr[1].bar(n, dist)\n",
    "axarr[1].set_xlabel(\"$n$\")\n",
    "axarr[1].set_title(\"$p=0.1$\")\n",
    "\n",
    "dist = sp.stats.binom.pmf(n, N, 0.5)\n",
    "axarr[2].bar(n, dist)\n",
    "axarr[2].set_xlabel(\"$n$\")\n",
    "axarr[2].set_title(\"$p=0.5$\")\n",
    "\n",
    "plt.show()"
   ]
  },
  {
   "cell_type": "markdown",
   "metadata": {},
   "source": [
    "In reality, we often have data, in this case $n$, so we are interested not in $\\operatorname{Pr}(n|p)$ but in $\\operatorname{Pr}(p|n)$. We still use $\\operatorname{Pr}(n|p)$ in Bayes' rule but think of it as a function of $p$ for fixed data $n$. Below we plot what that looks like."
   ]
  },
  {
   "cell_type": "code",
   "execution_count": null,
   "metadata": {
    "collapsed": false
   },
   "outputs": [],
   "source": [
    " # This creates an array with 100 values between 0 and 1.\n",
    "p = np.linspace(0, 1, 100)\n",
    "\n",
    "fig, axarr = plt.subplots(1, 3, figsize=(15,5))\n",
    "likelihood = sp.stats.binom.pmf(0, N, p)\n",
    "axarr[0].plot(p, likelihood)\n",
    "axarr[0].set_xlabel(\"$p$\")\n",
    "axarr[0].set_ylabel(\"$\\operatorname{Pr}(n|p)$\")\n",
    "axarr[0].set_title(\"$n=0$\")\n",
    "\n",
    "likelihood = sp.stats.binom.pmf(1, N, p)\n",
    "axarr[1].plot(p, likelihood)\n",
    "axarr[1].set_xlabel(\"$p$\")\n",
    "axarr[1].set_title(\"$n=1$\")\n",
    "\n",
    "likelihood = sp.stats.binom.pmf(5, N, p)\n",
    "axarr[2].plot(p, likelihood)\n",
    "axarr[2].set_xlabel(\"$p$\")\n",
    "axarr[2].set_title(\"$n=5$\")\n",
    "\n",
    "plt.show()"
   ]
  },
  {
   "cell_type": "markdown",
   "metadata": {
    "collapsed": true
   },
   "source": [
    "Bayes' rule states:\n",
    "$$\n",
    "\\operatorname{Pr}(p|n) = \\frac{\\operatorname{Pr}(n|p)\\operatorname{Pr}(p)}{\\operatorname{Pr}(n)} = \\frac{p^n (1-p)^{N-n}}{B(n+1,N-n+1)},\n",
    "$$\n",
    "For the uniform prior $\\operatorname{Pr}(p) = 1$. Since this is just proportional to $\\operatorname{Pr}(p|n)$ we should expect the posterior to look the same.\n",
    "\n",
    "(Note that $\\operatorname{Pr}(p|n)$ is not strictly a probability, but a density, or measure, and can be greater than 1 for any particular value of $p$ since only questions about the probability over intervals return non-zero answers.)"
   ]
  },
  {
   "cell_type": "code",
   "execution_count": null,
   "metadata": {
    "collapsed": false
   },
   "outputs": [],
   "source": [
    "# Rather than write it out many times, we define a function to compute the posterior which compresses further code.\n",
    "def posterior(p, n, N):\n",
    "    return p ** n * (1 - p) ** (N - n) / sp.special.beta(n + 1, N - n + 1)\n",
    "\n",
    "# Note that notebooks have access to the variables defined in previous run cells, so we do not need to redefine N and p.\n",
    "fig, axarr = plt.subplots(1, 3, figsize=(15, 5))\n",
    "axarr[0].plot(p, posterior(p, 0, N))\n",
    "axarr[0].set_xlabel(\"$p$\")\n",
    "axarr[0].set_ylabel(\"$\\operatorname{Pr}(p|n)$\")\n",
    "axarr[0].set_title(\"$n=0$\")\n",
    "\n",
    "axarr[1].plot(p, posterior(p, 1, N))\n",
    "axarr[1].set_xlabel(\"$p$\")\n",
    "axarr[1].set_title(\"$n=1$\")\n",
    "\n",
    "axarr[2].plot(p, posterior(p, 5, N))\n",
    "axarr[2].set_xlabel(\"$p$\")\n",
    "axarr[2].set_title(\"$n=5$\")\n",
    "\n",
    "plt.show()"
   ]
  },
  {
   "cell_type": "markdown",
   "metadata": {},
   "source": [
    "### QInfer\n",
    "\n",
    "Now we will demonstrate how to use qinfer to get a numerical approximation to the posterior. The first task is create a `Model`."
   ]
  },
  {
   "cell_type": "code",
   "execution_count": null,
   "metadata": {
    "collapsed": false
   },
   "outputs": [],
   "source": [
    "# We create a model which is abstracted by the Model class, which already implements common methods \n",
    "# among models and templates what such a class needs to look like\n",
    "\n",
    "class CoinFlipsModel(qi.FiniteOutcomeModel):\n",
    "    \n",
    "    # This function is called when an instance of this class is instantiated.\n",
    "    def __init__(self):\n",
    "        # Make sure all the necessary functionality in the Model class is brought over.\n",
    "        super(CoinFlipsModel, self).__init__()\n",
    "        \n",
    "    # The following are functions that are required for the functionality of QInfer.\n",
    "    \n",
    "    @property\n",
    "    def n_modelparams(self):\n",
    "        # The dimension of the parameter space.\n",
    "        return 1 # In this case, it is just the bias p.\n",
    "    \n",
    "    @property\n",
    "    def expparams_dtype(self):\n",
    "        # many models will have complicated experiment design descriptions. Here, it is just the number of flips.\n",
    "        return int # The number of flips is an integer.\n",
    "    \n",
    "    @property\n",
    "    def is_n_outcomes_constant(self):\n",
    "        # We tell QInfer that the number of outcomes\n",
    "        # depends on which experiment we want to perform.\n",
    "        return False\n",
    "    \n",
    "    def n_outcomes(self, expparams):\n",
    "        # The number of outcomes are needed to numerically simulate experiments.\n",
    "        return expparams + 1 # the number of flips + 1\n",
    "    \n",
    "    def are_models_valid(self, modelparams):\n",
    "        # Make sure any boundaries in the parameter space are respected.\n",
    "        # In this case, the modelparams array is a bias, which must be between 0 and 1.\n",
    "        return np.logical_or(modelparams >= 0, modelparams <= 1)[:, 0]\n",
    "    \n",
    "    def likelihood(self, outcomes, modelparams, expparams):\n",
    "        # Finally, we calculate the likelihood function\n",
    "        # Again, call some necessary internal functions.\n",
    "        super(CoinFlipsModel,self).likelihood(outcomes, modelparams, expparams)\n",
    "        \n",
    "        # The tensor storing the values of the likelihood has the following expected shape.\n",
    "        like = np.zeros([outcomes.shape[0], modelparams.shape[0], 1])\n",
    "        \n",
    "        # scipy.stats.binom can vectorize over one of its arguments so we'll have to loop over the other\n",
    "        for idx in range(outcomes.shape[0]):\n",
    "            like[idx] = sp.stats.binom.pmf(outcomes[idx], expparams, modelparams)\n",
    "            \n",
    "        return like"
   ]
  },
  {
   "cell_type": "markdown",
   "metadata": {},
   "source": [
    "Now that is a bit overkill for such a simple problem, but the functionality is there really for more \"interesting\" models. But we can see that calling `model.likelihood` gives the correct results."
   ]
  },
  {
   "cell_type": "code",
   "execution_count": null,
   "metadata": {
    "collapsed": false
   },
   "outputs": [],
   "source": [
    "model = CoinFlipsModel() # This instantiates the model we just defined.\n",
    "\n",
    "# Recall that model.expparams_dtype was int and we defined N to be an integer above.\n",
    "expparams = np.array([N], dtype=int)\n",
    "# In the model we asked for outcomes.shape[0], so we have to define it as an object with a shape!\n",
    "outcome = np.array([0])\n",
    "\n",
    "fig, axarr = plt.subplots(1, 3, figsize=(15, 5))\n",
    "# Note that modelparams are expected to have at least 2D shape;\n",
    "# indexing by None adds an axis to the (100,) array we defined above for p.\n",
    "axarr[0].plot(p, model.likelihood(outcome, p[:, None], expparams)[0, :, 0]) \n",
    "axarr[0].set_xlabel(\"$p$\")\n",
    "axarr[0].set_ylabel(\"$\\operatorname{Pr}(n|p)$\")\n",
    "axarr[0].set_title(\"$n=0$\")\n",
    "\n",
    "outcome = np.array([1])\n",
    "axarr[1].plot(p, model.likelihood(outcome, p[:, None], expparams)[0, :, 0])\n",
    "axarr[1].set_xlabel(\"$p$\")\n",
    "axarr[1].set_title(\"$n=1$\")\n",
    "\n",
    "outcome = np.array([5])\n",
    "axarr[2].plot(p, model.likelihood(outcome, p[:, None], expparams)[0, :, 0])\n",
    "axarr[2].set_xlabel(\"$p$\")\n",
    "axarr[2].set_title(\"$n=5$\")\n",
    "\n",
    "plt.show()"
   ]
  },
  {
   "cell_type": "markdown",
   "metadata": {
    "collapsed": true
   },
   "source": [
    "The next step is creating a distribution. For most (and by most, I mean nearly all) distributions used in practice, there is built-in functionality. In particular, the uniform prior discussed above is defined in QInfer as follows. "
   ]
  },
  {
   "cell_type": "code",
   "execution_count": null,
   "metadata": {
    "collapsed": false
   },
   "outputs": [],
   "source": [
    "# This instantiates the built-in uniform prior over the interval [0, 1].\n",
    "prior = qi.UniformDistribution([0, 1])\n",
    "# prior.sample() returns a single randomly drawn sample.\n",
    "print(prior.sample())"
   ]
  },
  {
   "cell_type": "markdown",
   "metadata": {},
   "source": [
    "The last thing to do is define an `SMCUpdater` which implements the sequential Monte Carlo algorithm. An `SMCUpdater` takes a `model` and `prior` and then its `update` function takes data and experiment parameters to produce the posterior distribution. The number of particles used controls the approximation."
   ]
  },
  {
   "cell_type": "code",
   "execution_count": null,
   "metadata": {
    "collapsed": true
   },
   "outputs": [],
   "source": [
    "# The number of particles we will use.\n",
    "n_particles = 1000\n",
    "\n",
    "# Instantiates an updater, takes the model and prior we defined above.\n",
    "updater = qi.SMCUpdater(model, n_particles, prior)"
   ]
  },
  {
   "cell_type": "markdown",
   "metadata": {},
   "source": [
    "OK, now we can plug in some data and see how well it does."
   ]
  },
  {
   "cell_type": "code",
   "execution_count": null,
   "metadata": {
    "collapsed": false
   },
   "outputs": [],
   "source": [
    "# In the model we asked for outcomes.shape[0], so we have to define it as an object with a shape!\n",
    "outcome = np.array([5])\n",
    "\n",
    "# Call the update function to change the state of the updater, now it stores the posterior.\n",
    "updater.update(outcome, expparams)\n",
    "\n",
    "plt.figure(figsize=(10, 5))\n",
    "\n",
    "plt.plot(p, posterior(p, 5, N), label = 'True Posterior')\n",
    "updater.plot_posterior_marginal(smoothing=0.075, other_plot_args={'label': 'QInfer approximation'})\n",
    "\n",
    "plt.xlabel(\"$p$\")\n",
    "plt.ylabel(\"$\\operatorname{Pr}(n|p)$\")\n",
    "\n",
    "plt.legend()"
   ]
  },
  {
   "cell_type": "markdown",
   "metadata": {},
   "source": [
    "Not bad! Now go forth and multiply... likelihoods by priors."
   ]
  },
  {
   "cell_type": "markdown",
   "metadata": {
    "collapsed": true
   },
   "source": [
    "# What did we just do? Qinfer!\n",
    "\n",
    "You can see that Qinfer is numerical algorithm to approximate Bayesian inference. Broadly speaking, we treat Bayesian inference as the problem of inferring a set of parameters $\\boldsymbol{x} \\in \\mathbb R^n$ from data conditioned on an experiment. That is, we want to know what $\\Pr(\\boldsymbol{x}|d,e)$ is. Data are generated from a distribution given by a physical model that is known: $\\Pr(d|\\boldsymbol{x},e)$. In order to compute this, we also need a prior $\\Pr(\\boldsymbol{x})$.\n",
    "\n",
    "Qinfer mirrors these objects with the following classes\n",
    "* **qinfer.Distribution** Represents drawing samples from a prior distribution.\n",
    "* **qinfer.Model** Represents evaluation of the likelihood function.\n",
    "* **qinfer.SMCUpdater** Represents Bayesian updating via the particle filtering algorithm.\n",
    "\n",
    "Qinfer implements many commonly used distributions and models used in quantum information science, including\n",
    "* quantum state tomography\n",
    "* phase estimation\n",
    "* randomized benchmarking\n",
    "\n",
    "We'll jump right back into the deep end and learn how to use Qinfer to solve problems in these domains."
   ]
  },
  {
   "cell_type": "markdown",
   "metadata": {},
   "source": [
    "# Quantum state tomography\n",
    "\n",
    "To define the model, we start with a basis for traceless Hermitian operators\n",
    "$\\{B_j\\}_{j=1}^{d^2-1}$.  In the case of a qubit, this could be the basis of\n",
    "Pauli matrices, for example.  Then, any state $\\rho$ can be written\n",
    "$$\n",
    "    \\rho = \\frac{I}{d}+\\sum_{j=1}^{d^2-1} \\theta_j B_j,\n",
    "$$\n",
    "for some vector of parameters $\\vec\\theta$. These parameters must be constrained such that $\\rho\\geq0$. Defining a basis turns the quantum problem into an effectively classical one.\n",
    "\n",
    "Qinfer's `TomographyModel` abstracts many of the implementation\n",
    "details of this problem, exposing tomographic models and estimates in terms\n",
    "of Qutip objects, which you will learn about next lecture. For now, the added functionality provided by Qutip will be hidden.\n",
    "\n",
    "Tomography support in Qinfer requires one of the bases mentioned above in\n",
    "order to parameterize the state. Many common choices of basis are included as\n",
    "`TomographyBasis` objects, such as the [Pauli](https://en.wikipedia.org/wiki/Pauli_matrices) or [Gell-Mann](https://en.wikipedia.org/wiki/Gell-Mann_matrices) bases.\n",
    "\n",
    "Let us look at an example for a single qubit. Take the Pauli basis:\n",
    "$$\n",
    "    \\{\\sigma_x/\\sqrt{2}, \\sigma_y/\\sqrt{2}, \\sigma_z/\\sqrt{2}\\}.\n",
    "$$\n",
    "As written above, any state can now be describe by 3 real numbers $(x,y,z)$, often called the Bloch vector, as follows:\n",
    "$$\n",
    "    \\rho = 1/\\sqrt{2}\\left(\\frac{I}{\\sqrt{2}} + x\\sigma_x +y\\sigma_y + z\\sigma_z\\right).\n",
    "$$\n",
    "\n",
    "Many of the most commonly used priors are already implemented as a `Distribution`. Here we will focus on the `GinibreDistribution` because is most closely resembles the \"flat\" prior."
   ]
  },
  {
   "cell_type": "code",
   "execution_count": null,
   "metadata": {
    "collapsed": false
   },
   "outputs": [],
   "source": [
    "basis = qi.tomography.pauli_basis(1)\n",
    "prior = qi.tomography.distributions.GinibreDistribution(basis)"
   ]
  },
  {
   "cell_type": "markdown",
   "metadata": {},
   "source": [
    "REbits"
   ]
  },
  {
   "cell_type": "code",
   "execution_count": null,
   "metadata": {
    "collapsed": false
   },
   "outputs": [],
   "source": [
    "qi.tomography.plot_rebit_prior(prior, rebit_axes=[1, 3])"
   ]
  },
  {
   "cell_type": "markdown",
   "metadata": {},
   "source": [
    "In the simplest case, we can consider two-outcome measurements represented\n",
    "by the pair $\\{E,I-E\\}$.  The Born rule defines the likelihood function\n",
    "$$\n",
    "     \\Pr(E|\\rho)=\\operatorname{Tr}(\\rho E).\n",
    "$$\n",
    "For multiple measurements, we simply iterate.  For many trials of the same\n",
    "measurement, we can use a *derived model* as discussed below.\n",
    "\n",
    "\n",
    "For simulations, common randomized measurement choices are already\n",
    "implemented. For example, `RandomPauliHeuristic` chooses random\n",
    "Pauli measurements for qubit tomography."
   ]
  },
  {
   "cell_type": "markdown",
   "metadata": {},
   "source": [
    "# Phase estimation\n",
    "\n",
    "Consider the following setup. The qubit begins in the state $|+\\rangle = |0\\rangle + |1\\rangle$ and is subject to the gate $U(t) = \\exp(- j \\omega t \\sigma_z /2)$, where $t$ is time and $\\omega$ is a parameter which controls how strongly the qubit is coupled to some external degrees of freedom. Thinking about the Bloch sphere, the state starts pointing along the positive $x$-axis and rotates in the $x$-$y$ plane. The angle of rotation, which we call the *phase*, is $\\theta = \\omega t$. That is, the state becomes\n",
    "$$\n",
    "U(t)|+\\rangle = \\cos(\\omega t /2 ) |+\\rangle - j \\sin(\\omega t /2) |-\\rangle.\n",
    "$$\n",
    "Finally, we measure in the basis $\\{|+\\rangle,|-\\rangle\\}$, for which the probability is\n",
    "$$\n",
    "\\Pr(+|\\omega,t) = \\cos^2(\\omega t/2).\n",
    "$$"
   ]
  },
  {
   "cell_type": "code",
   "execution_count": 18,
   "metadata": {
    "collapsed": false
   },
   "outputs": [
    {
     "data": {
      "image/png": "[encoded data removed]",
      "text/plain": [
       "<matplotlib.figure.Figure at 0x18d6d12ba90>"
      ]
     },
     "metadata": {},
     "output_type": "display_data"
    }
   ],
   "source": [
    "fig = plt.figure()\n",
    "\n",
    "omega_max = 100\n",
    "true_omega = 21.3\n",
    "ts = np.linspace(1, 101,25) / (2 * omega_max)\n",
    "\n",
    "ps = np.cos(true_omega * ts / 2) ** 2\n",
    "\n",
    "n_counts = 10\n",
    "counts = np.random.binomial(n_counts, ps)\n",
    "\n",
    "plt.plot(ts,ps, linewidth = 3, clip_on=False)\n",
    "plt.errorbar(ts,counts/n_counts,np.sqrt(ps*(1-ps)/n_counts),\n",
    "             fmt='o',markersize='10',capsize=3, capthick = 3,elinewidth=3, clip_on=False)\n",
    "\n",
    "plt.ylim([0,1])\n",
    "plt.ylabel(\"Probability of '+'\")\n",
    "plt.xlabel(\"$t$\")\n",
    "\n",
    "plt.show()"
   ]
  },
  {
   "cell_type": "code",
   "execution_count": 19,
   "metadata": {
    "collapsed": false,
    "scrolled": false
   },
   "outputs": [
    {
     "data": {
      "image/png": "[encoded data removed]",
      "text/plain": [
       "<matplotlib.figure.Figure at 0x18d6c847128>"
      ]
     },
     "metadata": {},
     "output_type": "display_data"
    },
    {
     "name": "stdout",
     "output_type": "stream",
     "text": [
      "22.7029156607\n"
     ]
    }
   ],
   "source": [
    "pow_spec = np.abs(np.fft.rfft(counts/n_counts-0.5,n=1024))**2\n",
    "\n",
    "omega = np.linspace(0,np.pi*omega_max/2,pow_spec.size)\n",
    "plt.plot(omega[:int(pow_spec.size/2)],pow_spec[:int(pow_spec.size/2)], linewidth = 3, clip_on=False)\n",
    "\n",
    "plt.ylabel(\"Power Spectrum\")\n",
    "plt.xlabel(\"$\\\\omega$\")\n",
    "\n",
    "ylim = plt.ylim(ymin=0)\n",
    "plt.vlines(true_omega, *ylim)\n",
    "plt.ylim(*ylim);\n",
    "\n",
    "plt.show()\n",
    "\n",
    "print(np.argmax(pow_spec)*np.pi*omega_max/1024)"
   ]
  },
  {
   "cell_type": "code",
   "execution_count": 22,
   "metadata": {
    "collapsed": false
   },
   "outputs": [
    {
     "data": {
      "image/png": "[encoded data removed]",
      "text/plain": [
       "<matplotlib.figure.Figure at 0x18d6e47d208>"
      ]
     },
     "metadata": {},
     "output_type": "display_data"
    },
    {
     "name": "stdout",
     "output_type": "stream",
     "text": [
      "[ 21.56661555] [[ 0.03771898]]\n"
     ]
    }
   ],
   "source": [
    "model = qi.BinomialModel(qi.SimplePrecessionModel())\n",
    "prior = qi.distributions.UniformDistribution([0,100])\n",
    "updater = qi.SMCUpdater(model,10000,prior)\n",
    "\n",
    "for idx_exp in range(25):\n",
    "    expparams = np.array([(ts[idx_exp],n_counts)], dtype = model.expparams_dtype)\n",
    "    datum = n_counts-counts[idx_exp]\n",
    "    updater.update(datum,expparams)\n",
    "\n",
    "updater.plot_posterior_marginal(smoothing=.025, other_plot_args = {'linewidth': 3})\n",
    "\n",
    "ylim = plt.ylim(ymin=0)\n",
    "plt.vlines(true_omega, *ylim)\n",
    "plt.ylim(*ylim);\n",
    "\n",
    "plt.show()\n",
    "\n",
    "print(updater.est_mean(),updater.est_covariance_mtx())"
   ]
  },
  {
   "cell_type": "code",
   "execution_count": null,
   "metadata": {
    "collapsed": true
   },
   "outputs": [],
   "source": [
    "fig = plt.figure()\n",
    "axe = fig.add_subplot(111)\n",
    "\n",
    "omega_max = 100\n",
    "true_omega = 21.3\n",
    "ts = np.linspace(1, 101,50) / (2 * omega_max)\n",
    "\n",
    "ps = np.cos(true_omega * ts / 2) ** 2\n",
    "\n",
    "n_counts = 100\n",
    "\n",
    "counts = np.zeros_like(ps)\n",
    "counts = np.random.binomial(1, ps)\n",
    "\n",
    "axe.plot(ts,ps, linewidth = 3, clip_on=False)\n",
    "img, = axe.plot(ts,counts,'o',markersize='10', clip_on=False)\n",
    "\n",
    "prgBar = FloatProgress(min=0, max=n_counts-1)\n",
    "display(prgBar)\n",
    "\n",
    "for i in range(n_counts):\n",
    "    clear_output(wait = True)\n",
    "    prgBar.value = i\n",
    "    \n",
    "    counts += np.random.binomial(1, ps)\n",
    "    \n",
    "    img.set_ydata(counts/(i+2))\n",
    "    display(fig)\n",
    "    sleep(0.1)"
   ]
  },
  {
   "cell_type": "markdown",
   "metadata": {},
   "source": [
    "# Randomized Benchmarking\n",
    "\n",
    "In recent years, randomized benchmarking (RB) has reached a critical role in\n",
    "evaluating candidate quantum information processing systems. By\n",
    "using random sequences of gates drawn from the Clifford group, RB provides\n",
    "a likelihood function that depends on the fidelity with which each Clifford\n",
    "group element is implemented, allowing for estimates of that fidelity to\n",
    "be drawn from experimental data.\n",
    "\n",
    "In particular, suppose that each gate is implemented with fidelity $F$, and\n",
    "consider a fixed initial state and measurement. Then, the survival\n",
    "probability over sequences of length $m$ is given by [Magesan, Gambetta and Emerson(2011)](https://arxiv.org/abs/1109.6887):\n",
    "$$\n",
    "    \\Pr(\\text{survival} | p, A, B; m) = A p^m + B,\n",
    "$$\n",
    "where $p = (d F - 1) / (d - 1)$, $d$ is the dimension of the system\n",
    "under consideration, and where $A$ and $B$ describe the state preparation\n",
    "and measurement (SPAM) errors. Learning the model $\\boldsymbol{x} = (p, A, B)$\n",
    "thus provides an estimate of the fidelity of interest $F$.\n",
    "\n",
    "The likelihood function for randomized benchmarking is extremely\n",
    "simple, and requires only scalar arithmetic to compute, making it especially\n",
    "useful for avoiding the computational overhead typically required to characterize\n",
    "large quantum systems with classical resources. \n",
    "\n",
    "Qinfer supports RB experiments through the\n",
    "`RandomizedBenchmarkingModel` class. For common priors,\n",
    "Qinfer also provides a simplified interface, `simple_est_rb`,\n",
    "that reports the mean and covariance over an RB model given experimental\n",
    "data. "
   ]
  },
  {
   "cell_type": "code",
   "execution_count": null,
   "metadata": {
    "collapsed": false
   },
   "outputs": [],
   "source": [
    "p, A, B = 0.95, 0.5, 0.5\n",
    "ms = np.linspace(1,101,10).astype(int)\n",
    "\n",
    "F = A * p ** ms + B\n",
    "\n",
    "n_counts = 100\n",
    "counts = np.random.binomial(n_counts, F)\n",
    "\n",
    "plt.plot(ms,F, linewidth = 3, clip_on=False)\n",
    "plt.errorbar(ms,counts/n_counts,np.sqrt(F*(1-F)/n_counts),fmt='o',markersize='10',capsize=3, capthick = 3,elinewidth=3, clip_on=False)\n",
    "\n",
    "plt.ylim([0,1])\n",
    "plt.ylabel(\"Probability of '+'\")\n",
    "plt.xlabel(\"$m$\")\n",
    "\n",
    "plt.show()"
   ]
  },
  {
   "cell_type": "code",
   "execution_count": null,
   "metadata": {
    "collapsed": false
   },
   "outputs": [],
   "source": [
    "def func(x):\n",
    "    p, A, B = x[0], x[1], x[2]\n",
    "    return A*p**ms+B**2-counts/n_counts\n",
    "\n",
    "lstsq = sp.optimize.least_squares(func,np.array([.95,.25,.25]))"
   ]
  },
  {
   "cell_type": "code",
   "execution_count": null,
   "metadata": {
    "collapsed": false
   },
   "outputs": [],
   "source": [
    "lstsq.x"
   ]
  },
  {
   "cell_type": "code",
   "execution_count": null,
   "metadata": {
    "collapsed": false
   },
   "outputs": [],
   "source": [
    "plt.plot(ms,F, linewidth = 3, clip_on=False)\n",
    "plt.plot(ms,func(lstsq.x)+counts/n_counts, linewidth = 3, clip_on=False)"
   ]
  },
  {
   "cell_type": "code",
   "execution_count": null,
   "metadata": {
    "collapsed": false
   },
   "outputs": [],
   "source": [
    "data = np.column_stack([counts, ms, n_counts * np.ones_like(counts)])\n",
    "\n",
    "mean, cov, extra = qi.simple_est_rb(data, return_all=True, n_particles=12000, p_min=0.8)\n",
    "\n",
    "print(mean)"
   ]
  },
  {
   "cell_type": "code",
   "execution_count": null,
   "metadata": {
    "collapsed": false
   },
   "outputs": [],
   "source": [
    "extra['updater'].plot_posterior_marginal(smoothing=.01, range_max=1,other_plot_args = {'linewidth': 3},)\n",
    "plt.xlim(xmax=1)\n",
    "ylim = plt.ylim(ymin=0)\n",
    "plt.vlines(p, *ylim)\n",
    "plt.ylim(*ylim);"
   ]
  },
  {
   "cell_type": "code",
   "execution_count": null,
   "metadata": {
    "collapsed": true
   },
   "outputs": [],
   "source": []
  },
  {
   "cell_type": "code",
   "execution_count": null,
   "metadata": {
    "collapsed": true
   },
   "outputs": [],
   "source": [
    "def f(x):\n",
    "    return x"
   ]
  },
  {
   "cell_type": "code",
   "execution_count": null,
   "metadata": {
    "collapsed": false
   },
   "outputs": [],
   "source": [
    "interact(f, x=10);"
   ]
  },
  {
   "cell_type": "code",
   "execution_count": null,
   "metadata": {
    "collapsed": false
   },
   "outputs": [],
   "source": [
    "siz = 10\n",
    "dat = np.zeros((siz, siz))\n",
    "\n",
    "fig = plt.figure()\n",
    "axe = fig.add_subplot(111)\n",
    "img = axe.imshow(dat)\n",
    "\n",
    "num = 1000\n",
    "\n",
    "prgBar = FloatProgress(min=0, max=num-1)\n",
    "display(prgBar)\n",
    "\n",
    "for i in range(num):\n",
    "    clear_output(wait = True)\n",
    "    prgBar.value = i\n",
    "    pos = (randint(0, siz-1), randint(0, siz-1))\n",
    "    dat[pos] += 1\n",
    "    img.set_data(dat)\n",
    "    img.autoscale()\n",
    "    display(fig)"
   ]
  },
  {
   "cell_type": "code",
   "execution_count": null,
   "metadata": {
    "collapsed": true
   },
   "outputs": [],
   "source": []
  }
 ],
 "metadata": {
  "anaconda-cloud": {},
  "kernelspec": {
   "display_name": "Python [default]",
   "language": "python",
   "name": "python3"
  },
  "language_info": {
   "codemirror_mode": {
    "name": "ipython",
    "version": 3
   },
   "file_extension": ".py",
   "mimetype": "text/x-python",
   "name": "python",
   "nbconvert_exporter": "python",
   "pygments_lexer": "ipython3",
   "version": "3.5.2"
  },
  "widgets": {
   "state": {
    "85442d23e2624ac4916dd16da862c5cc": {
     "views": [
      {
       "cell_index": 42
      }
     ]
    },
    "ab2688c8955e4dac8bb721af6ec58a86": {
     "views": [
      {
       "cell_index": 40
      }
     ]
    }
   },
   "version": "1.2.0"
  }
 },
 "nbformat": 4,
 "nbformat_minor": 0
}

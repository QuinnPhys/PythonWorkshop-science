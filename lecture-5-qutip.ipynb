{
 "cells": [
  {
   "cell_type": "markdown",
   "metadata": {},
   "source": [
    "# Lecture 5: Open Quantum Systems with QuTiP (1.5 Hours) #"
   ]
  },
  {
   "cell_type": "markdown",
   "metadata": {},
   "source": [
    "### ABSTRACT ###\n",
    "\n",
    "In this Lecture, we will do a kind of stuff we've done less in other Lectures. **todo**\n",
    "\n",
    "---"
   ]
  },
  {
   "cell_type": "markdown",
   "metadata": {},
   "source": [
    "**todo**:\n",
    "- what *is* QuTiP?\n",
    "- what is C? Native code?\n",
    "- apply font-awesome for OS icons\n",
    "- test and finish writing macOS / OS X and Ubuntu instructions."
   ]
  },
  {
   "cell_type": "markdown",
   "metadata": {},
   "source": [
    "## Installing QuTiP ##"
   ]
  },
  {
   "cell_type": "markdown",
   "metadata": {},
   "source": [
    "QuTiP is a bit harder to install than other packages we've seen, for one simple reason: compilers. Most of what we've seen thus far has been *pure Python*, meaning that the entire library is interpreted by Python at run time. This can result in very portable and maintainable code, but can come at a performance cost. In some cases, we can pay down that performance cost by relying on the acceleration provided by NumPy and SciPy, or using more advanced tools such as Numba or even TensorFlow. QuTiP takes a different tack, though, and uses *native* code as well as pure Python. Since QuTiP generates this native code at run time, that means it must understand how to interact with compilers. Thankfully, Anaconda helps us out in this regard on Windows, while on Ubuntu and macOS / OS X this is handled by the operating system.\n",
    "\n",
    "Let's start by ensuring that we have everything we need in our Anaconda environment. Many of these packages were probably installed in previous Lectures, but that's OK; ``conda`` will let us know if we asked to install something that's already there (this is another benefit of using a package manager, by the bye)."
   ]
  },
  {
   "cell_type": "markdown",
   "metadata": {},
   "source": [
    "- **Windows**:\n",
    "```powershell\n",
    "PS >  conda install nose libpython<2.0 mingw cython\n",
    "```\n",
    "\n",
    "- **mac OS / OS X** or **Ubuntu**:\n",
    "```bash\n",
    "$ conda install nose cython\n",
    "```"
   ]
  },
  {
   "cell_type": "markdown",
   "metadata": {},
   "source": [
    "Let's break this down a bit, and look at what each package does:\n",
    "\n",
    "- ``cython``: This is a library used to write code in a kind-of-Python, kind-of-C language, and is very useful for interfacing with native code written in C.\n",
    "- ``nose``: This is a *unit testing library* that will help us ensure that QuTiP works correctly once we have it installed. Not strictly necessary, but pretty helpful.\n",
    "- ``libpython`` (Windows-only): This provides the files needed to compile native code that interacts with Python or Cython. Note that for compatability reasons, we insist on using a version earlier than 2.0.\n",
    "- ``mingw`` (Windows-only): This package provides the *minimal GNU environment for Windows*, a set of compilers used by QuTiP and many other projects to produce native code for Windows. Importantly, Anaconda will install the 64-bit version of MinGW by default. This is really useful, as the 64-bit version is otherwise tricky to install and get working."
   ]
  },
  {
   "cell_type": "markdown",
   "metadata": {},
   "source": [
    "Once everything is installed, it's helpful to first check that we correctly installed the GNU Compiler Collection (``gcc``), whether by installing MinGW or through the OS directly."
   ]
  },
  {
   "cell_type": "markdown",
   "metadata": {},
   "source": [
    "```bash\n",
    "$ gcc --version\n",
    "gcc.exe (GCC) 4.7.0 20111220 (experimental)\n",
    "Copyright (C) 2011 Free Software Foundation, Inc.\n",
    "This is free software; see the source for copying conditions.  There is NO\n",
    "warranty; not even for MERCHANTABILITY or FITNESS FOR A PARTICULAR PURPOSE.\n",
    "```"
   ]
  },
  {
   "cell_type": "markdown",
   "metadata": {},
   "source": [
    "Don't worry if you don't get exactly the same output, you may have a slightly different version. We're mainly interested in whether ``gcc`` is installed at all."
   ]
  },
  {
   "cell_type": "markdown",
   "metadata": {},
   "source": [
    "Next, let's download QuTiP itself. We'll download the latest version manually using Git, partially because the last released version (3.1.0) is fairly old, and we want to take advantage of new 4.0 features. That said, it's also a good example of how to install a Python package manually, without using ``pip`` and ``conda``. As explained in Lecture 1, ``pip`` and ``conda`` should still be used in preference to manual installation whenever it's reasonable to do so."
   ]
  },
  {
   "cell_type": "markdown",
   "metadata": {},
   "source": [
    "With that caveat aside, let's *git* to it."
   ]
  },
  {
   "cell_type": "markdown",
   "metadata": {},
   "source": [
    "```bash\n",
    "$ git clone git@github.com:qutip/qutip.git\n",
    "$ cd qutip\n",
    "```"
   ]
  },
  {
   "cell_type": "markdown",
   "metadata": {},
   "source": [
    "(**Windows-only**) If you're on Windows, we need to do one final thing before we can install QuTiP, and tell Python that we want it to talk to MinGW and not (for example) Visual Studio. We do this by using the ``distutils.cfg`` configuration file. Since ``distutils`` is itself a Python package, we can find it by using Python.\n",
    "\n",
    "*NB: Visual Studio and Visual Studio Code are not really all that related, other than branding and who made both.*"
   ]
  },
  {
   "cell_type": "code",
   "execution_count": 2,
   "metadata": {
    "collapsed": false
   },
   "outputs": [
    {
     "name": "stdout",
     "output_type": "stream",
     "text": [
      "C:\\Users\\cgranade\\Anaconda2\\lib\\distutils\\distutils.cfg\n"
     ]
    }
   ],
   "source": [
    "import os\n",
    "import distutils\n",
    "print(os.path.join(os.path.split(distutils.__file__)[0], 'distutils.cfg'))"
   ]
  },
  {
   "cell_type": "markdown",
   "metadata": {},
   "source": [
    "Here, ``distutils.__file__`` is the location at which the ``distutils`` package is installed. We use ``os.path.split`` to pick out the directory containing ``distutils``, then use ``os.path.join`` to add ``distutils.cfg`` back on. Open this file in the text editor of your choice, and make sure it contains the following:"
   ]
  },
  {
   "cell_type": "markdown",
   "metadata": {},
   "source": [
    "```\n",
    "[build]\n",
    "compiler = mingw32\n",
    "\n",
    "[build_ext]\n",
    "compiler = mingw32\n",
    "```"
   ]
  },
  {
   "cell_type": "markdown",
   "metadata": {},
   "source": [
    "*NB: This should read \"32\" even on 64-bit platforms, since 64-bit MinGW still concerns itself with the Win32 APIs. Naming things is \"fun.\"*"
   ]
  },
  {
   "cell_type": "markdown",
   "metadata": {},
   "source": [
    "Finally, we can actually run the install script provided with QuTiP:"
   ]
  },
  {
   "cell_type": "markdown",
   "metadata": {},
   "source": [
    "```bash\n",
    "$ python setup.py install\n",
    "```"
   ]
  },
  {
   "cell_type": "markdown",
   "metadata": {},
   "source": [
    "## Quick review on Quantities (10 Minutes)##"
   ]
  },
  {
   "cell_type": "markdown",
   "metadata": {},
   "source": [
    "- parts of a quantity"
   ]
  },
  {
   "cell_type": "markdown",
   "metadata": {},
   "source": [
    "## More on class inheritance (15 Minutes) ##"
   ]
  },
  {
   "cell_type": "markdown",
   "metadata": {},
   "source": [
    "## Abstract device component classes (15 Minutes) ##"
   ]
  },
  {
   "cell_type": "markdown",
   "metadata": {},
   "source": [
    "- channels, I/O, axes"
   ]
  },
  {
   "cell_type": "markdown",
   "metadata": {},
   "source": [
    "## Let's build up an Instrument and talk to it! (40 Minutes) ##"
   ]
  },
  {
   "cell_type": "markdown",
   "metadata": {},
   "source": [
    "- like catherine's [tutoral](http://catherineh.github.io/programming/2016/08/15/contributing-a-scientific-instrument-driver-to-instrumentkit.html), is there a real physical device we can use or does a dummy need written"
   ]
  },
  {
   "cell_type": "markdown",
   "metadata": {},
   "source": [
    "## Unit testing (10 Minutes) ##"
   ]
  },
  {
   "cell_type": "markdown",
   "metadata": {},
   "source": [
    "- so you dont have a bad day or make anyone else's bad"
   ]
  },
  {
   "cell_type": "markdown",
   "metadata": {},
   "source": [
    "## Lots of options of starting points, don't reinvent the wheel! ## "
   ]
  },
  {
   "cell_type": "markdown",
   "metadata": {},
   "source": [
    "- InstrumentKit\n",
    "- Instrumental (Mabuchi)\n",
    "- QuDi (Ulm, Nanodiamonds)"
   ]
  }
 ],
 "metadata": {
  "anaconda-cloud": {},
  "kernelspec": {
   "display_name": "Python 3",
   "language": "python",
   "name": "python3"
  },
  "language_info": {
   "codemirror_mode": {
    "name": "ipython",
    "version": 3
   },
   "file_extension": ".py",
   "mimetype": "text/x-python",
   "name": "python",
   "nbconvert_exporter": "python",
   "pygments_lexer": "ipython3",
   "version": "3.5.1"
  }
 },
 "nbformat": 4,
 "nbformat_minor": 1
}

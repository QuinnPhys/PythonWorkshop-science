{
 "cells": [
  {
   "cell_type": "markdown",
   "metadata": {},
   "source": [
    "# Lecture 2: Python for Scientific Computing (1.5 Hours) #"
   ]
  },
  {
   "cell_type": "markdown",
   "metadata": {},
   "source": [
    "## Manipulating Arrays w/ NumPy and SciPy (40 Minutes) ##"
   ]
  },
  {
   "cell_type": "markdown",
   "metadata": {},
   "source": [
    "- What are arrays and matrices?\n",
    "- Indexing and slicing\n",
    "- iteration over arrays\n",
    "- ``max``, ``mean``, etc. as reductions over axes\n",
    "- Broadcasting / ufuncs\n",
    "- Tensor operations (dot, contract)."
   ]
  },
  {
   "cell_type": "markdown",
   "metadata": {},
   "source": [
    "## Pandas (15 Minutes) ##"
   ]
  },
  {
   "cell_type": "markdown",
   "metadata": {},
   "source": [
    "- Loading data into data frames (NumPy arrays, CSV, Excel)\n",
    "- Groupby / pivot, etc.\n",
    "- Reductions"
   ]
  },
  {
   "cell_type": "markdown",
   "metadata": {},
   "source": [
    "## Plotting with Matplotlib and Seaborn (25 Minutes) ##"
   ]
  },
  {
   "cell_type": "markdown",
   "metadata": {},
   "source": [
    "- Basics of plotting, Jupyter Notebook support\n",
    "- Style (``ggplot``, etc.)\n",
    "- Modifying plots with labels, ticks, titles, etc.\n",
    "- Bar plots, histograms, scatter.\n",
    "- Seaborn for time series and joint plots."
   ]
  },
  {
   "cell_type": "markdown",
   "metadata": {},
   "source": [
    "## Unitful Computing with Pint and python-quantities (10 Minutes) ##"
   ]
  },
  {
   "cell_type": "markdown",
   "metadata": {},
   "source": [
    "- Show brief examples of using p-q to detect unit/dimension problems\n",
    "- Allude to IK, Mabuchi group."
   ]
  }
 ],
 "metadata": {
  "anaconda-cloud": {},
  "kernelspec": {
   "display_name": "Python [default]",
   "language": "python",
   "name": "python2"
  },
  "language_info": {
   "codemirror_mode": {
    "name": "ipython",
    "version": 2
   },
   "file_extension": ".py",
   "mimetype": "text/x-python",
   "name": "python",
   "nbconvert_exporter": "python",
   "pygments_lexer": "ipython2",
   "version": "2.7.12"
  }
 },
 "nbformat": 4,
 "nbformat_minor": 1
}

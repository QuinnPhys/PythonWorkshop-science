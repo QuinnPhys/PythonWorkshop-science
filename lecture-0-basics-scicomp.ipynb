{
 "cells": [
  {
   "cell_type": "markdown",
   "metadata": {},
   "source": [
    "# Lecture 0: Basics of Scientific Computing (3 Hours) #"
   ]
  },
  {
   "cell_type": "markdown",
   "metadata": {},
   "source": [
    "## Using the Command Line (20 Minutes) ##"
   ]
  },
  {
   "cell_type": "markdown",
   "metadata": {},
   "source": [
    "- What is the command line?\n",
    "- How to launch.\n",
    "- ``cd``, ``ls``, ``pwd`` and other directory nav\n",
    "- ``~``, ``.``, ``..`` and hidden dirs (NB: emphasize to Windows users turning on hidden folders and extensions!!)\n",
    "- Tab-completion, up/down navigation, etc.\n",
    "- ``rm``, ``cat``/``type``, ``less``/``more``, etc.\n",
    "- Environment variables (not strictly a cmd line concept, but we'll need that later anyway)"
   ]
  },
  {
   "cell_type": "markdown",
   "metadata": {},
   "source": [
    "## Package Management for Linux and Windows (15 Minutes) ##"
   ]
  },
  {
   "cell_type": "markdown",
   "metadata": {},
   "source": [
    "- What are packages?\n",
    "- (Windows only) install Chocolatey with PowerShell\n",
    "- ``apt-get install openssh``/``choco install openssh putty``"
   ]
  },
  {
   "cell_type": "markdown",
   "metadata": {},
   "source": [
    "## Secure Shell for Remote Computing (40 Minutes) ##"
   ]
  },
  {
   "cell_type": "markdown",
   "metadata": {},
   "source": [
    "- Basics of SSH (leave test server running!!!)\n",
    "- What is a public key?\n",
    "- Contrast passwords.\n",
    "- ``ssh-keygen``\n",
    "- (Windows only) Converting private keys to PuTTY format\n",
    "- Passwordless login w/ ``ssh-copy-id`` and ``authorized_keys``\n",
    "- SSH forwarding?"
   ]
  },
  {
   "cell_type": "markdown",
   "metadata": {},
   "source": [
    "## Version Control with Git (40 Minutes) ##"
   ]
  },
  {
   "cell_type": "markdown",
   "metadata": {},
   "source": [
    "- DAGs\n",
    "- Edges as diffs, mention latexdiff\n",
    "- GitHub, Bitbucket\n",
    "- Configuring Git to use SSH with Plink (Windows-only), Nano (OS X and Windows only)"
   ]
  },
  {
   "cell_type": "markdown",
   "metadata": {},
   "source": [
    "## Modern Text Editors (30 Minutes) ##"
   ]
  },
  {
   "cell_type": "markdown",
   "metadata": {},
   "source": [
    "- Sublime Text\n",
    "    - Installing\n",
    "    - Basics (command palette, navigation, project files, config files)\n",
    "    - Git package\n",
    "    - LaTeX package\n",
    "- VS Code\n",
    "    - Installing\n",
    "    - Basics (ditto)\n",
    "    - Git integration\n",
    "    - LaTeX extension\n",
    "- Rich documents in plain text with Markdown"
   ]
  },
  {
   "cell_type": "markdown",
   "metadata": {},
   "source": [
    "## Python with the Anaconda Distribution (30 Minutes) ##"
   ]
  },
  {
   "cell_type": "markdown",
   "metadata": {},
   "source": [
    "- Installing Anaconda\n",
    "    - 2 vs 3 (more on this later)\n",
    "- ``pip`` and ``conda``\n",
    "- Mention environments"
   ]
  }
 ],
 "metadata": {
  "anaconda-cloud": {},
  "kernelspec": {
   "display_name": "Python [default]",
   "language": "python",
   "name": "python2"
  },
  "language_info": {
   "codemirror_mode": {
    "name": "ipython",
    "version": 2
   },
   "file_extension": ".py",
   "mimetype": "text/x-python",
   "name": "python",
   "nbconvert_exporter": "python",
   "pygments_lexer": "ipython2",
   "version": "2.7.12"
  }
 },
 "nbformat": 4,
 "nbformat_minor": 1
}

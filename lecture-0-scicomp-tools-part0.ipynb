{
 "cells": [
  {
   "cell_type": "markdown",
   "metadata": {},
   "source": [
    "# Lecture 0: Tools for Scientific Computing 0 (1.5 Hours) #"
   ]
  },
  {
   "cell_type": "markdown",
   "metadata": {},
   "source": [
    "### ABSTRACT ###\n",
    "\n",
    "In this Lecture, we will do stuff. **todo**\n",
    "\n",
    "---"
   ]
  },
  {
   "cell_type": "markdown",
   "metadata": {},
   "source": [
    "## Using the Command Line (20 Minutes) ##"
   ]
  },
  {
   "cell_type": "markdown",
   "metadata": {},
   "source": [
    "In the process of learning about scientific computing, we will encounter many examples of using a *command line* to interact with our computing environments. You may be more familiar with a graphical user interface (GUI), where interactions occur primarily by manipulating information in a graphical manner. In contrast, command lines mostly consist of typing text to be read by a special program called a *shell*. In Linux and OS X, one especially common shell is called bash, while PowerShell and cmd.exe are much more common shells on Windows. "
   ]
  },
  {
   "cell_type": "markdown",
   "metadata": {},
   "source": [
    "<figure style=\"text-align: center\">\n",
    "    <img src=\"files/figures/win10-command-line-hello-world.png\" width=\"50%\">\n",
    "    <caption>\n",
    "        Example of a PowerShell session running on Windows 10.\n",
    "    </caption>\n",
    "</figure>\n",
    "\n",
    "<figure style=\"text-align: center\">\n",
    "    <img src=\"files/figures/macos-command-line-hello-world.png\" width=\"60%\">\n",
    "    <caption>\n",
    "        Example of a bash session running on Mac OS X El Capitan.\n",
    "    </caption>\n",
    "</figure>\n",
    "\n",
    "**TODO**: Align figures"
   ]
  },
  {
   "cell_type": "markdown",
   "metadata": {},
   "source": [
    "Using a command line presents a range of different benefits, most importantly that it takes much less work to make and maintain a powerful command-line interface than a graphical interface."
   ]
  },
  {
   "cell_type": "markdown",
   "metadata": {},
   "source": [
    "Let's get started by launching a command line session.\n",
    "\n",
    "*NB: PowerShell and bash are very different shells, but in this tutorial, we'll focus on the parts of each that work in similar ways.*\n",
    "\n",
    "- <i class=\"fa fa-windows\" aria-hidden=\"true\"></i> **Windows (7 or later)**: Open the Start Menu or Start Screen, type \"PowerShell,\" then press enter.\n",
    "- <i class=\"fa fa-apple\" aria-hidden=\"true\"></i> **OS X / macOS**: Press ⌘ + Space to launch Spotlight, and type \"Terminal,\" then press enter.\n",
    "- <i class=\"fa fa-linux\" aria-hidden=\"true\"></i> **Ubuntu**: Press the Launcher button, and type \"Terminal,\" then press enter."
   ]
  },
  {
   "cell_type": "markdown",
   "metadata": {},
   "source": [
    "<figure style=\"text-align: center;\">\n",
    "    <img src=\"files/figures/win10-start-menu-powershell.png\" width=\"30%\">\n",
    "    <img src=\"files/figures/macos-spotlight-terminal.png\" width=\"30%\">\n",
    "    <caption>\n",
    "        Running PowerShell on Windows (left) or bash on macOS (center) and Ubuntu (right).\n",
    "    </caption>\n",
    "</figure>\n",
    "    **TODO**: Ubuntu figure/align figures"
   ]
  },
  {
   "cell_type": "markdown",
   "metadata": {},
   "source": [
    "This should bring up a command-line window much like those above, complete with a *prompt*. A prompt is a string of text on the screen where you type your commands. Further, a prompt indicates different useful information. For instance, on bash, the default prompt might like look something like this (don't worry if yours is a little different):\n",
    "\n",
    "```bash\n",
    "cgranade@berith:~$\n",
    "```\n",
    "\n",
    "On PowerShell, the default prompt looks more like:\n",
    "\n",
    "```powershell\n",
    "PS C:\\Users\\cgranade> \n",
    "```\n",
    "\n",
    "*NB: For the rest of this tutorial, I'll use bash-style prompts except when PowerShell and bash differ. Often, for the sake of brevity, I will write out bash prompts with only the final dollar sign ``$``. This is a  common convention in various documentation and tutorials elsewhere online.*"
   ]
  },
  {
   "cell_type": "markdown",
   "metadata": {},
   "source": [
    "In either case, the prompt indicates the name of the *current working directory*, which is a location on your computer where the command line is currently running. Consider it a loose analogy to looking at a particular folder in File Explorer, Windows Explorer, Finder, or Nautilus. A useful command is then ``pwd``, which *prints* your current working directory. Let's try it now."
   ]
  },
  {
   "cell_type": "markdown",
   "metadata": {},
   "source": [
    "```bash\n",
    "$ pwd\n",
    "/home/cgranade\n",
    "```"
   ]
  },
  {
   "cell_type": "markdown",
   "metadata": {},
   "source": [
    "Another useful command is ``ls``, short for \"list\". This command prints out a list of files and folders located in the current directory:"
   ]
  },
  {
   "cell_type": "markdown",
   "metadata": {},
   "source": [
    "```bash\n",
    "$ ls\n",
    "a  b\n",
    "```\n",
    "\n",
    "On Windows, this will look a bit different:\n",
    "```powershell\n",
    "PS C:\\Users\\cgranade\\example> ls\n",
    "\n",
    "\n",
    "    Directory: C:\\Users\\cgranade\\example\n",
    "\n",
    "\n",
    "Mode                LastWriteTime         Length Name\n",
    "----                -------------         ------ ----\n",
    "d-----       2016-10-13   2:28 PM                a\n",
    "d-----       2016-10-13   2:28 PM                b\n",
    "```"
   ]
  },
  {
   "cell_type": "markdown",
   "metadata": {},
   "source": [
    "This tells us that the current directory has two things in it, ``a`` and ``b``. (Whether these are files or folders may be indicated by color, on Ubuntu and OS X, or by a \"d\" in the \"Mode\" column on Windows. However, for technical reasons, the indicator colors are not shown in this Jupyter notebook tutorial.)"
   ]
  },
  {
   "cell_type": "markdown",
   "metadata": {},
   "source": [
    "Of course, the directories on your computer may be quite different, so let's make a new directory we can use for this tutorial. This is handled by the ``mkdir`` command:"
   ]
  },
  {
   "cell_type": "markdown",
   "metadata": {},
   "source": [
    "```bash\n",
    "$ mkdir foo\n",
    "$ ls\n",
    "a  b  foo\n",
    "```"
   ]
  },
  {
   "cell_type": "markdown",
   "metadata": {},
   "source": [
    "**TODO** *NB: \"foo\"*\n",
    "\n",
    "To go into our new directory, we use the command ``cd`` (short for \"change directory\"— don't ask where the \"w\" went, I have no idea)."
   ]
  },
  {
   "cell_type": "markdown",
   "metadata": {},
   "source": [
    "```bash\n",
    "$ cd foo\n",
    "$ pwd\n",
    "/home/cgranade/foo\n",
    "```"
   ]
  },
  {
   "cell_type": "markdown",
   "metadata": {},
   "source": [
    "The command ``cd`` accepts a *path* that tells the command line where to find the directory you'd like to change to. In the above example, ``foo`` is an example of a *relative path*, which says to start in the current directory and then find a child directory called ``foo``. By contrast, we can also specify *absolute paths*. For very, very annoying historical reasons, paths look quite different on Windows from other operating systems. On each OS the following are examples of *absolute paths* that specify the *home folder* for the user ``cgranade``."
   ]
  },
  {
   "cell_type": "markdown",
   "metadata": {},
   "source": [
    "- <i class=\"fa fa-windows\" aria-hidden=\"true\"></i> **Windows**: ``C:\\Users\\cgranade``\n",
    "- <i class=\"fa fa-apple\" aria-hidden=\"true\"></i> **OS X / macOS**: ``/Users/cgranade``\n",
    "- <i class=\"fa fa-linux\" aria-hidden=\"true\"></i> **Ubuntu**: ``/home/cgranade``"
   ]
  },
  {
   "cell_type": "markdown",
   "metadata": {},
   "source": [
    "On OS X and Ubuntu, we can tell that these are absolute paths because they start from the *root folder*, named ``/``. On Windows, we must also specify a *drive letter*, typically ``C:\\``.\n",
    "\n",
    "*NB: Windows uses ``\\`` to separate different directories in a path, while everything else uses ``/``. This causes no small amount of annoyance and pain in the world. Thankfully, PowerShell will often convert ``/`` to ``\\``, making it easier to switch between.*"
   ]
  },
  {
   "cell_type": "markdown",
   "metadata": {},
   "source": [
    "The home folder can also be referred to by the special path ``~``"
   ]
  },
  {
   "cell_type": "markdown",
   "metadata": {},
   "source": [
    "```bash\n",
    "$ cd ~\n",
    "$ pwd\n",
    "/home/cgranade\n",
    "```"
   ]
  },
  {
   "cell_type": "markdown",
   "metadata": {},
   "source": [
    "Other important paths include ``.`` (the current directory) and ``..`` (the parent directory -  the directory above the current directory)."
   ]
  },
  {
   "cell_type": "markdown",
   "metadata": {},
   "source": [
    "```bash\n",
    "$ cd ..\n",
    "$ pwd\n",
    "/home\n",
    "$ cd ~/../..\n",
    "$ pwd\n",
    "/\n",
    "$ cd .\n",
    "$ pwd\n",
    "/\n",
    "```"
   ]
  },
  {
   "cell_type": "markdown",
   "metadata": {},
   "source": [
    "You may have noticed that typing command, file, and folder names can get a bit tedious, as can repeating commands that you've already typed. Thankfully, there are a few common shortcuts that make using command lines much easier."
   ]
  },
  {
   "cell_type": "markdown",
   "metadata": {},
   "source": [
    "- The **up** and **down** arrow keys recall the previous and next commands, respectively.\n",
    "- Pressing **Tab** will *complete* a command, file, or folder name. On Windows, this selects the first name that matches, and pressing **Tab** again will cycle through other matches. On bash, this will select a name only if it is unambiguous. Pressing **Tab** twice will print a list of matching completions."
   ]
  },
  {
   "cell_type": "markdown",
   "metadata": {},
   "source": [
    "Now that we're a bit more familiar, let's try out a few more commands. Below, I've used italics to indicate *arguments* that you can substitute accordingly.\n",
    "\n",
    "- ``rm`` *``filename``*: Removes the file *``filename``*.\n",
    "- ``mv`` *``oldfilename``* *``newfilename``*: Moves the file or folder *``oldfilename``* to *``newfilename``*.\n",
    "- ``rmdir`` *``dirname``*: Removes an empty directory *``dirname``*.\n",
    "- ``cat`` *``filename``*: Prints the contents of *``filename``* to the screen. Don't use on anything other than plain text!\n",
    "- ``more`` *``filename``* (**PowerShell**) or ``less`` *``filename``* (**bash**): Prints the contents of *``filename``* to the screen one page at a time. Press space to advance, or **q** to quit."
   ]
  },
  {
   "cell_type": "markdown",
   "metadata": {},
   "source": [
    "We now have what we need to get up and running with a wide range of command-line tools. We'll encounter a few more things as we go, but this gives us a good basis going forward."
   ]
  },
  {
   "cell_type": "markdown",
   "metadata": {},
   "source": [
    "- **TODO** Environment variables (not strictly a cmd line concept, but we'll need that later anyway)"
   ]
  },
  {
   "cell_type": "markdown",
   "metadata": {},
   "source": [
    "## Package Management for <i class=\"fa fa-linux\" aria-hidden=\"true\"></i> Linux and <i class=\"fa fa-windows\" aria-hidden=\"true\"></i> Windows (15 Minutes) ##"
   ]
  },
  {
   "cell_type": "markdown",
   "metadata": {},
   "source": [
    "One nice use of the command line is to help us install software in a more automated fashion, using *package managers*. A package manager is a piece of software which installs, updates, uninstalls, and otherwise helps us manage pieces of software called packages. Unfortunately, not everything can be easily installed using a package manager, and we'll see a few annoying examples of such along the way in this workshop. That said, when possible, keeping things within the formalism of package manangement makes it much simpler to deal with dependencies and updates, and nearly eliminates the giant security hole that is \"find and run a random \\*.exe file from somewhere on the Web.\" (Albeit at the cost of other, smaller security holes. Alas.)\n",
    "\n",
    "On Ubuntu, the Debian package manager is installed by default and is used to manage almost all software provided with the OS.\n",
    "\n",
    "On Windows, the [Chocolatey project](http://chocolatey.org/) (so named for its relation to the NuGet project, which itself is named as a \"new way to get\" software) provides a third-party package manager and a wide range of pre-built packages for common open source software projects. To install Chocolatey, we need to first run a PowerShell session as the Administrator. To do so, open the Start Menu or Screen and type \"PowerShell\" as usual, but instead of pressing enter, right-click the PowerShell menu item and select \"Run as administrator.\""
   ]
  },
  {
   "cell_type": "markdown",
   "metadata": {},
   "source": [
    "<figure style=\"text-align: center;\">\n",
    "    <img src=\"files/figures/win10-run-powershell-as-admin.png\" width=\"50%\">\n",
    "    <caption>Running PowerShell as Administrator from the Windows 10 Start Screen.</caption>\n",
    "</figure>"
   ]
  },
  {
   "cell_type": "markdown",
   "metadata": {},
   "source": [
    "You will then be presented with a User Account Control (UAC) prompt asking you if you want to run PowerShell with elevated permissions. Press OK.\n",
    "\n",
    "From the new PowerShell window, run the following commands (**TODO: explain**):"
   ]
  },
  {
   "cell_type": "markdown",
   "metadata": {},
   "source": [
    "```powershell\n",
    "PS > Set-ExecutionPolicy -Scope Process RemoteSigned\n",
    "PS > iwr https://chocolatey.org/install.ps1 -UseBasicParsing | iex \n",
    "```"
   ]
  },
  {
   "cell_type": "markdown",
   "metadata": {},
   "source": [
    "Once this command finishes, you should have Chocolatey installed. Close the PowerShell window and open a new session (also as Administrator) to make Chocolatey commands available."
   ]
  },
  {
   "cell_type": "markdown",
   "metadata": {},
   "source": [
    "Let's practice using package managers to install two pieces of software - SSH and Git - since we'll need these in the next lecture. On OS X, SSH is installed by default, and Git is installed by the Xcode installer, so we won't need a package manager to proceed."
   ]
  },
  {
   "cell_type": "markdown",
   "metadata": {},
   "source": [
    "<i class=\"fa fa-windows\" aria-hidden=\"true\"></i> **Windows**:\n",
    "```powershell\n",
    "PS > choco install git openssh putty\n",
    "```\n",
    "\n",
    "<i class=\"fa fa-linux\" aria-hidden=\"true\"></i> **Ubuntu**:\n",
    "```bash\n",
    "$ sudo\n",
    "# apt-get install openssh git\n",
    "```"
   ]
  },
  {
   "cell_type": "markdown",
   "metadata": {},
   "source": [
    "On Ubuntu, ``sudo`` launches a new bash shell with root (similar to Windows' Administrator) privileges. You may be prompted for your password at this point. The root shell is indicated by a ``#`` prompt instead of a ``$`` prompt."
   ]
  },
  {
   "cell_type": "markdown",
   "metadata": {},
   "source": [
    "**TODO**: make ubuntu instructions more robust to case in which user already has ssh and/or git installed."
   ]
  },
  {
   "cell_type": "markdown",
   "metadata": {},
   "source": [
    "## Modern Text Editors (25 Minutes) ##"
   ]
  },
  {
   "cell_type": "markdown",
   "metadata": {},
   "source": [
    "- Sublime Text\n",
    "    - Installing\n",
    "    - Basics (command palette, navigation, project files, config files)\n",
    "    - Git package (just get it installed, explain in lecture 1).\n",
    "    - LaTeX package\n",
    "- VS Code\n",
    "    - Installing\n",
    "    - Basics (ditto)\n",
    "    - LaTeX extension\n",
    "- Rich documents in plain text with Markdown"
   ]
  },
  {
   "cell_type": "markdown",
   "metadata": {},
   "source": [
    "## Python with the Anaconda Distribution (30 Minutes) ##"
   ]
  },
  {
   "cell_type": "markdown",
   "metadata": {},
   "source": [
    "- Installing Anaconda\n",
    "    - 2 vs 3 (more on this later)\n",
    "- ``pip`` and ``conda``\n",
    "- Mention environments"
   ]
  },
  {
   "cell_type": "markdown",
   "metadata": {},
   "source": [
    "---\n",
    "\n",
    "### Epilogue ###"
   ]
  },
  {
   "cell_type": "code",
   "execution_count": 1,
   "metadata": {
    "collapsed": false
   },
   "outputs": [
    {
     "data": {
      "text/html": [
       "<script src=\"https://use.fontawesome.com/ffe6421393.js\"></script>"
      ],
      "text/plain": [
       "<IPython.core.display.HTML object>"
      ]
     },
     "execution_count": 1,
     "metadata": {},
     "output_type": "execute_result"
    }
   ],
   "source": [
    "from IPython.display import HTML\n",
    "HTML('<script src=\"https://use.fontawesome.com/ffe6421393.js\"></script>')"
   ]
  }
 ],
 "metadata": {
  "anaconda-cloud": {},
  "kernelspec": {
   "display_name": "Python [conda root]",
   "language": "python",
   "name": "conda-root-py"
  },
  "language_info": {
   "codemirror_mode": {
    "name": "ipython",
    "version": 2
   },
   "file_extension": ".py",
   "mimetype": "text/x-python",
   "name": "python",
   "nbconvert_exporter": "python",
   "pygments_lexer": "ipython2",
   "version": "2.7.12"
  }
 },
 "nbformat": 4,
 "nbformat_minor": 1
}

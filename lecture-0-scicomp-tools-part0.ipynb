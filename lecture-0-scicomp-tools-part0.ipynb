{
 "cells": [
  {
   "cell_type": "markdown",
   "metadata": {},
   "source": [
    "# Lecture 0: Tools for Scientific Computing 0 (1.5 Hours) #"
   ]
  },
  {
   "cell_type": "markdown",
   "metadata": {},
   "source": [
    "### ABSTRACT ###\n",
    "\n",
    "Lecture 0 is the setup and install everthing lecture. Here we will: learn what a shell is and how to interact with the command line, install and learn about package managers, install and explore two great examples of modern text editors, and finally install and setup Python for the following lectures.\n",
    "\n",
    "---"
   ]
  },
  {
   "cell_type": "markdown",
   "metadata": {},
   "source": [
    "## Using the Command Line (20 Minutes) ##"
   ]
  },
  {
   "cell_type": "markdown",
   "metadata": {},
   "source": [
    "In the process of learning about scientific computing, we will encounter many examples of using a *command line* to interact with our computing environments. You may be more familiar with a graphical user interface (GUI), where interactions occur primarily by manipulating information in a graphical manner. In contrast, command lines mostly consist of typing text to be read by a special program called a *shell*. In Linux and OS X, one especially common shell is called bash, while PowerShell and cmd.exe are much more common shells on Windows.\n",
    "\n",
    "*NB: Both bash and PowerShell are each available on all three major operating systems, but in this Lecture, we'll focus only on those command lines installed by default on each. If you have and want to use bash on Windows or PowerShell on macOS, then please adapt the instructions accordingly.*"
   ]
  },
  {
   "cell_type": "markdown",
   "metadata": {},
   "source": [
    "<figure style=\"text-align: center\">\n",
    "    <img src=\"files/figures/win10-command-line-hello-world.png\" width=\"50%\">\n",
    "    <caption>\n",
    "        Example of a PowerShell session running on Windows 10.\n",
    "    </caption>\n",
    "</figure>\n",
    "\n",
    "<figure style=\"text-align: center\">\n",
    "    <img src=\"files/figures/macos-command-line-hello-world.png\" width=\"60%\">\n",
    "    <caption>\n",
    "        Example of a bash session running on Mac OS X El Capitan.\n",
    "    </caption>\n",
    "</figure>\n",
    "\n",
    "**TODO**: Align figures"
   ]
  },
  {
   "cell_type": "markdown",
   "metadata": {},
   "source": [
    "Using a command line presents a range of different benefits, most importantly that it takes much less work to make and maintain a powerful command-line interface than a graphical interface."
   ]
  },
  {
   "cell_type": "markdown",
   "metadata": {},
   "source": [
    "Let's get started by launching a command line session.\n",
    "\n",
    "*NB: PowerShell and bash are very different shells, but in this tutorial, we'll focus on the parts of each that work in similar ways.*\n",
    "\n",
    "- <i class=\"fa fa-windows\" aria-hidden=\"true\"></i> **Windows (7 or later)**: Open the Start Menu or Start Screen, type \"PowerShell,\" then press enter.\n",
    "- <i class=\"fa fa-apple\" aria-hidden=\"true\"></i> **OS X / macOS**: Press ⌘ + Space to launch Spotlight, and type \"Terminal,\" then press enter.\n",
    "- <i class=\"fa fa-linux\" aria-hidden=\"true\"></i> **Ubuntu**: Press the Launcher button, and type \"Terminal,\" then press enter."
   ]
  },
  {
   "cell_type": "markdown",
   "metadata": {},
   "source": [
    "<figure style=\"text-align: center;\">\n",
    "    <img src=\"files/figures/win10-start-menu-powershell.png\" width=\"30%\">\n",
    "    <img src=\"files/figures/macos-spotlight-terminal.png\" width=\"30%\">\n",
    "    <caption>\n",
    "        Running PowerShell on Windows (left) or bash on macOS (center) and Ubuntu (right).\n",
    "    </caption>\n",
    "</figure>\n",
    "    **TODO**: Ubuntu figure/align figures"
   ]
  },
  {
   "cell_type": "markdown",
   "metadata": {},
   "source": [
    "This should bring up a command-line window much like those above, complete with a *prompt*. A prompt is a string of text on the screen where you type your commands. Further, a prompt indicates different useful information. For instance, on bash, the default prompt might like look something like this (don't worry if yours is a little different):\n",
    "\n",
    "```bash\n",
    "cgranade@berith:~$\n",
    "```\n",
    "\n",
    "On PowerShell, the default prompt looks more like:\n",
    "\n",
    "```\n",
    "PS C:\\Users\\cgranade> \n",
    "```\n",
    "\n",
    "*NB: For the rest of this tutorial, I'll use bash-style prompts except when PowerShell and bash differ. Often, for the sake of brevity, I will write out bash prompts with only the final dollar sign ``$``. This is a  common convention in various documentation and tutorials elsewhere online.*"
   ]
  },
  {
   "cell_type": "markdown",
   "metadata": {},
   "source": [
    "In either case, the prompt indicates the name of the *current working directory*, which is a location on your computer where the command line is currently running. Consider it a loose analogy to looking at a particular folder in File Explorer, Windows Explorer, Finder, or Nautilus. A useful command is then ``pwd``, which *prints* your current working directory. Let's try it now."
   ]
  },
  {
   "cell_type": "markdown",
   "metadata": {},
   "source": [
    "```bash\n",
    "$ pwd\n",
    "/home/cgranade\n",
    "```"
   ]
  },
  {
   "cell_type": "markdown",
   "metadata": {},
   "source": [
    "Another useful command is ``ls``, short for \"list\". This command prints out a list of files and folders located in the current directory:\n",
    "\n",
    "```bash\n",
    "$ ls\n",
    "a  b\n",
    "```"
   ]
  },
  {
   "cell_type": "markdown",
   "metadata": {},
   "source": [
    "On Windows, this will look a bit different:\n",
    "```\n",
    "PS C:\\Users\\cgranade\\example> ls\n",
    "\n",
    "\n",
    "    Directory: C:\\Users\\cgranade\\example\n",
    "\n",
    "\n",
    "Mode                LastWriteTime         Length Name\n",
    "----                -------------         ------ ----\n",
    "d-----       2016-10-13   2:28 PM                a\n",
    "d-----       2016-10-13   2:28 PM                b\n",
    "```"
   ]
  },
  {
   "cell_type": "markdown",
   "metadata": {},
   "source": [
    "This tells us that the current directory has two things in it, ``a`` and ``b``. (Whether these are files or folders may be indicated by color, on Ubuntu and OS X, or by a \"d\" in the \"Mode\" column on Windows. However, for technical reasons, the indicator colors are not shown in this Jupyter notebook tutorial.)"
   ]
  },
  {
   "cell_type": "markdown",
   "metadata": {},
   "source": [
    "Of course, the directories on your computer may be quite different, so let's make a new directory we can use for this tutorial. This is handled by the ``mkdir`` command:"
   ]
  },
  {
   "cell_type": "markdown",
   "metadata": {},
   "source": [
    "```bash\n",
    "$ mkdir foo\n",
    "$ ls\n",
    "a  b  foo\n",
    "```"
   ]
  },
  {
   "cell_type": "markdown",
   "metadata": {},
   "source": [
    "*NB: ``foo``, ``bar`` and occasionally ``baz`` are meaningless names that programmers will often use in example code. Though there are some just-so-stories for their history, such as a supposed but dubious origin in the rather impolite acronym \"**f**★★★ed **u**p **b**eyond **a**ll **r**ecognition\" used by the US Army throughout WWII, there's no universal consensus on where these names came from. We'll use them through out these Lectures to indicate that a particular variable, object, string or whatever is itself meaningless, and is used only as an example.*\n",
    "\n",
    "To go into our new directory, we use the command ``cd`` (short for \"change directory\"— don't ask where the \"w\" went, I have no idea)."
   ]
  },
  {
   "cell_type": "markdown",
   "metadata": {},
   "source": [
    "```bash\n",
    "$ cd foo\n",
    "$ pwd\n",
    "/home/cgranade/foo\n",
    "```"
   ]
  },
  {
   "cell_type": "markdown",
   "metadata": {},
   "source": [
    "The command ``cd`` accepts a *path* that tells the command line where to find the directory you'd like to change to. In the above example, ``foo`` is an example of a *relative path*, which says to start in the current directory and then find a child directory called ``foo``. By contrast, we can also specify *absolute paths*. For very, very annoying historical reasons, paths look quite different on Windows from other operating systems. On each OS the following are examples of *absolute paths* that specify the *home folder* for the user ``cgranade``."
   ]
  },
  {
   "cell_type": "markdown",
   "metadata": {},
   "source": [
    "- <i class=\"fa fa-windows\" aria-hidden=\"true\"></i> **Windows**: ``C:\\Users\\cgranade``\n",
    "- <i class=\"fa fa-apple\" aria-hidden=\"true\"></i> **OS X / macOS**: ``/Users/cgranade``\n",
    "- <i class=\"fa fa-linux\" aria-hidden=\"true\"></i> **Ubuntu**: ``/home/cgranade``"
   ]
  },
  {
   "cell_type": "markdown",
   "metadata": {},
   "source": [
    "On <i class=\"fa fa-apple\" aria-hidden=\"true\"></i> OS X and <i class=\"fa fa-linux\" aria-hidden=\"true\"></i> Ubuntu, we can tell that these are absolute paths because they start from the *root folder*, named ``/``. On <i class=\"fa fa-windows\" aria-hidden=\"true\"></i> Windows, we must also specify a *drive letter*, typically ``C:\\``.\n",
    "\n",
    "*NB: Windows uses ``\\`` to separate different directories in a path, while everything else uses ``/``. This causes no small amount of annoyance and pain in the world. Thankfully, PowerShell will often convert ``/`` to ``\\``, making it easier to switch between.*"
   ]
  },
  {
   "cell_type": "markdown",
   "metadata": {},
   "source": [
    "The home folder can also be referred to by the special path ``~``"
   ]
  },
  {
   "cell_type": "markdown",
   "metadata": {},
   "source": [
    "```bash\n",
    "$ cd ~\n",
    "$ pwd\n",
    "/home/cgranade\n",
    "```"
   ]
  },
  {
   "cell_type": "markdown",
   "metadata": {},
   "source": [
    "Other important paths include ``.`` (the current directory) and ``..`` (the parent directory -  the directory above the current directory)."
   ]
  },
  {
   "cell_type": "markdown",
   "metadata": {},
   "source": [
    "```bash\n",
    "$ cd ..\n",
    "$ pwd\n",
    "/home\n",
    "$ cd ~/../..\n",
    "$ pwd\n",
    "/\n",
    "$ cd .\n",
    "$ pwd\n",
    "/\n",
    "```"
   ]
  },
  {
   "cell_type": "markdown",
   "metadata": {},
   "source": [
    "You may have noticed that typing command, file, and folder names can get a bit tedious, as can repeating commands that you've already typed. Thankfully, there are a few common shortcuts that make using command lines much easier."
   ]
  },
  {
   "cell_type": "markdown",
   "metadata": {},
   "source": [
    "- The **up** and **down** arrow keys recall the previous and next commands, respectively.\n",
    "- Pressing **Tab** will *complete* a command, file, or folder name. On Windows, this selects the first name that matches, and pressing **Tab** again will cycle through other matches. On bash, this will select a name only if it is unambiguous. Pressing **Tab** twice will print a list of matching completions.\n",
    "- **Ctrl-C** and **Ctrl-V** don't do what you expect in the terminal. **Ctrl-C** stops the currently evaluating code immeduately, and **Ctrl-V** may not paste. If you want to paste you can right mouse click or use **Ctrl-Shift-C** and **Ctrl-Shift-V**(*NB: ⌘-C and ⌘-V do, since they don't directly conflict with Ctrl-C and Ctrl-V.*)"
   ]
  },
  {
   "cell_type": "markdown",
   "metadata": {},
   "source": [
    "Now that we're a bit more familiar, let's try out a few more commands. Below, I've used italics to indicate *arguments* that you can substitute accordingly.\n",
    "\n",
    "- ``rm`` *``filename``*: Removes the file *``filename``*.\n",
    "- ``mv`` *``oldfilename``* *``newfilename``*: Moves the file or folder *``oldfilename``* to *``newfilename``*.\n",
    "- ``rmdir`` *``dirname``*: Removes an empty directory *``dirname``*.\n",
    "- ``cat`` *``filename``*: Prints the contents of *``filename``* to the screen. Don't use on anything other than plain text!\n",
    "- ``more`` *``filename``* (**PowerShell**) or ``less`` *``filename``* (**bash**): Prints the contents of *``filename``* to the screen one page at a time. Press **space** to advance, or **q** to quit."
   ]
  },
  {
   "cell_type": "markdown",
   "metadata": {},
   "source": [
    "We now have what we need to get up and running with a wide range of command-line tools. We'll encounter a few more things as we go, but this gives us a good basis going forward."
   ]
  },
  {
   "cell_type": "markdown",
   "metadata": {},
   "source": [
    "- **TODO** Environment variables (not strictly a cmd line concept, but we'll need that later anyway)"
   ]
  },
  {
   "cell_type": "markdown",
   "metadata": {},
   "source": [
    "## Package Management for Linux and Windows (15 Minutes) ##"
   ]
  },
  {
   "cell_type": "markdown",
   "metadata": {},
   "source": [
    "One nice use of the command line is to help us install software in a more automated fashion, using *package managers*. A package manager is a piece of software which installs, updates, uninstalls, and otherwise helps us manage pieces of software called packages. Unfortunately, not everything can be easily installed using a package manager, and we'll see a few annoying examples of such along the way in this workshop. That said, when possible, keeping things within the formalism of package manangement makes it much simpler to deal with dependencies and updates, and nearly eliminates the giant security hole that is \"find and run a random \\*.exe file from somewhere on the Web.\" (Albeit at the cost of other, smaller security holes. Alas.)\n",
    "\n",
    "- <i class=\"fa fa-apple\" aria-hidden=\"true\"></i> **OS X**: SSH is installed by default, and Git is installed by the Xcode installer, so we won't need a package manager to proceed.\n",
    "\n",
    "\n",
    "- <i class=\"fa fa-linux\" aria-hidden=\"true\"></i> **Ubuntu**: the Debian package manager is installed by default and is used to manage almost all software provided with the OS.\n",
    "\n",
    "\n",
    "- <i class=\"fa fa-windows\" aria-hidden=\"true\"></i> **Windows**: the [Chocolatey project](http://chocolatey.org/) (so named for its relation to the NuGet project, which itself is named as a \"new way to get\" software) provides a third-party package manager and a wide range of pre-built packages for common open source software projects. To install Chocolatey, we need to first run a PowerShell session as the Administrator. To do so, open the Start Menu or Screen and type \"PowerShell\" as usual, but instead of pressing enter, right-click the PowerShell menu item and select \"Run as administrator.\""
   ]
  },
  {
   "cell_type": "markdown",
   "metadata": {},
   "source": [
    "<figure style=\"text-align: center;\">\n",
    "    <img src=\"files/figures/win10-run-powershell-as-admin.png\" width=\"50%\">\n",
    "    <caption>Running PowerShell as Administrator from the Windows 10 Start Screen.</caption>\n",
    "</figure>"
   ]
  },
  {
   "cell_type": "markdown",
   "metadata": {},
   "source": [
    "You will then be presented with a User Account Control (UAC) prompt asking you if you want to run PowerShell with elevated permissions. Press OK.\n",
    "\n",
    "From the new PowerShell window, run the following command to enable running signed scripts from the web. Note that this policy will last only as long as the current PowerShell session, as indicated by ``-Scope Process``.\n",
    "\n",
    "```powershell\n",
    "PS > Set-ExecutionPolicy -Scope Process RemoteSigned\n",
    "```"
   ]
  },
  {
   "cell_type": "markdown",
   "metadata": {},
   "source": [
    "If you're running PowerShell 3 or later (this is the default on Windows 8 and above, but may also be the present on Windows 7 if you've updated PowerShell), then you can use the ``iwr`` command (``Invoke-WebRequest``) to download the Chocolatey installer, and run it with ``iex`` (``Invoke-Expression``)."
   ]
  },
  {
   "cell_type": "markdown",
   "metadata": {},
   "source": [
    "```\n",
    "PS > iwr https://chocolatey.org/install.ps1 -UseBasicParsing | iex \n",
    "```"
   ]
  },
  {
   "cell_type": "markdown",
   "metadata": {},
   "source": [
    "On PowerShell version 2, the ``iwr`` command doesn't exist, so the actual command we need to run is a bit less straightforward:"
   ]
  },
  {
   "cell_type": "markdown",
   "metadata": {},
   "source": [
    "```\n",
    "PS > iex ((New-Object System.Net.WebClient).DownloadString('https://chocolatey.org/install.ps1'))\n",
    "```"
   ]
  },
  {
   "cell_type": "markdown",
   "metadata": {},
   "source": [
    "In either case, once the install command finishes, you should have Chocolatey installed. Close the PowerShell window and open a new session (also as Administrator) to make Chocolatey commands available."
   ]
  },
  {
   "cell_type": "markdown",
   "metadata": {},
   "source": [
    "Let's practice using package managers to install two pieces of software - SSH and Git - since we'll need these in the next lecture. (OS X can just follow along, they are both already installed)"
   ]
  },
  {
   "cell_type": "markdown",
   "metadata": {},
   "source": [
    "### <i class=\"fa fa-windows\" aria-hidden=\"true\"></i> Windows###\n",
    "```\n",
    "PS > choco install git openssh putty\n",
    "```\n",
    "\n",
    "If a package has already been installed, Chocolatey will print out a warning like ``openssh v0.0.1.0 already installed``."
   ]
  },
  {
   "cell_type": "markdown",
   "metadata": {},
   "source": [
    "### <i class=\"fa fa-linux\" aria-hidden=\"true\"></i> Ubuntu ###\n",
    "```bash\n",
    "$ sudo\n",
    "# apt-get install ssh git\n",
    "```"
   ]
  },
  {
   "cell_type": "markdown",
   "metadata": {},
   "source": [
    "On <i class=\"fa fa-linux\" aria-hidden=\"true\"></i> Ubuntu, ``sudo`` launches a new bash shell with root (similar to Windows' Administrator) privileges. You may be prompted for your password at this point. The root shell is indicated by a ``#`` prompt instead of a ``$`` prompt. If ``ssh`` or ``git`` is already installed, you may see something like ``ssh is already the newest version`` printed out."
   ]
  },
  {
   "cell_type": "markdown",
   "metadata": {},
   "source": [
    "## Modern Text Editors (25 Minutes) ##"
   ]
  },
  {
   "cell_type": "markdown",
   "metadata": {},
   "source": [
    "We need one more important tool before actually getting to Python, which is the ever-usefull text editor. These modern editors are no Notepad ot Text Edit, they sit somewhere between traditional text editors and a fully-fleged software development platform. The real strength of the newer text editors (like Sublime Text and VS Code that we will be looking at here) is that they also have their own packages/plugins that also have their own pacakge manager! Yeah I know, how many package managers can one possibly need... Anyway, these packages allow the text editor to hook up to complilers for your code (LaTeX, C, etc. ), they can help you with version control (see [lecture 1](https://nbviewer.jupyter.org/github/QuinnPhys/PythonWorkshop-science/blob/master/lecture-1-scicomp-tools-part1.ipynb)), and most importantly allow you to customize almost anything!   "
   ]
  },
  {
   "cell_type": "markdown",
   "metadata": {},
   "source": [
    "### Sublime Text: Installing ###"
   ]
  },
  {
   "cell_type": "markdown",
   "metadata": {},
   "source": [
    "### <i class=\"fa fa-windows\" aria-hidden=\"true\"></i> Windows###\n",
    "Start by runing the ``.exe`` you have already downloaded from [here](https://download.sublimetext.com/Sublime%20Text%20Build%203126%20x64%20Setup.exe). Install Sublime to the default path ``C:\\Program Files\\Sublime Text 3``, and if you want ``Open with Sublime`` to show up in your right click menu in folders, you can check the box ``add to explorer context menu``. Let it complete the install and you are done. "
   ]
  },
  {
   "cell_type": "markdown",
   "metadata": {},
   "source": [
    "<figure style=\"text-align: center;\">\n",
    "    <img src=\"files/figures/win10-sublime-install-path.png\" width=\"50%\">\n",
    "    <caption>Installing Sublime Text 3 on Windows to the default path.</caption>\n",
    "</figure>"
   ]
  },
  {
   "cell_type": "markdown",
   "metadata": {},
   "source": [
    "### <i class=\"fa fa-apple\" aria-hidden=\"true\"></i> **OS X** ###"
   ]
  },
  {
   "cell_type": "markdown",
   "metadata": {},
   "source": [
    "**TODO**"
   ]
  },
  {
   "cell_type": "markdown",
   "metadata": {},
   "source": []
  },
  {
   "cell_type": "markdown",
   "metadata": {},
   "source": [
    "### <i class=\"fa fa-linux\" aria-hidden=\"true\"></i> Ubuntu ###"
   ]
  },
  {
   "cell_type": "markdown",
   "metadata": {},
   "source": [
    "**TODO**"
   ]
  },
  {
   "cell_type": "markdown",
   "metadata": {},
   "source": []
  },
  {
   "cell_type": "markdown",
   "metadata": {},
   "source": [
    "### Sublime Text: Using ###"
   ]
  },
  {
   "cell_type": "markdown",
   "metadata": {},
   "source": [
    "**TODO**\n",
    "- Sublime Text\n",
    "    - Installing\n",
    "    - Basics (command palette, navigation, project files, config files)\n",
    "    - Git package (just get it installed, explain in lecture 1).\n",
    "    - LaTeX package"
   ]
  },
  {
   "cell_type": "markdown",
   "metadata": {},
   "source": [
    "### VS Code: Installing ###"
   ]
  },
  {
   "cell_type": "markdown",
   "metadata": {},
   "source": [
    "### <i class=\"fa fa-windows\" aria-hidden=\"true\"></i> Windows###\n",
    "Start by runing the ``.exe`` you have already downloaded from [here](https://go.microsoft.com/fwlink/?LinkID=623230). Install VS Code to the default path ``C:\\Program Files (x86)\\Microsoft VS Code``, let it make a start menu folder. Let it complete the install and you are done. "
   ]
  },
  {
   "cell_type": "markdown",
   "metadata": {},
   "source": []
  },
  {
   "cell_type": "markdown",
   "metadata": {},
   "source": []
  },
  {
   "cell_type": "markdown",
   "metadata": {},
   "source": [
    "### <i class=\"fa fa-apple\" aria-hidden=\"true\"></i> **OS X** ###"
   ]
  },
  {
   "cell_type": "markdown",
   "metadata": {},
   "source": []
  },
  {
   "cell_type": "markdown",
   "metadata": {},
   "source": []
  },
  {
   "cell_type": "markdown",
   "metadata": {},
   "source": [
    "### <i class=\"fa fa-linux\" aria-hidden=\"true\"></i> Ubuntu ###"
   ]
  },
  {
   "cell_type": "markdown",
   "metadata": {},
   "source": []
  },
  {
   "cell_type": "markdown",
   "metadata": {},
   "source": []
  },
  {
   "cell_type": "markdown",
   "metadata": {},
   "source": [
    "### VS Code: Using ###"
   ]
  },
  {
   "cell_type": "markdown",
   "metadata": {},
   "source": [
    "**TODO**\n",
    "- VS Code\n",
    "    - Installing\n",
    "    - Basics (ditto)\n",
    "    - LaTeX extension\n",
    "- Rich documents in plain text with Markdown"
   ]
  },
  {
   "cell_type": "markdown",
   "metadata": {},
   "source": [
    "## Python with the Anaconda Distribution (30 Minutes) ##"
   ]
  },
  {
   "cell_type": "markdown",
   "metadata": {},
   "source": [
    "We're now ready to go on and install Python itself. We'll do so using the [*Anaconda distribution*](https://www.continuum.io/), which bundles Python together with many other useful tools for scientific computation. Hopefully, you should already have the installer for Anaconda downloaded, such that we just need to run it. For reasons we'll discuss further in the next lecture, we'll install somewhat different versions of Anaconda on Windows from on OS X or Linux. That is, we install Anaconda for Python 2.7 on Windows, and Anaconda for 3.5 everywhere else.\n",
    "\n",
    "**TODO**: OS X, instructions. Emphasize for this user only!!!\n",
    "\n",
    "### <i class=\"fa fa-windows\" aria-hidden=\"true\"></i> Windows ###\n",
    "\n",
    "Open Windows Explorer (Windows 8.1 and earlier) or File Explorer (Windows 10 and later) by pressing <i class=\"fa fa-windows\" aria-hidden=\"true\"></i>-E, then navigate to where you downloaded the Anaconda installer and double-click it. You will then be presented with a \"wizard-style\" installer. Make sure to select \"Just Me,\" and to ensure that the Anaconda installer adds Python to the system PATH variable (this is the default option, but it's good to double-check)."
   ]
  },
  {
   "cell_type": "markdown",
   "metadata": {},
   "source": [
    "<figure style=\"text-align: center\">\n",
    "    <img src=\"files/figures/win10-anaconda-install-justme.PNG\" witdh=\"60%\">\n",
    "    <caption>\n",
    "        The \"Just Me\" option in the Anaconda installer for Windows.\n",
    "    </caption>\n",
    "</figure>"
   ]
  },
  {
   "cell_type": "markdown",
   "metadata": {},
   "source": [
    "After the install completes, launch a new PowerShell session, and check that Python is installed correctly by running ``Get-Command``. You should see something like the following."
   ]
  },
  {
   "cell_type": "markdown",
   "metadata": {},
   "source": [
    "```powershell\n",
    "PS > Get-Command python\n",
    "\n",
    "CommandType     Name                                               Version    Source\n",
    "-----------     ----                                               -------    ------\n",
    "Application     python.exe                                         0.0.0.0    C:\\Anaconda2\\python.exe\n",
    "```"
   ]
  },
  {
   "cell_type": "markdown",
   "metadata": {},
   "source": [
    "### <i class=\"fa fa-linux\" aria-hidden=\"true\"></i> Ubuntu ###\n",
    "\n",
    "*NB: If you are using Windows 10 with the Windows Subsystem for Linux installed, then these instructions also work for Bash on Ubuntu on Windows.*\n",
    "\n",
    "From bash, navigate to whichever directory you saved the installer to, using ``cd`` as described above. Once you are in the right directory, run the following command (you can use tab-completion to enter in the name of the Anaconda installer)."
   ]
  },
  {
   "cell_type": "markdown",
   "metadata": {},
   "source": [
    "```bash\n",
    "$ bash Anaconda3-4.2.0-Linux-x86_64.sh \n",
    "```"
   ]
  },
  {
   "cell_type": "markdown",
   "metadata": {},
   "source": [
    "*NB: Do **not** run the Anaconda installer with ``sudo``, as we will be installing for a current user only.*"
   ]
  },
  {
   "cell_type": "markdown",
   "metadata": {},
   "source": [
    "This will start the Anaconda installer at the command line. Press **enter** to view the license agreement, which will load in ``less``. Once you've read it to your satisfaction, press **q** to return to the installer. If you agree, type ``yes`` and press **enter** to proceed. Select the default installation location by pressing **enter**; Anaconda will then start the installation properly. After the installer copies everything over, you'll be presented with one last prompt:\n",
    "\n",
    "```\n",
    "Do you wish the installer to prepend the Anaconda3 install location\n",
    "to PATH in your /home/cgranade/.bashrc ? [yes|no]\n",
    "[no] >>>\n",
    "```\n",
    "\n",
    "Despite the default of ``[no]`` listed here, we <span style=\"color: red\">***strongly***</span> encourage typing ``yes`` instead. This will make the Anaconda installation available to command line sessions automatically, saving a lot of confusion later on."
   ]
  },
  {
   "cell_type": "markdown",
   "metadata": {},
   "source": [
    "After Anaconda has installed, we'll need to update ``$PATH``, the environment variable that bash uses to find commands. We can do this either by closing and reopening the terminal window, or by running ``source ~/.bashrc``. In either case, confirm that the ``python`` command is the version installed by Anaconda by using ``which``:"
   ]
  },
  {
   "cell_type": "markdown",
   "metadata": {},
   "source": [
    "```bash\n",
    "$ which python\n",
    "/home/cgranade/anaconda3/bin/python\n",
    "```"
   ]
  },
  {
   "cell_type": "markdown",
   "metadata": {},
   "source": [
    "If you instead see something similar to ``/usr/bin/python``, then your ``$PATH`` environment variable points to the system version of Python."
   ]
  },
  {
   "cell_type": "markdown",
   "metadata": {},
   "source": [
    "### Managing Python Packages with ``pip`` and ``conda`` ###"
   ]
  },
  {
   "cell_type": "markdown",
   "metadata": {},
   "source": [
    "Package managers are very useful, as we've seen above. In fact, they are so useful that programmers have an extremely \"fun\" habit of writing new ones for each task. Indeed, this state of affairs is extreme enough that Microsoft one-upped everybody entirely by making a package manager manager that manages other packages managers, but doesn't manage any sort of package directly. Computers are \"fun,\" because people are \"fun.\""
   ]
  },
  {
   "cell_type": "markdown",
   "metadata": {},
   "source": [
    "In any case, the operational definition of \"fun\" being what it is, Python and the Anaconda distribution each come with their own package managers, called ``pip`` and ``conda`` respectively. The ``conda`` package manager has the advantage of supporting scientific software packages in other languages (currently R and JavaScript) as well as Python, and also has richer support for compiled code. On the other hand, ``pip`` works with Python distributions other than Anaconda, and thus enjoys much wider support. Our strategy moving forward will thus be to prefer ``conda`` packages when they exist, and otherwise use ``pip``."
   ]
  },
  {
   "cell_type": "markdown",
   "metadata": {},
   "source": [
    "Thankfully, both ``pip`` and ``conda`` are quite simple to use for the tasks we care about. Let's go on and try each by installing some packages that we'll need in the rest of the lectures.\n",
    "\n",
    "*NB for Windows users: Both ``pip`` and ``conda`` work the same way on both bash and PowerShell, so we'll display bash-style prompts from here on out.*"
   ]
  },
  {
   "cell_type": "markdown",
   "metadata": {},
   "source": [
    "```bash\n",
    "$ conda install seaborn ipyparallel future\n",
    "$ pip install quantities qinfer instrumentkit pint\n",
    "```"
   ]
  },
  {
   "cell_type": "markdown",
   "metadata": {},
   "source": [
    "These commands should each install several other packages that are needed as dependencies, saving us from having to manually figure out what requires what."
   ]
  },
  {
   "cell_type": "markdown",
   "metadata": {},
   "source": [
    "As a final digression for this Lecture, the discussion of the proliferation of package managers aside, ``pip`` and ``conda`` each have a major advantage over system package managers that is quite worth mentioning: environments. Though this is a more advanced feature, it's worth being aware of what environments can do. In particular, environments are a way of managing parallel installations of Python, such that packages can be installed into a particular environment without conflicting with each other. This is a huge benefit for reproducible research, as one can simply distribute a description of what ``pip`` and ``conda`` packages are needed to build an environment. In ``conda``, such descriptions are given by the file ``environment.yml``, while ``pip`` calls it ``requirements.txt``."
   ]
  },
  {
   "cell_type": "markdown",
   "metadata": {},
   "source": [
    "---\n",
    "\n",
    "### Epilogue ###"
   ]
  },
  {
   "cell_type": "markdown",
   "metadata": {},
   "source": [
    "We use the following Python code to enable the use of OS icons in this notebook."
   ]
  },
  {
   "cell_type": "code",
   "execution_count": 2,
   "metadata": {
    "collapsed": false
   },
   "outputs": [
    {
     "data": {
      "text/html": [
       "<script src=\"https://use.fontawesome.com/ffe6421393.js\"></script>"
      ],
      "text/plain": [
       "<IPython.core.display.HTML object>"
      ]
     },
     "execution_count": 2,
     "metadata": {},
     "output_type": "execute_result"
    }
   ],
   "source": [
    "from IPython.display import HTML\n",
    "HTML('<script src=\"https://use.fontawesome.com/ffe6421393.js\"></script>')"
   ]
  }
 ],
 "metadata": {
  "anaconda-cloud": {},
  "kernelspec": {
   "display_name": "Python 2",
   "language": "python",
   "name": "python2"
  },
  "language_info": {
   "codemirror_mode": {
    "name": "ipython",
    "version": 2
   },
   "file_extension": ".py",
   "mimetype": "text/x-python",
   "name": "python",
   "nbconvert_exporter": "python",
   "pygments_lexer": "ipython2",
   "version": "2.7.12"
  }
 },
 "nbformat": 4,
 "nbformat_minor": 1
}

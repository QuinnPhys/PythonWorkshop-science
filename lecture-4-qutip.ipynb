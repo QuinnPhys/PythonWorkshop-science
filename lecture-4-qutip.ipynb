{
 "cells": [
  {
   "cell_type": "markdown",
   "metadata": {},
   "source": [
    "# Lecture 4: Open Quantum Systems with QuTiP (1.5 Hours) #"
   ]
  },
  {
   "cell_type": "markdown",
   "metadata": {},
   "source": [
    "### ABSTRACT ###\n",
    "\n",
    "In this Lecture, we will do a kind of stuff we've done less in other Lectures. **todo**\n",
    "\n",
    "---"
   ]
  },
  {
   "cell_type": "markdown",
   "metadata": {},
   "source": [
    "**todo**:\n",
    "- test and finish writing macOS / OS X and Ubuntu instructions."
   ]
  },
  {
   "cell_type": "markdown",
   "metadata": {},
   "source": [
    "## Preamble ##"
   ]
  },
  {
   "cell_type": "markdown",
   "metadata": {},
   "source": [
    "As per Lecture 1, we do a bit of setup to make plotting support available in this Lecture."
   ]
  },
  {
   "cell_type": "code",
   "execution_count": 109,
   "metadata": {
    "collapsed": true
   },
   "outputs": [],
   "source": [
    "import matplotlib.pyplot as plt\n",
    "%matplotlib inline\n",
    "try: plt.style.use('ggplot')\n",
    "except: pass"
   ]
  },
  {
   "cell_type": "markdown",
   "metadata": {},
   "source": [
    "## What *is* QuTiP? ##"
   ]
  },
  {
   "cell_type": "markdown",
   "metadata": {},
   "source": [
    "Before anything else, it helps to say a bit about what QuTiP even *is*. Roughly speaking, it's right there in the name: \"quantum toolbox in Python.\" QuTiP is a whole set of related tools for simulating quantum systems and manipulating data for use in quantum information. In particular, QuTiP allows us to easily model primitive objects and operations in quantum mechanics, saving us from writing the same basic code over and over again. We'll cover only a small amount of QuTiP's functionality in this Lecture, focusing on the fundamental data structures used by QuTiP to represent quantum concepts. If you're interested in going further, please see http://qutip.org."
   ]
  },
  {
   "cell_type": "markdown",
   "metadata": {},
   "source": [
    "## Installing QuTiP ##"
   ]
  },
  {
   "cell_type": "markdown",
   "metadata": {},
   "source": [
    "QuTiP is a bit harder to install than other packages we've seen, for one simple reason: compilers. Most of what we've seen thus far has been *pure Python*, meaning that the entire library is interpreted by Python at run time. This can result in very portable and maintainable code, but can come at a performance cost. In some cases, we can pay down that performance cost by relying on the acceleration provided by NumPy and SciPy, or using more advanced tools such as Numba or even TensorFlow. QuTiP takes a different tack, though, and uses *native* code as well as pure Python. Since QuTiP generates this native code at run time, that means it must understand how to interact with compilers. Thankfully, Anaconda helps us out in this regard on Windows, while on Ubuntu and macOS / OS X this is handled by the operating system.\n",
    "\n",
    "Let's start by ensuring that we have everything we need in our Anaconda environment. Many of these packages were probably installed in previous Lectures, but that's OK; ``conda`` will let us know if we asked to install something that's already there (this is another benefit of using a package manager, by the bye)."
   ]
  },
  {
   "cell_type": "markdown",
   "metadata": {},
   "source": [
    "- **<i class=\"fa fa-windows\" aria-hidden=\"true\"></i> Windows**:\n",
    "```powershell\n",
    "PS > conda install nose libpython<2.0 mingw cython\n",
    "```\n",
    "\n",
    "- **<i class=\"fa fa-apple\" aria-hidden=\"true\"></i> mac OS / OS X** or **<i class=\"fa fa-linux\" aria-hidden=\"true\"></i> Ubuntu**:\n",
    "```bash\n",
    "$ conda install nose cython\n",
    "```"
   ]
  },
  {
   "cell_type": "markdown",
   "metadata": {},
   "source": [
    "Let's break this down a bit, and look at what each package does:\n",
    "\n",
    "- ``cython``: This is a library used to write code in a kind-of-Python, kind-of-C language, and is very useful for interfacing with native code written in C.\n",
    "- ``nose``: This is a *unit testing library* that will help us ensure that QuTiP works correctly once we have it installed. Not strictly necessary, but pretty helpful.\n",
    "- ``libpython`` (Windows-only): This provides the files needed to compile native code that interacts with Python or Cython. Note that for compatability reasons, we insist on using a version earlier than 2.0.\n",
    "- ``mingw`` (Windows-only): This package provides the *minimal GNU environment for Windows*, a set of compilers used by QuTiP and many other projects to produce native code for Windows. Importantly, Anaconda will install the 64-bit version of MinGW by default. This is really useful, as the 64-bit version is otherwise tricky to install and get working."
   ]
  },
  {
   "cell_type": "markdown",
   "metadata": {},
   "source": [
    "Once everything is installed, it's helpful to first check that we correctly installed the GNU Compiler Collection (``gcc``), whether by installing MinGW or through the OS directly."
   ]
  },
  {
   "cell_type": "markdown",
   "metadata": {},
   "source": [
    "```bash\n",
    "$ gcc --version\n",
    "gcc.exe (GCC) 4.7.0 20111220 (experimental)\n",
    "Copyright (C) 2011 Free Software Foundation, Inc.\n",
    "This is free software; see the source for copying conditions.  There is NO\n",
    "warranty; not even for MERCHANTABILITY or FITNESS FOR A PARTICULAR PURPOSE.\n",
    "```"
   ]
  },
  {
   "cell_type": "markdown",
   "metadata": {},
   "source": [
    "Don't worry if you don't get exactly the same output, you may have a slightly different version. We're mainly interested in whether ``gcc`` is installed at all."
   ]
  },
  {
   "cell_type": "markdown",
   "metadata": {},
   "source": [
    "Next, let's download QuTiP itself. We'll download the latest version manually using Git, partially because the last released version (3.1.0) is fairly old, and we want to take advantage of new 4.0 features. That said, it's also a good example of how to install a Python package manually, without using ``pip`` and ``conda``. As explained in Lecture 1, ``pip`` and ``conda`` should still be used in preference to manual installation whenever it's reasonable to do so."
   ]
  },
  {
   "cell_type": "markdown",
   "metadata": {},
   "source": [
    "With that caveat aside, let's *git* to it."
   ]
  },
  {
   "cell_type": "markdown",
   "metadata": {},
   "source": [
    "```bash\n",
    "$ git clone git@github.com:qutip/qutip.git\n",
    "$ cd qutip\n",
    "```"
   ]
  },
  {
   "cell_type": "markdown",
   "metadata": {},
   "source": [
    "**<i class=\"fa fa-windows\" aria-hidden=\"true\"></i> Windows-only** If you're on Windows, we need to do one final thing before we can install QuTiP, and tell Python that we want it to talk to MinGW and not (for example) Visual Studio. We do this by using the ``distutils.cfg`` configuration file. Since ``distutils`` is itself a Python package, we can find it by using Python.\n",
    "\n",
    "*NB: Visual Studio and Visual Studio Code are not really all that related, other than branding and who made both.*"
   ]
  },
  {
   "cell_type": "code",
   "execution_count": 1,
   "metadata": {
    "collapsed": false
   },
   "outputs": [
    {
     "name": "stdout",
     "output_type": "stream",
     "text": [
      "C:\\Users\\cgranade\\Anaconda2\\lib\\distutils\\distutils.cfg\n"
     ]
    }
   ],
   "source": [
    "import os\n",
    "import distutils\n",
    "print(os.path.join(os.path.split(distutils.__file__)[0], 'distutils.cfg'))"
   ]
  },
  {
   "cell_type": "markdown",
   "metadata": {},
   "source": [
    "Here, ``distutils.__file__`` is the location at which the ``distutils`` package is installed. We use ``os.path.split`` to pick out the directory containing ``distutils``, then use ``os.path.join`` to add ``distutils.cfg`` back on. Open this file in the text editor of your choice, and make sure it contains the following:"
   ]
  },
  {
   "cell_type": "markdown",
   "metadata": {},
   "source": [
    "```\n",
    "[build]\n",
    "compiler = mingw32\n",
    "\n",
    "[build_ext]\n",
    "compiler = mingw32\n",
    "```"
   ]
  },
  {
   "cell_type": "markdown",
   "metadata": {},
   "source": [
    "*NB: This should read \"32\" even on 64-bit platforms, since 64-bit MinGW still concerns itself with the Win32 APIs. Naming things is \"fun.\"*"
   ]
  },
  {
   "cell_type": "markdown",
   "metadata": {},
   "source": [
    "Finally, we can actually run the install script provided with QuTiP:"
   ]
  },
  {
   "cell_type": "markdown",
   "metadata": {},
   "source": [
    "```bash\n",
    "$ python setup.py install\n",
    "```"
   ]
  },
  {
   "cell_type": "markdown",
   "metadata": {},
   "source": [
    "This is a common idiom for \"manually\" installing Python software. That is, without the aid of a package manager. Almost all Python projects come with a script that uses the built-in ``distutils`` package (or an enhanced version called ``setuptools``) to describe an installation procedure."
   ]
  },
  {
   "cell_type": "markdown",
   "metadata": {},
   "source": [
    "Anyway, once QuTiP is installed, we can confirm that it worked correctly by trying to import it and run its self-tests. This takes some time (about an hour on my laptop), and generates a *lot* of output, but will automatically test that QuTiP is working as expected. We'll see a toy example of how this works later in the Lecture, and more detail in Lecture 6."
   ]
  },
  {
   "cell_type": "markdown",
   "metadata": {},
   "source": [
    "```bash\n",
    "$ cd ..\n",
    "$ ipython\n",
    "```\n",
    "```python\n",
    "In [1]: import qutip as qt\n",
    "In [2]: import qutip.testing\n",
    "In [3]: qt.testing.run()\n",
    "```"
   ]
  },
  {
   "cell_type": "markdown",
   "metadata": {},
   "source": [
    "*NB: you **must** change to a different directory to force Python to load the **installed** version of QuTiP, and not the working copy from the repository you cloned above.*\n",
    "\n",
    "In the interest of time, press **Ctrl-C** to cancel the tests (this may crash IPython iself on Windows; if so, just relaunch it). We'll forge ahead without testing for now, but it's useful to run these tests before using QuTiP in practice. After all, gives a good excuse to [go grab some coffee](https://xkcd.com/303/)."
   ]
  },
  {
   "cell_type": "markdown",
   "metadata": {},
   "source": [
    "## The ``Qobj`` Class ##"
   ]
  },
  {
   "cell_type": "markdown",
   "metadata": {},
   "source": [
    "Now that we have QuTiP installed, let's go on and use it. The core of QuTiP is its ``Qobj`` class (short for \"quantum object\"), which represents a pure state, measurement effect, density operator, unitary, Hamiltonian, superoperator or other \"matrix\" used in quantum mechanics. Let's make a ``Qobj`` instance representing a qubit state $|0\\rangle$."
   ]
  },
  {
   "cell_type": "code",
   "execution_count": 2,
   "metadata": {
    "collapsed": false
   },
   "outputs": [],
   "source": [
    "import qutip as qt"
   ]
  },
  {
   "cell_type": "code",
   "execution_count": 3,
   "metadata": {
    "collapsed": false
   },
   "outputs": [
    {
     "data": {
      "text/latex": [
       "Quantum object: dims = [[2], [1]], shape = [2, 1], type = ket\\begin{equation*}\\left(\\begin{array}{*{11}c}1.0\\\\0.0\\\\\\end{array}\\right)\\end{equation*}"
      ],
      "text/plain": [
       "Quantum object: dims = [[2], [1]], shape = [2, 1], type = ket\n",
       "Qobj data =\n",
       "[[ 1.]\n",
       " [ 0.]]"
      ]
     },
     "execution_count": 3,
     "metadata": {},
     "output_type": "execute_result"
    }
   ],
   "source": [
    "ket0 = qt.Qobj([[1], [0]])\n",
    "ket0"
   ]
  },
  {
   "cell_type": "markdown",
   "metadata": {},
   "source": [
    "Once we have a ``Qobj`` instance, we can manipulate it in a variety of ways, including scalar multiplication, addition, \"matrix\" multiplication, and Hermitian conjugation."
   ]
  },
  {
   "cell_type": "code",
   "execution_count": 4,
   "metadata": {
    "collapsed": false
   },
   "outputs": [
    {
     "data": {
      "text/latex": [
       "Quantum object: dims = [[2], [1]], shape = [2, 1], type = ket\\begin{equation*}\\left(\\begin{array}{*{11}c}2.0\\\\0.0\\\\\\end{array}\\right)\\end{equation*}"
      ],
      "text/plain": [
       "Quantum object: dims = [[2], [1]], shape = [2, 1], type = ket\n",
       "Qobj data =\n",
       "[[ 2.]\n",
       " [ 0.]]"
      ]
     },
     "execution_count": 4,
     "metadata": {},
     "output_type": "execute_result"
    }
   ],
   "source": [
    "2 * ket0"
   ]
  },
  {
   "cell_type": "code",
   "execution_count": 5,
   "metadata": {
    "collapsed": false
   },
   "outputs": [
    {
     "data": {
      "text/latex": [
       "Quantum object: dims = [[2], [1]], shape = [2, 1], type = ket\\begin{equation*}\\left(\\begin{array}{*{11}c}1.0\\\\1.0\\\\\\end{array}\\right)\\end{equation*}"
      ],
      "text/plain": [
       "Quantum object: dims = [[2], [1]], shape = [2, 1], type = ket\n",
       "Qobj data =\n",
       "[[ 1.]\n",
       " [ 1.]]"
      ]
     },
     "execution_count": 5,
     "metadata": {},
     "output_type": "execute_result"
    }
   ],
   "source": [
    "ket0 + qt.Qobj([[0], [1]])"
   ]
  },
  {
   "cell_type": "code",
   "execution_count": 6,
   "metadata": {
    "collapsed": false
   },
   "outputs": [
    {
     "data": {
      "text/latex": [
       "Quantum object: dims = [[2], [1]], shape = [2, 1], type = ket\\begin{equation*}\\left(\\begin{array}{*{11}c}0.0\\\\1.0\\\\\\end{array}\\right)\\end{equation*}"
      ],
      "text/plain": [
       "Quantum object: dims = [[2], [1]], shape = [2, 1], type = ket\n",
       "Qobj data =\n",
       "[[ 0.]\n",
       " [ 1.]]"
      ]
     },
     "execution_count": 6,
     "metadata": {},
     "output_type": "execute_result"
    }
   ],
   "source": [
    "qt.sigmax() * ket0"
   ]
  },
  {
   "cell_type": "code",
   "execution_count": 7,
   "metadata": {
    "collapsed": false
   },
   "outputs": [
    {
     "data": {
      "text/latex": [
       "Quantum object: dims = [[1], [2]], shape = [1, 2], type = bra\\begin{equation*}\\left(\\begin{array}{*{11}c}1.0 & 0.0\\\\\\end{array}\\right)\\end{equation*}"
      ],
      "text/plain": [
       "Quantum object: dims = [[1], [2]], shape = [1, 2], type = bra\n",
       "Qobj data =\n",
       "[[ 1.  0.]]"
      ]
     },
     "execution_count": 7,
     "metadata": {},
     "output_type": "execute_result"
    }
   ],
   "source": [
    "ket0.dag()"
   ]
  },
  {
   "cell_type": "markdown",
   "metadata": {},
   "source": [
    "## Why the Scare Quotes? ##"
   ]
  },
  {
   "cell_type": "markdown",
   "metadata": {},
   "source": [
    "So far, I've kept the word \"matrix\" in scare quotes to emphasize that we're actually working with *tensors* in general. In QuTiP, this is represented by the ``Qobj.dims`` property, which specifies how to break the left and right indices of a matrix down into tensor indices. This allows for specifying, for instance, that a two-qubit state is fundamentally different than a ququot (qu4it) state. "
   ]
  },
  {
   "cell_type": "code",
   "execution_count": 8,
   "metadata": {
    "collapsed": false
   },
   "outputs": [
    {
     "data": {
      "text/latex": [
       "Quantum object: dims = [[4], [1]], shape = [4, 1], type = ket\\begin{equation*}\\left(\\begin{array}{*{11}c}1.0\\\\0.0\\\\0.0\\\\0.0\\\\\\end{array}\\right)\\end{equation*}"
      ],
      "text/plain": [
       "Quantum object: dims = [[4], [1]], shape = [4, 1], type = ket\n",
       "Qobj data =\n",
       "[[ 1.]\n",
       " [ 0.]\n",
       " [ 0.]\n",
       " [ 0.]]"
      ]
     },
     "execution_count": 8,
     "metadata": {},
     "output_type": "execute_result"
    }
   ],
   "source": [
    "ququot_ket0 = qt.Qobj([[1], [0], [0], [0]])\n",
    "ququot_ket0"
   ]
  },
  {
   "cell_type": "code",
   "execution_count": 9,
   "metadata": {
    "collapsed": false
   },
   "outputs": [
    {
     "data": {
      "text/latex": [
       "Quantum object: dims = [[2, 2], [1, 1]], shape = [4, 1], type = ket\\begin{equation*}\\left(\\begin{array}{*{11}c}1.0\\\\0.0\\\\0.0\\\\0.0\\\\\\end{array}\\right)\\end{equation*}"
      ],
      "text/plain": [
       "Quantum object: dims = [[2, 2], [1, 1]], shape = [4, 1], type = ket\n",
       "Qobj data =\n",
       "[[ 1.]\n",
       " [ 0.]\n",
       " [ 0.]\n",
       " [ 0.]]"
      ]
     },
     "execution_count": 9,
     "metadata": {},
     "output_type": "execute_result"
    }
   ],
   "source": [
    "qt.tensor(ket0, ket0)"
   ]
  },
  {
   "cell_type": "code",
   "execution_count": 10,
   "metadata": {
    "collapsed": false
   },
   "outputs": [
    {
     "name": "stdout",
     "output_type": "stream",
     "text": [
      "Incompatible Qobj shapes\n"
     ]
    }
   ],
   "source": [
    "try:\n",
    "    _.dag() * ququot_ket0\n",
    "except Exception as ex:\n",
    "    print(ex)"
   ]
  },
  {
   "cell_type": "markdown",
   "metadata": {},
   "source": [
    "That is, we see that QuTiP automatically keeps track of the tensor indices of a state when we use the tensor product, rather than flattening everything down to a matrix. At the same time, QuTiP uses matrices internally to take advantage of sparse matrix algorithms, such that we can store even large tensors with ease."
   ]
  },
  {
   "cell_type": "code",
   "execution_count": 11,
   "metadata": {
    "collapsed": false
   },
   "outputs": [
    {
     "data": {
      "text/latex": [
       "Quantum object: dims = [[1000000], [1]], shape = [1000000, 1], type = ket\\begin{equation*}\\left(\\begin{array}{*{11}c}1.0\\\\0.0\\\\0.0\\\\0.0\\\\0.0\\\\\\vdots\\\\0.0\\\\0.0\\\\0.0\\\\0.0\\\\0.0\\\\\\end{array}\\right)\\end{equation*}"
      ],
      "text/plain": [
       "Quantum object: dims = [[1000000], [1]], shape = [1000000, 1], type = ket\n",
       "Qobj data =\n",
       "  (0, 0)\t(1+0j)"
      ]
     },
     "execution_count": 11,
     "metadata": {},
     "output_type": "execute_result"
    }
   ],
   "source": [
    "big_ket = qt.basis(int(1e6))\n",
    "big_ket"
   ]
  },
  {
   "cell_type": "markdown",
   "metadata": {},
   "source": [
    "Keeping track of tensor indices also greatly simplifies operations such as the partial trace, as we can specify things in terms of which indices are summed over. To see this in action, let's write out an example of tracing out half of the entangled qu$d$it pair\n",
    "\\begin{equation}\n",
    "    |\\psi\\rangle = \\sum_{i=0}^{d - 1} |i\\rangle \\otimes |i\\rangle.\n",
    "\\end{equation}\n",
    "We start by defining the pure state $|\\psi\\rangle$."
   ]
  },
  {
   "cell_type": "code",
   "execution_count": 12,
   "metadata": {
    "collapsed": true
   },
   "outputs": [],
   "source": [
    "def entangled_qudit(dim=2):\n",
    "    return (\n",
    "        # We use the builtin sum() rather than NumPy sum to make\n",
    "        # sure Qobj's addition operator is used.\n",
    "        sum(\n",
    "            # In the argument to sum(), we use a generator comprehension\n",
    "            # to specify each element in the sum above, with the summand\n",
    "            # being the tensor of two qudit pure states.\n",
    "            qt.tensor(\n",
    "                # Note that tensor() also can take a list, making it\n",
    "                # easy to take a tensor product of something with\n",
    "                # itself by using list multiplication.\n",
    "                [qt.basis(dim, idx)] * 2\n",
    "            ) for idx in range(dim)\n",
    "            # Finally, we Qobj's unit() method automatically normalizes everything\n",
    "            # for us, ensuring that we have a well-defined state at the end.\n",
    "        ).unit()\n",
    "    )"
   ]
  },
  {
   "cell_type": "markdown",
   "metadata": {},
   "source": [
    "(Isn't it nice that Python lets us put comments inside long expressions like that?)"
   ]
  },
  {
   "cell_type": "code",
   "execution_count": 13,
   "metadata": {
    "collapsed": false
   },
   "outputs": [
    {
     "data": {
      "text/latex": [
       "Quantum object: dims = [[2, 2], [1, 1]], shape = [4, 1], type = ket\\begin{equation*}\\left(\\begin{array}{*{11}c}0.707\\\\0.0\\\\0.0\\\\0.707\\\\\\end{array}\\right)\\end{equation*}"
      ],
      "text/plain": [
       "Quantum object: dims = [[2, 2], [1, 1]], shape = [4, 1], type = ket\n",
       "Qobj data =\n",
       "[[ 0.70710678]\n",
       " [ 0.        ]\n",
       " [ 0.        ]\n",
       " [ 0.70710678]]"
      ]
     },
     "execution_count": 13,
     "metadata": {},
     "output_type": "execute_result"
    }
   ],
   "source": [
    "entangled_qudit()"
   ]
  },
  {
   "cell_type": "code",
   "execution_count": 14,
   "metadata": {
    "collapsed": false
   },
   "outputs": [
    {
     "data": {
      "text/latex": [
       "Quantum object: dims = [[7, 7], [1, 1]], shape = [49, 1], type = ket\\begin{equation*}\\left(\\begin{array}{*{11}c}0.378\\\\0.0\\\\0.0\\\\0.0\\\\0.0\\\\\\vdots\\\\0.0\\\\0.0\\\\0.0\\\\0.0\\\\0.378\\\\\\end{array}\\right)\\end{equation*}"
      ],
      "text/plain": [
       "Quantum object: dims = [[7, 7], [1, 1]], shape = [49, 1], type = ket\n",
       "Qobj data =\n",
       "[[ 0.37796447]\n",
       " [ 0.        ]\n",
       " [ 0.        ]\n",
       " [ 0.        ]\n",
       " [ 0.        ]\n",
       " [ 0.        ]\n",
       " [ 0.        ]\n",
       " [ 0.        ]\n",
       " [ 0.37796447]\n",
       " [ 0.        ]\n",
       " [ 0.        ]\n",
       " [ 0.        ]\n",
       " [ 0.        ]\n",
       " [ 0.        ]\n",
       " [ 0.        ]\n",
       " [ 0.        ]\n",
       " [ 0.37796447]\n",
       " [ 0.        ]\n",
       " [ 0.        ]\n",
       " [ 0.        ]\n",
       " [ 0.        ]\n",
       " [ 0.        ]\n",
       " [ 0.        ]\n",
       " [ 0.        ]\n",
       " [ 0.37796447]\n",
       " [ 0.        ]\n",
       " [ 0.        ]\n",
       " [ 0.        ]\n",
       " [ 0.        ]\n",
       " [ 0.        ]\n",
       " [ 0.        ]\n",
       " [ 0.        ]\n",
       " [ 0.37796447]\n",
       " [ 0.        ]\n",
       " [ 0.        ]\n",
       " [ 0.        ]\n",
       " [ 0.        ]\n",
       " [ 0.        ]\n",
       " [ 0.        ]\n",
       " [ 0.        ]\n",
       " [ 0.37796447]\n",
       " [ 0.        ]\n",
       " [ 0.        ]\n",
       " [ 0.        ]\n",
       " [ 0.        ]\n",
       " [ 0.        ]\n",
       " [ 0.        ]\n",
       " [ 0.        ]\n",
       " [ 0.37796447]]"
      ]
     },
     "execution_count": 14,
     "metadata": {},
     "output_type": "execute_result"
    }
   ],
   "source": [
    "entangled_qudit(7)"
   ]
  },
  {
   "cell_type": "markdown",
   "metadata": {},
   "source": [
    "Next, we use ``qt.ket2dm()`` to turn this into a density operator, and take the partial trace with ``qt.ptrace()``."
   ]
  },
  {
   "cell_type": "code",
   "execution_count": 15,
   "metadata": {
    "collapsed": true
   },
   "outputs": [],
   "source": [
    "def entangled_ptrace(dim=2):\n",
    "    psi = entangled_qudit(dim)\n",
    "    rho = qt.ket2dm(psi)\n",
    "    \n",
    "    return qt.ptrace(\n",
    "        rho,\n",
    "        # NB: qt.ptrace() takes a tuple of which subsystems we want to *keep*.\n",
    "        #     Thus, this will represent Tr₁, not Tr₀.\n",
    "        (0,)\n",
    "    )"
   ]
  },
  {
   "cell_type": "code",
   "execution_count": 16,
   "metadata": {
    "collapsed": false
   },
   "outputs": [
    {
     "data": {
      "text/latex": [
       "Quantum object: dims = [[2], [2]], shape = [2, 2], type = oper, isherm = True\\begin{equation*}\\left(\\begin{array}{*{11}c}0.500 & 0.0\\\\0.0 & 0.500\\\\\\end{array}\\right)\\end{equation*}"
      ],
      "text/plain": [
       "Quantum object: dims = [[2], [2]], shape = [2, 2], type = oper, isherm = True\n",
       "Qobj data =\n",
       "[[ 0.5  0. ]\n",
       " [ 0.   0.5]]"
      ]
     },
     "execution_count": 16,
     "metadata": {},
     "output_type": "execute_result"
    }
   ],
   "source": [
    "entangled_ptrace()"
   ]
  },
  {
   "cell_type": "code",
   "execution_count": 17,
   "metadata": {
    "collapsed": false
   },
   "outputs": [
    {
     "data": {
      "text/latex": [
       "Quantum object: dims = [[7], [7]], shape = [7, 7], type = oper, isherm = True\\begin{equation*}\\left(\\begin{array}{*{11}c}0.143 & 0.0 & 0.0 & 0.0 & 0.0 & 0.0 & 0.0\\\\0.0 & 0.143 & 0.0 & 0.0 & 0.0 & 0.0 & 0.0\\\\0.0 & 0.0 & 0.143 & 0.0 & 0.0 & 0.0 & 0.0\\\\0.0 & 0.0 & 0.0 & 0.143 & 0.0 & 0.0 & 0.0\\\\0.0 & 0.0 & 0.0 & 0.0 & 0.143 & 0.0 & 0.0\\\\0.0 & 0.0 & 0.0 & 0.0 & 0.0 & 0.143 & 0.0\\\\0.0 & 0.0 & 0.0 & 0.0 & 0.0 & 0.0 & 0.143\\\\\\end{array}\\right)\\end{equation*}"
      ],
      "text/plain": [
       "Quantum object: dims = [[7], [7]], shape = [7, 7], type = oper, isherm = True\n",
       "Qobj data =\n",
       "[[ 0.14285714  0.          0.          0.          0.          0.          0.        ]\n",
       " [ 0.          0.14285714  0.          0.          0.          0.          0.        ]\n",
       " [ 0.          0.          0.14285714  0.          0.          0.          0.        ]\n",
       " [ 0.          0.          0.          0.14285714  0.          0.          0.        ]\n",
       " [ 0.          0.          0.          0.          0.14285714  0.          0.        ]\n",
       " [ 0.          0.          0.          0.          0.          0.14285714\n",
       "   0.        ]\n",
       " [ 0.          0.          0.          0.          0.          0.\n",
       "   0.14285714]]"
      ]
     },
     "execution_count": 17,
     "metadata": {},
     "output_type": "execute_result"
    }
   ],
   "source": [
    "entangled_ptrace(7)"
   ]
  },
  {
   "cell_type": "markdown",
   "metadata": {},
   "source": [
    "The same benefit holds if we consider tensor products over more than two systems. For example, let's GHZ-like states generated by the unique permutations of some $d$it string."
   ]
  },
  {
   "cell_type": "code",
   "execution_count": 18,
   "metadata": {
    "collapsed": true
   },
   "outputs": [],
   "source": [
    "import itertools as it"
   ]
  },
  {
   "cell_type": "code",
   "execution_count": 19,
   "metadata": {
    "collapsed": true
   },
   "outputs": [],
   "source": [
    "def ghz_state(labels=(1, 0, 0), dim=2):\n",
    "    return sum(\n",
    "        # We use a list comprehension to take the tensor product\n",
    "        # over each dit string in turn.\n",
    "        qt.tensor([qt.basis(dim, idx) for idx in dit_string])\n",
    "        \n",
    "        # We run the generator expression over all *unique*\n",
    "        # permutations of the labels we're provided,\n",
    "        # using set() to strip out duplicates.\n",
    "        for dit_string in set(it.permutations(labels))\n",
    "    ).unit()"
   ]
  },
  {
   "cell_type": "code",
   "execution_count": 20,
   "metadata": {
    "collapsed": false
   },
   "outputs": [
    {
     "data": {
      "text/latex": [
       "Quantum object: dims = [[2, 2, 2], [1, 1, 1]], shape = [8, 1], type = ket\\begin{equation*}\\left(\\begin{array}{*{11}c}0.0\\\\0.577\\\\0.577\\\\0.0\\\\0.577\\\\0.0\\\\0.0\\\\0.0\\\\\\end{array}\\right)\\end{equation*}"
      ],
      "text/plain": [
       "Quantum object: dims = [[2, 2, 2], [1, 1, 1]], shape = [8, 1], type = ket\n",
       "Qobj data =\n",
       "[[ 0.        ]\n",
       " [ 0.57735027]\n",
       " [ 0.57735027]\n",
       " [ 0.        ]\n",
       " [ 0.57735027]\n",
       " [ 0.        ]\n",
       " [ 0.        ]\n",
       " [ 0.        ]]"
      ]
     },
     "execution_count": 20,
     "metadata": {},
     "output_type": "execute_result"
    }
   ],
   "source": [
    "ghz_state()"
   ]
  },
  {
   "cell_type": "markdown",
   "metadata": {},
   "source": [
    "This lets us look at the entanglement entropy across different sized cuts, even for generalizations of the GHZ state."
   ]
  },
  {
   "cell_type": "code",
   "execution_count": 21,
   "metadata": {
    "collapsed": false
   },
   "outputs": [
    {
     "name": "stdout",
     "output_type": "stream",
     "text": [
      "(1, 1.0549201679861442)\n",
      "(2, 1.4708084763221114)\n",
      "(3, 1.4708084763221136)\n",
      "(4, 1.0549201679861437)\n"
     ]
    }
   ],
   "source": [
    "rho = ghz_state((0, 0, 1, 1, 2), dim=3)\n",
    "for idx_cut in range(1, 5):\n",
    "    print(idx_cut, qt.entropy_vn(qt.ptrace(rho, tuple(range(idx_cut)))))"
   ]
  },
  {
   "cell_type": "markdown",
   "metadata": {},
   "source": [
    "In addition to the techniques shown here, QuTiP allows performing tensor contraction and reordering directly with the ``qt.tensor_contract`` and ``qt.tensor_swap`` functions."
   ]
  },
  {
   "cell_type": "markdown",
   "metadata": {},
   "source": [
    "## More Useful ``Qobj`` Properties and Methods ##"
   ]
  },
  {
   "cell_type": "markdown",
   "metadata": {},
   "source": [
    "We've seen a few useful properties along the way, but let's take a second and look at the ``Qobj`` class in a bit more detail. To do so, let's make a random state with ``dims`` indicating six-dimensional space that factors into a qubit and a qutrit space. We can do this by using the ``rand_dm_ginibre`` function to sample a random density matrix from the Ginibre distribution (a generalization of the Hilbert-Schmidt and Haar uniform distributions)."
   ]
  },
  {
   "cell_type": "code",
   "execution_count": 58,
   "metadata": {
    "collapsed": false
   },
   "outputs": [
    {
     "data": {
      "text/latex": [
       "Quantum object: dims = [[2, 3], [2, 3]], shape = [6, 6], type = oper, isherm = True\\begin{equation*}\\left(\\begin{array}{*{11}c}0.195 & (0.018-0.111j) & (0.014-0.109j) & (-0.070-0.079j) & (0.002+0.015j) & (-0.037-0.026j)\\\\(0.018+0.111j) & 0.205 & (0.050+0.057j) & (0.063-0.056j) & (-0.006+0.075j) & (0.009+0.028j)\\\\(0.014+0.109j) & (0.050-0.057j) & 0.144 & (0.058-0.036j) & (-0.015-0.042j) & (0.019-0.023j)\\\\(-0.070+0.079j) & (0.063+0.056j) & (0.058+0.036j) & 0.201 & (-0.009+0.014j) & (-0.038-0.005j)\\\\(0.002-0.015j) & (-0.006-0.075j) & (-0.015+0.042j) & (-0.009-0.014j) & 0.151 & (0.002+0.040j)\\\\(-0.037+0.026j) & (0.009-0.028j) & (0.019+0.023j) & (-0.038+0.005j) & (0.002-0.040j) & 0.104\\\\\\end{array}\\right)\\end{equation*}"
      ],
      "text/plain": [
       "Quantum object: dims = [[2, 3], [2, 3]], shape = [6, 6], type = oper, isherm = True\n",
       "Qobj data =\n",
       "[[ 0.19499118+0.j          0.01781556-0.11143793j  0.01394654-0.10941328j\n",
       "  -0.07039118-0.07917975j  0.00170491+0.01483252j -0.03683070-0.02626624j]\n",
       " [ 0.01781556+0.11143793j  0.20457271+0.j          0.04969363+0.05667166j\n",
       "   0.06287542-0.05554404j -0.00646096+0.07450489j  0.00946372+0.02761308j]\n",
       " [ 0.01394654+0.10941328j  0.04969363-0.05667166j  0.14373522+0.j\n",
       "   0.05780651-0.03633144j -0.01501051-0.04206586j  0.01945169-0.0229998j ]\n",
       " [-0.07039118+0.07917975j  0.06287542+0.05554404j  0.05780651+0.03633144j\n",
       "   0.20104691+0.j         -0.00943025+0.01409667j -0.03754414-0.00539015j]\n",
       " [ 0.00170491-0.01483252j -0.00646096-0.07450489j -0.01501051+0.04206586j\n",
       "  -0.00943025-0.01409667j  0.15148644+0.j          0.00169245+0.03973157j]\n",
       " [-0.03683070+0.02626624j  0.00946372-0.02761308j  0.01945169+0.0229998j\n",
       "  -0.03754414+0.00539015j  0.00169245-0.03973157j  0.10416754+0.j        ]]"
      ]
     },
     "execution_count": 58,
     "metadata": {},
     "output_type": "execute_result"
    }
   ],
   "source": [
    "rho = qt.rand_dm_ginibre(6, dims=[[2, 3]] * 2)\n",
    "rho"
   ]
  },
  {
   "cell_type": "markdown",
   "metadata": {},
   "source": [
    "We can confirm that this state is Hermitian with the ``isherm`` property."
   ]
  },
  {
   "cell_type": "code",
   "execution_count": 60,
   "metadata": {
    "collapsed": false
   },
   "outputs": [
    {
     "name": "stdout",
     "output_type": "stream",
     "text": [
      "True\n",
      "False\n"
     ]
    }
   ],
   "source": [
    "print(rho.isherm)\n",
    "print((1j * rho).isherm)"
   ]
  },
  {
   "cell_type": "markdown",
   "metadata": {},
   "source": [
    "As we saw above, we can use the ``tr()`` and ``unit()`` methods to calculate the trace and to renormalize, respectively."
   ]
  },
  {
   "cell_type": "code",
   "execution_count": 63,
   "metadata": {
    "collapsed": false
   },
   "outputs": [
    {
     "name": "stdout",
     "output_type": "stream",
     "text": [
      "1.0\n"
     ]
    },
    {
     "data": {
      "text/latex": [
       "Quantum object: dims = [[2, 3], [2, 3]], shape = [6, 6], type = oper, isherm = True\\begin{equation*}\\left(\\begin{array}{*{11}c}0.0 & 0.0 & 0.0 & 0.0 & 0.0 & 0.0\\\\0.0 & 0.0 & 0.0 & 0.0 & 0.0 & 0.0\\\\0.0 & 0.0 & 0.0 & 0.0 & 0.0 & 0.0\\\\0.0 & 0.0 & 0.0 & 0.0 & 0.0 & 0.0\\\\0.0 & 0.0 & 0.0 & 0.0 & 0.0 & 0.0\\\\0.0 & 0.0 & 0.0 & 0.0 & 0.0 & 0.0\\\\\\end{array}\\right)\\end{equation*}"
      ],
      "text/plain": [
       "Quantum object: dims = [[2, 3], [2, 3]], shape = [6, 6], type = oper, isherm = True\n",
       "Qobj data =\n",
       "[[ 0.  0.  0.  0.  0.  0.]\n",
       " [ 0.  0.  0.  0.  0.  0.]\n",
       " [ 0.  0.  0.  0.  0.  0.]\n",
       " [ 0.  0.  0.  0.  0.  0.]\n",
       " [ 0.  0.  0.  0.  0.  0.]\n",
       " [ 0.  0.  0.  0.  0.  0.]]"
      ]
     },
     "execution_count": 63,
     "metadata": {},
     "output_type": "execute_result"
    }
   ],
   "source": [
    "print(rho.tr())\n",
    "(2 * rho).unit() - rho"
   ]
  },
  {
   "cell_type": "markdown",
   "metadata": {},
   "source": [
    "We can permute the subsystems using ``permute()``."
   ]
  },
  {
   "cell_type": "code",
   "execution_count": 68,
   "metadata": {
    "collapsed": false
   },
   "outputs": [
    {
     "data": {
      "text/latex": [
       "Quantum object: dims = [[3, 2], [3, 2]], shape = [6, 6], type = oper, isherm = True\\begin{equation*}\\left(\\begin{array}{*{11}c}0.195 & (-0.070-0.079j) & (0.018-0.111j) & (0.002+0.015j) & (0.014-0.109j) & (-0.037-0.026j)\\\\(-0.070+0.079j) & 0.201 & (0.063+0.056j) & (-0.009+0.014j) & (0.058+0.036j) & (-0.038-0.005j)\\\\(0.018+0.111j) & (0.063-0.056j) & 0.205 & (-0.006+0.075j) & (0.050+0.057j) & (0.009+0.028j)\\\\(0.002-0.015j) & (-0.009-0.014j) & (-0.006-0.075j) & 0.151 & (-0.015+0.042j) & (0.002+0.040j)\\\\(0.014+0.109j) & (0.058-0.036j) & (0.050-0.057j) & (-0.015-0.042j) & 0.144 & (0.019-0.023j)\\\\(-0.037+0.026j) & (-0.038+0.005j) & (0.009-0.028j) & (0.002-0.040j) & (0.019+0.023j) & 0.104\\\\\\end{array}\\right)\\end{equation*}"
      ],
      "text/plain": [
       "Quantum object: dims = [[3, 2], [3, 2]], shape = [6, 6], type = oper, isherm = True\n",
       "Qobj data =\n",
       "[[ 0.19499118+0.j         -0.07039118-0.07917975j  0.01781556-0.11143793j\n",
       "   0.00170491+0.01483252j  0.01394654-0.10941328j -0.03683070-0.02626624j]\n",
       " [-0.07039118+0.07917975j  0.20104691+0.j          0.06287542+0.05554404j\n",
       "  -0.00943025+0.01409667j  0.05780651+0.03633144j -0.03754414-0.00539015j]\n",
       " [ 0.01781556+0.11143793j  0.06287542-0.05554404j  0.20457271+0.j\n",
       "  -0.00646096+0.07450489j  0.04969363+0.05667166j  0.00946372+0.02761308j]\n",
       " [ 0.00170491-0.01483252j -0.00943025-0.01409667j -0.00646096-0.07450489j\n",
       "   0.15148644+0.j         -0.01501051+0.04206586j  0.00169245+0.03973157j]\n",
       " [ 0.01394654+0.10941328j  0.05780651-0.03633144j  0.04969363-0.05667166j\n",
       "  -0.01501051-0.04206586j  0.14373522+0.j          0.01945169-0.0229998j ]\n",
       " [-0.03683070+0.02626624j -0.03754414+0.00539015j  0.00946372-0.02761308j\n",
       "   0.00169245-0.03973157j  0.01945169+0.0229998j   0.10416754+0.j        ]]"
      ]
     },
     "execution_count": 68,
     "metadata": {},
     "output_type": "execute_result"
    }
   ],
   "source": [
    "rho.permute([1, 0])"
   ]
  },
  {
   "cell_type": "markdown",
   "metadata": {},
   "source": [
    "We can check that this permutation acts correctly by building up a density operator explicitly from a decomposition within each subsystem, and then using ``Qobj.norm()``. We'll use ``qt.rand_ket_haar`` to sample several random pure states on each subsystem, then build the density operator from that decomposition."
   ]
  },
  {
   "cell_type": "code",
   "execution_count": 101,
   "metadata": {
    "collapsed": false
   },
   "outputs": [
    {
     "name": "stdout",
     "output_type": "stream",
     "text": [
      "0.0\n"
     ]
    }
   ],
   "source": [
    "qubit_kets = [qt.rand_ket_haar(2) for _ in range(2)]\n",
    "qutrit_kets = [qt.rand_ket_haar(3) for _ in range(2)]\n",
    "eigenvalues = [0.8, 0.2]\n",
    "rho = sum(\n",
    "    eig * qt.ket2dm(qt.tensor(qubit_ket, qutrit_ket))\n",
    "    for eig, qubit_ket, qutrit_ket in zip(eigenvalues, qubit_kets, qutrit_kets)\n",
    ")\n",
    "rho_swap = sum(\n",
    "    eig * qt.ket2dm(qt.tensor(qutrit_ket, qubit_ket))\n",
    "    for eig, qubit_ket, qutrit_ket in zip(eigenvalues, qubit_kets, qutrit_kets)\n",
    ")\n",
    "\n",
    "print((rho.permute([1, 0]) - rho_swap).norm())"
   ]
  },
  {
   "cell_type": "markdown",
   "metadata": {},
   "source": [
    "As hinted by the choice of naming here, we've used our explicit decomposition of $\\rho$ into product states to also choose the spectrum of $\\rho$. We can confirm that this spectrum is correct with the ``eigenenergies()`` method:"
   ]
  },
  {
   "cell_type": "code",
   "execution_count": 102,
   "metadata": {
    "collapsed": false
   },
   "outputs": [
    {
     "data": {
      "text/plain": [
       "array([ 0.01439981, -0.01439981])"
      ]
     },
     "execution_count": 102,
     "metadata": {},
     "output_type": "execute_result"
    }
   ],
   "source": [
    "actual_eigenvalues = rho.eigenenergies(sort='high')\n",
    "actual_eigenvalues[:2] - eigenvalues"
   ]
  },
  {
   "cell_type": "markdown",
   "metadata": {},
   "source": [
    "More generally, the ``norm()`` method can be used to compute the trace- (Schatten 1-norm), Frobenius-, 1- or max-norm. Below, we use this to compute the distribution over $\\|\\rho - \\sigma\\|$ for each norm, with $\\rho$ and $\\sigma$ drawn from the Ginibre distribution discussed above."
   ]
  },
  {
   "cell_type": "code",
   "execution_count": 120,
   "metadata": {
    "collapsed": true
   },
   "outputs": [],
   "source": [
    "norms = ('tr', 'fro', 'one', 'max')\n",
    "norm_samples = {norm: [] for norm in norms}\n",
    "\n",
    "for idx_sample in range(6000):\n",
    "    rho = qt.rand_dm_ginibre(2, rank=1)\n",
    "    sigma = qt.rand_dm_ginibre(2, rank=1)\n",
    "    \n",
    "    for norm in norms:\n",
    "        norm_samples[norm].append(\n",
    "            (rho - sigma).norm(norm)\n",
    "        )"
   ]
  },
  {
   "cell_type": "code",
   "execution_count": 128,
   "metadata": {
    "collapsed": false
   },
   "outputs": [
    {
     "data": {
      "text/plain": [
       "<matplotlib.text.Text at 0x15d003c8>"
      ]
     },
     "execution_count": 128,
     "metadata": {},
     "output_type": "execute_result"
    },
    {
     "data": {
      "image/png": "[encoded data removed]",
      "text/plain": [
       "<matplotlib.figure.Figure at 0x15a065f8>"
      ]
     },
     "metadata": {},
     "output_type": "display_data"
    }
   ],
   "source": [
    "for norm in norms:\n",
    "    plt.hist(norm_samples[norm], label=norm, histtype='step', bins=41, normed=True)\n",
    "plt.legend(ncol=2, loc='upper right')\n",
    "plt.xlabel(r'$\\|\\rho - \\sigma\\|$')\n",
    "plt.ylabel('PDF')"
   ]
  },
  {
   "cell_type": "markdown",
   "metadata": {},
   "source": [
    "## Unitaries, Superoperators, and More ##"
   ]
  },
  {
   "cell_type": "markdown",
   "metadata": {},
   "source": [
    "Our use of ``qt.sigmax()`` above showed us a hint of using ``Qobj`` for quantum objects other than pure states and density operators. Let's look at that example again:"
   ]
  },
  {
   "cell_type": "code",
   "execution_count": 22,
   "metadata": {
    "collapsed": false
   },
   "outputs": [
    {
     "data": {
      "text/latex": [
       "Quantum object: dims = [[2], [2]], shape = [2, 2], type = oper, isherm = True\\begin{equation*}\\left(\\begin{array}{*{11}c}0.0 & 1.0\\\\1.0 & 0.0\\\\\\end{array}\\right)\\end{equation*}"
      ],
      "text/plain": [
       "Quantum object: dims = [[2], [2]], shape = [2, 2], type = oper, isherm = True\n",
       "Qobj data =\n",
       "[[ 0.  1.]\n",
       " [ 1.  0.]]"
      ]
     },
     "execution_count": 22,
     "metadata": {},
     "output_type": "execute_result"
    }
   ],
   "source": [
    "X = qt.sigmax()\n",
    "X"
   ]
  },
  {
   "cell_type": "markdown",
   "metadata": {},
   "source": [
    "We note that this quantum object has ``type=\"oper\"``, indicating that it is an operator. QuTiP infers this from the fact that the ``dims`` property indicates a square matrix, by contrast to the ``type=\"ket\"`` and ``type=\"bra\"`` examples in the previous section. If QuTiP can't infer a more specific ``type``, it will report ``type=\"other\"``."
   ]
  },
  {
   "cell_type": "code",
   "execution_count": 23,
   "metadata": {
    "collapsed": false
   },
   "outputs": [
    {
     "data": {
      "text/latex": [
       "Quantum object: dims = [[2, 2], [2, 1]], shape = [4, 2], type = other\\begin{equation*}\\left(\\begin{array}{*{11}c}0.0 & 1.0\\\\0.0 & 0.0\\\\1.0 & 0.0\\\\0.0 & 0.0\\\\\\end{array}\\right)\\end{equation*}"
      ],
      "text/plain": [
       "Quantum object: dims = [[2, 2], [2, 1]], shape = [4, 2], type = other\n",
       "Qobj data =\n",
       "[[ 0.  1.]\n",
       " [ 0.  0.]\n",
       " [ 1.  0.]\n",
       " [ 0.  0.]]"
      ]
     },
     "execution_count": 23,
     "metadata": {},
     "output_type": "execute_result"
    }
   ],
   "source": [
    "qt.tensor(X, ket0)"
   ]
  },
  {
   "cell_type": "markdown",
   "metadata": {},
   "source": [
    "Once we have a quantum object representing an operator, we can act on it in the same ways as above, as well as a few others. For instance, we can raise operators to a power and take their exponentials."
   ]
  },
  {
   "cell_type": "code",
   "execution_count": 24,
   "metadata": {
    "collapsed": false
   },
   "outputs": [
    {
     "data": {
      "text/latex": [
       "Quantum object: dims = [[2], [2]], shape = [2, 2], type = oper, isherm = True\\begin{equation*}\\left(\\begin{array}{*{11}c}1.0 & 0.0\\\\0.0 & 1.0\\\\\\end{array}\\right)\\end{equation*}"
      ],
      "text/plain": [
       "Quantum object: dims = [[2], [2]], shape = [2, 2], type = oper, isherm = True\n",
       "Qobj data =\n",
       "[[ 1.  0.]\n",
       " [ 0.  1.]]"
      ]
     },
     "execution_count": 24,
     "metadata": {},
     "output_type": "execute_result"
    }
   ],
   "source": [
    "X ** 2"
   ]
  },
  {
   "cell_type": "markdown",
   "metadata": {},
   "source": [
    "*NB: In the example below, we use unitful computing to create a \"physical\" Hamiltonian. We'll see more about this in Lecture 6, but for now think of it as a teaser.*"
   ]
  },
  {
   "cell_type": "code",
   "execution_count": 25,
   "metadata": {
    "collapsed": false
   },
   "outputs": [],
   "source": [
    "import quantities as pq"
   ]
  },
  {
   "cell_type": "code",
   "execution_count": 26,
   "metadata": {
    "collapsed": false
   },
   "outputs": [
    {
     "data": {
      "text/latex": [
       "Quantum object: dims = [[2], [2]], shape = [2, 2], type = oper, isherm = False\\begin{equation*}\\left(\\begin{array}{*{11}c}(-0.343-0.939j) & 0.0\\\\0.0 & (-0.343+0.939j)\\\\\\end{array}\\right)\\end{equation*}"
      ],
      "text/plain": [
       "Quantum object: dims = [[2], [2]], shape = [2, 2], type = oper, isherm = False\n",
       "Qobj data =\n",
       "[[-0.34307473-0.93930811j  0.00000000+0.j        ]\n",
       " [ 0.00000000+0.j         -0.34307473+0.93930811j]]"
      ]
     },
     "execution_count": 26,
     "metadata": {},
     "output_type": "execute_result"
    }
   ],
   "source": [
    "Z = qt.sigmaz()\n",
    "B = pq.Quantity(7, 'tesla')\n",
    "gamma = pq.constants.gamma_n\n",
    "H = (gamma * B * 2).rescale('Hz').magnitude[()] * Z\n",
    "t = pq.Quantity(1, 'us').rescale('s').magnitude[()]\n",
    "U = (-1j * t * H).expm()\n",
    "U"
   ]
  },
  {
   "cell_type": "code",
   "execution_count": 27,
   "metadata": {
    "collapsed": false
   },
   "outputs": [
    {
     "data": {
      "text/latex": [
       "Quantum object: dims = [[2], [2]], shape = [2, 2], type = oper, isherm = True\\begin{equation*}\\left(\\begin{array}{*{11}c}1.000 & 0.0\\\\0.0 & 1.000\\\\\\end{array}\\right)\\end{equation*}"
      ],
      "text/plain": [
       "Quantum object: dims = [[2], [2]], shape = [2, 2], type = oper, isherm = True\n",
       "Qobj data =\n",
       "[[ 1.  0.]\n",
       " [ 0.  1.]]"
      ]
     },
     "execution_count": 27,
     "metadata": {},
     "output_type": "execute_result"
    }
   ],
   "source": [
    "U * U.dag()"
   ]
  },
  {
   "cell_type": "markdown",
   "metadata": {},
   "source": [
    "Quantum objects can also be used to reason about the action of quantum channels using the superoperator formalism. Since channels act linearly on their inputs, $\\Lambda(\\rho + \\sigma) = \\Lambda(\\rho) + \\Lambda(\\sigma)$, we can represent density operators $\\rho$ as vectors (informally, \"superkets\") $|\\rho\\rangle\\!\\rangle$ on a larger Hilbert space. This is implemented in QuTiP as the ``qt.operator_to_vector`` and ``qt.vector_to_operator`` functions."
   ]
  },
  {
   "cell_type": "code",
   "execution_count": 28,
   "metadata": {
    "collapsed": true
   },
   "outputs": [],
   "source": [
    "import numpy as np"
   ]
  },
  {
   "cell_type": "code",
   "execution_count": 29,
   "metadata": {
    "collapsed": false
   },
   "outputs": [
    {
     "data": {
      "text/latex": [
       "Quantum object: dims = [[2], [2]], shape = [2, 2], type = oper, isherm = True\\begin{equation*}\\left(\\begin{array}{*{11}c}0.900 & 0.0\\\\0.0 & 0.100\\\\\\end{array}\\right)\\end{equation*}"
      ],
      "text/plain": [
       "Quantum object: dims = [[2], [2]], shape = [2, 2], type = oper, isherm = True\n",
       "Qobj data =\n",
       "[[ 0.9  0. ]\n",
       " [ 0.   0.1]]"
      ]
     },
     "execution_count": 29,
     "metadata": {},
     "output_type": "execute_result"
    }
   ],
   "source": [
    "rho = qt.Qobj(np.diag([0.9, 0.1]))\n",
    "rho"
   ]
  },
  {
   "cell_type": "code",
   "execution_count": 30,
   "metadata": {
    "collapsed": false
   },
   "outputs": [
    {
     "data": {
      "text/latex": [
       "Quantum object: dims = [[[2], [2]], [1]], shape = [4, 1], type = operator-ket\\begin{equation*}\\left(\\begin{array}{*{11}c}0.900\\\\0.0\\\\0.0\\\\0.100\\\\\\end{array}\\right)\\end{equation*}"
      ],
      "text/plain": [
       "Quantum object: dims = [[[2], [2]], [1]], shape = [4, 1], type = operator-ket\n",
       "Qobj data =\n",
       "[[ 0.9]\n",
       " [ 0. ]\n",
       " [ 0. ]\n",
       " [ 0.1]]"
      ]
     },
     "execution_count": 30,
     "metadata": {},
     "output_type": "execute_result"
    }
   ],
   "source": [
    "ket_rho = qt.operator_to_vector(rho)\n",
    "ket_rho"
   ]
  },
  {
   "cell_type": "markdown",
   "metadata": {},
   "source": [
    "Note that ``dims`` now has another nested level of lists, representing that the left index of $|\\rho\\rangle\\!\\rangle$ itself breaks down into left and right indices.\n",
    "\n",
    "Internally, there's a reordering of tensor indices going on for superoperators and superkets for consistency with \"column-stacking\" conventions popular in numerical packages. If you find this confusing, please take that up with everyone who decided that $|i\\rangle\\langle j|$ should be represented as $\\langle j|^{\\operatorname{T}}\\otimes|i\\rangle$ in the first place. \n"
   ]
  },
  {
   "cell_type": "code",
   "execution_count": 44,
   "metadata": {
    "collapsed": false
   },
   "outputs": [
    {
     "data": {
      "text/latex": [
       "Quantum object: dims = [[2], [2]], shape = [2, 2], type = oper, isherm = False\\begin{equation*}\\left(\\begin{array}{*{11}c}0.0 & 1.0\\\\2.0 & 3.0\\\\\\end{array}\\right)\\end{equation*}"
      ],
      "text/plain": [
       "Quantum object: dims = [[2], [2]], shape = [2, 2], type = oper, isherm = False\n",
       "Qobj data =\n",
       "[[ 0.  1.]\n",
       " [ 2.  3.]]"
      ]
     },
     "execution_count": 44,
     "metadata": {},
     "output_type": "execute_result"
    }
   ],
   "source": [
    "qt.Qobj(np.arange(4).reshape((2, 2)))"
   ]
  },
  {
   "cell_type": "code",
   "execution_count": 43,
   "metadata": {
    "collapsed": false
   },
   "outputs": [
    {
     "data": {
      "text/latex": [
       "Quantum object: dims = [[[2], [2]], [1]], shape = [4, 1], type = operator-ket\\begin{equation*}\\left(\\begin{array}{*{11}c}0.0\\\\2.0\\\\1.0\\\\3.0\\\\\\end{array}\\right)\\end{equation*}"
      ],
      "text/plain": [
       "Quantum object: dims = [[[2], [2]], [1]], shape = [4, 1], type = operator-ket\n",
       "Qobj data =\n",
       "[[ 0.]\n",
       " [ 2.]\n",
       " [ 1.]\n",
       " [ 3.]]"
      ]
     },
     "execution_count": 43,
     "metadata": {},
     "output_type": "execute_result"
    }
   ],
   "source": [
    "qt.operator_to_vector(qt.Qobj(np.arange(4).reshape((2, 2))))"
   ]
  },
  {
   "cell_type": "markdown",
   "metadata": {},
   "source": [
    "The discussion of column-stacking and row-stacking aside, though it's a bit confusing to write out ``dims`` manually for superoperators, it is very convienent for keeping track of composite input and output spaces.\n",
    "\n",
    "At any rate, once we have vectors on this new larger Hilbert space, we can make operators (superoperators) that act on these vectors using ``qt.to_super``. For instance, to make a depolarizing channel $\\Lambda(\\rho) = p \\rho + (1 - p) \\sum_{i =0}^3 \\sigma_i \\rho \\sigma_i^\\dagger / 4$, we can use ``sum`` once again, this time with ``to_super``.\n",
    "\n",
    "*NB: Don't use ``tensor`` to combine superoperators, as the tensor product doesn't respect the reordering implied by the column-stacking basis. QuTiP provides the ``qt.super_tensor`` function to handle the reshuffling needed in this case.*"
   ]
  },
  {
   "cell_type": "code",
   "execution_count": 45,
   "metadata": {
    "collapsed": true
   },
   "outputs": [],
   "source": [
    "def depol(p=0.9):\n",
    "    return p * qt.to_super(qt.qeye(2)) + (1 - p) * sum(\n",
    "        map(qt.to_super, [qt.qeye(2), qt.sigmax(), qt.sigmay(), qt.sigmaz()])\n",
    "    ) / 4"
   ]
  },
  {
   "cell_type": "code",
   "execution_count": 46,
   "metadata": {
    "collapsed": false
   },
   "outputs": [
    {
     "data": {
      "text/latex": [
       "Quantum object: dims = [[[2], [2]], [[2], [2]]], shape = [4, 4], type = super, isherm = True\\begin{equation*}\\left(\\begin{array}{*{11}c}0.950 & 0.0 & 0.0 & 0.050\\\\0.0 & 0.900 & 0.0 & 0.0\\\\0.0 & 0.0 & 0.900 & 0.0\\\\0.050 & 0.0 & 0.0 & 0.950\\\\\\end{array}\\right)\\end{equation*}"
      ],
      "text/plain": [
       "Quantum object: dims = [[[2], [2]], [[2], [2]]], shape = [4, 4], type = super, isherm = True\n",
       "Qobj data =\n",
       "[[ 0.95  0.    0.    0.05]\n",
       " [ 0.    0.9   0.    0.  ]\n",
       " [ 0.    0.    0.9   0.  ]\n",
       " [ 0.05  0.    0.    0.95]]"
      ]
     },
     "execution_count": 46,
     "metadata": {},
     "output_type": "execute_result"
    }
   ],
   "source": [
    "depol()"
   ]
  },
  {
   "cell_type": "markdown",
   "metadata": {},
   "source": [
    "We can then quickly confirm that this channel is completely positive and trace-preserving (CPTP):"
   ]
  },
  {
   "cell_type": "code",
   "execution_count": 33,
   "metadata": {
    "collapsed": false
   },
   "outputs": [
    {
     "data": {
      "text/plain": [
       "True"
      ]
     },
     "execution_count": 33,
     "metadata": {},
     "output_type": "execute_result"
    }
   ],
   "source": [
    "depol().iscptp"
   ]
  },
  {
   "cell_type": "markdown",
   "metadata": {},
   "source": [
    "Finally, we can act this on superkets by left-multiplication. For example, to find the purity of an initial state after acting $\\Lambda$ is straightforward with ``type=\"super\"`` quantum objects."
   ]
  },
  {
   "cell_type": "code",
   "execution_count": 34,
   "metadata": {
    "collapsed": false
   },
   "outputs": [
    {
     "data": {
      "text/plain": [
       "0.7591999999999999"
      ]
     },
     "execution_count": 34,
     "metadata": {},
     "output_type": "execute_result"
    }
   ],
   "source": [
    "(qt.vector_to_operator(depol() * ket_rho) ** 2).tr()"
   ]
  },
  {
   "cell_type": "markdown",
   "metadata": {},
   "source": [
    "Of course, we can consider significantly more complicated examples than depolarizing channels. QuTiP provides a useful function ``rand_super_bcsz`` to sample random superoperators of a given dimension and *rank*, where the rank specifies the minimal number of ordinary operators needed to describe the action of a channel. This allows us to numerically investigate complicated questions rather quickly. We may, for instance, want to know the distribution of output purities given pure input states and randomly chosen channels. (This is, by the way, how we calculated the distribution over *unitarities* for channels of different dimensions and ranks [Wallman *et al*. doi:10/bdcd]( \thttps://dx.doi.org/10.1088/1367-2630/17/11/113020).)"
   ]
  },
  {
   "cell_type": "code",
   "execution_count": 35,
   "metadata": {
    "collapsed": true
   },
   "outputs": [],
   "source": [
    "def sample_purity(dim=2, rank=None):\n",
    "    S = qt.rand_super_bcsz(dim, rank=rank)\n",
    "    rho = qt.rand_dm_ginibre(dim, rank=1)\n",
    "    \n",
    "    return (qt.vector_to_operator(S * qt.operator_to_vector(rho)) ** 2).tr()"
   ]
  },
  {
   "cell_type": "code",
   "execution_count": 37,
   "metadata": {
    "collapsed": false
   },
   "outputs": [
    {
     "data": {
      "text/plain": [
       "<matplotlib.legend.Legend at 0xa61c128>"
      ]
     },
     "execution_count": 37,
     "metadata": {},
     "output_type": "execute_result"
    },
    {
     "data": {
      "image/png": "[encoded data removed]",
      "text/plain": [
       "<matplotlib.figure.Figure at 0x15293da0>"
      ]
     },
     "metadata": {},
     "output_type": "display_data"
    }
   ],
   "source": [
    "for dim, rank in [(2, 2), (2, 4), (3, 3), (3, 9)]:\n",
    "    plt.hist([sample_purity(dim, rank=rank) for _ in range(1000)], histtype='step', label='$d = {}, r = {}$'.format(dim, rank))\n",
    "plt.legend()"
   ]
  },
  {
   "cell_type": "markdown",
   "metadata": {},
   "source": [
    "So far, we've only discussed the superoperator formalism for quantum channels, but QuTiP also supports representing channels by their Choi operators $J(\\Lambda) \\mathrel{:=} (\\mathbb{1} \\otimes \\Lambda)[|\\mathbb{1}\\rangle\\!\\rangle\\langle\\!\\langle\\mathbb{1}|]$.\n",
    "\n",
    "*NB: this is the definition for the column-stacking basis; the row-stacking basis gives $J(\\Lambda)$ in terms of $\\Lambda \\otimes \\mathbb{1}$.*"
   ]
  },
  {
   "cell_type": "code",
   "execution_count": 47,
   "metadata": {
    "collapsed": false
   },
   "outputs": [
    {
     "data": {
      "text/latex": [
       "Quantum object: dims = [[[2], [2]], [[2], [2]]], shape = [4, 4], type = super, isherm = True, superrep = choi\\begin{equation*}\\left(\\begin{array}{*{11}c}0.950 & 0.0 & 0.0 & 0.900\\\\0.0 & 0.050 & 0.0 & 0.0\\\\0.0 & 0.0 & 0.050 & 0.0\\\\0.900 & 0.0 & 0.0 & 0.950\\\\\\end{array}\\right)\\end{equation*}"
      ],
      "text/plain": [
       "Quantum object: dims = [[[2], [2]], [[2], [2]]], shape = [4, 4], type = super, isherm = True, superrep = choi\n",
       "Qobj data =\n",
       "[[ 0.95  0.    0.    0.9 ]\n",
       " [ 0.    0.05  0.    0.  ]\n",
       " [ 0.    0.    0.05  0.  ]\n",
       " [ 0.9   0.    0.    0.95]]"
      ]
     },
     "execution_count": 47,
     "metadata": {},
     "output_type": "execute_result"
    }
   ],
   "source": [
    "qt.to_choi(depol(0.9))"
   ]
  },
  {
   "cell_type": "markdown",
   "metadata": {},
   "source": [
    "The eigenvectors of the Choi operator are the superkets corresponding to another useful formalism, the Kraus operator description (this can be quickly verified by appeal to Roth's Lemma, a fancy name for the tensor reshaping operation used to stack rows or columns). In particular, ``qt.to_kraus`` returns a list of ``Qobj`` instances representing $\\{K_i\\}$ such that $\\Lambda(\\rho) = \\sum_i K_i \\rho K_i^\\dagger$.\n",
    "\n",
    "We can *test* this by using the Python keyword ``assert`` to raise an exception if the Kraus and superoperator representations of a channel make different predictions for a given state. Running this test many times then gives us confidence that the implementation is correct, or at least consistent. QuTiP uses a large battery of such tests internally to make sure that new features don't break existing features, helping to provide a robust tool for theory and experiment alike."
   ]
  },
  {
   "cell_type": "code",
   "execution_count": 52,
   "metadata": {
    "collapsed": false
   },
   "outputs": [],
   "source": [
    "for _ in range(50):\n",
    "    S = qt.rand_super_bcsz(7)\n",
    "    Ks = qt.to_kraus(S)\n",
    "    rho = qt.rand_dm_ginibre(7)\n",
    "    assert (\n",
    "        qt.vector_to_operator(S * qt.operator_to_vector(rho)) -\n",
    "        sum(\n",
    "            K * rho * K.dag()\n",
    "            for K in Ks\n",
    "        )\n",
    "    ).norm('max') <= 1e-5"
   ]
  },
  {
   "cell_type": "markdown",
   "metadata": {},
   "source": [
    "We'll see more formal approaches to unit testing than this quick example in Lecture 6, where we write our own tests in to check the correct implementation of instrument control functions and classes."
   ]
  },
  {
   "cell_type": "markdown",
   "metadata": {},
   "source": [
    "---\n",
    "\n",
    "### Epilogue ###"
   ]
  },
  {
   "cell_type": "markdown",
   "metadata": {},
   "source": [
    "We use the following Python code to enable the use of OS icons in this notebook."
   ]
  },
  {
   "cell_type": "code",
   "execution_count": 1,
   "metadata": {
    "collapsed": false
   },
   "outputs": [
    {
     "data": {
      "text/html": [
       "<script src=\"https://use.fontawesome.com/ffe6421393.js\"></script>"
      ],
      "text/plain": [
       "<IPython.core.display.HTML object>"
      ]
     },
     "execution_count": 1,
     "metadata": {},
     "output_type": "execute_result"
    }
   ],
   "source": [
    "from IPython.display import HTML, display\n",
    "HTML('<script src=\"https://use.fontawesome.com/ffe6421393.js\"></script>')"
   ]
  },
  {
   "cell_type": "code",
   "execution_count": null,
   "metadata": {
    "collapsed": true
   },
   "outputs": [],
   "source": []
  }
 ],
 "metadata": {
  "anaconda-cloud": {},
  "kernelspec": {
   "display_name": "Python 3",
   "language": "python",
   "name": "python3"
  },
  "language_info": {
   "codemirror_mode": {
    "name": "ipython",
    "version": 3
   },
   "file_extension": ".py",
   "mimetype": "text/x-python",
   "name": "python",
   "nbconvert_exporter": "python",
   "pygments_lexer": "ipython3",
   "version": "3.5.1"
  }
 },
 "nbformat": 4,
 "nbformat_minor": 1
}

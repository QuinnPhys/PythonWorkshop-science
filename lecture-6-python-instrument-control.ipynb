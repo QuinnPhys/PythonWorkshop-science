{
 "cells": [
  {
   "cell_type": "markdown",
   "metadata": {},
   "source": [
    "# Lecture 6: Python for Intrument Control (1.5 Hours) #"
   ]
  },
  {
   "cell_type": "markdown",
   "metadata": {},
   "source": [
    "### ABSTRACT ###\n",
    "\n",
    "**TODO**"
   ]
  },
  {
   "cell_type": "markdown",
   "metadata": {},
   "source": [
    "## Unitful Computing with python-quantities and Pint (15 Minutes)##"
   ]
  },
  {
   "cell_type": "markdown",
   "metadata": {},
   "source": [
    "Before getting to acutally controling instruments, we'll briefly mention how to use Python to perform numerical computations in a *unitful* way. We'll demonstrate using python-quantities, which provides a *quantity* data type to represent arrays with associated units (and is how units are handled in IntrumentKit). \n",
    "\n",
    "For now, let's go on and import python-quantities."
   ]
  },
  {
   "cell_type": "code",
   "execution_count": 2,
   "metadata": {
    "collapsed": false
   },
   "outputs": [],
   "source": [
    "import numpy as np\n",
    "import quantities as pq"
   ]
  },
  {
   "cell_type": "markdown",
   "metadata": {},
   "source": [
    "We can now create quantities by specifying both a magnitude and a unit string."
   ]
  },
  {
   "cell_type": "code",
   "execution_count": 4,
   "metadata": {
    "collapsed": false
   },
   "outputs": [
    {
     "data": {
      "text/plain": [
       "array(2) * m/s"
      ]
     },
     "execution_count": 4,
     "metadata": {},
     "output_type": "execute_result"
    }
   ],
   "source": [
    "velocity = pq.Quantity(2, 'm / s')\n",
    "velocity"
   ]
  },
  {
   "cell_type": "markdown",
   "metadata": {},
   "source": [
    "Units can also be applied by arithmetically multiplying them with an array from numpy or just a python list. The following two ways of adding units are equvalent t"
   ]
  },
  {
   "cell_type": "code",
   "execution_count": 26,
   "metadata": {
    "collapsed": false
   },
   "outputs": [
    {
     "name": "stdout",
     "output_type": "stream",
     "text": [
      "[ 1.  2.  3.] N\n",
      "[ 1.  2.  3.] N\n"
     ]
    }
   ],
   "source": [
    "vader = np.array([1,2,3]) * pq.N\n",
    "luke = [1,2,3] * pq.N\n",
    "print vader \n",
    "print luke"
   ]
  },
  {
   "cell_type": "markdown",
   "metadata": {},
   "source": [
    "Arithmetic operations on quantities respect units."
   ]
  },
  {
   "cell_type": "code",
   "execution_count": 5,
   "metadata": {
    "collapsed": false
   },
   "outputs": [
    {
     "data": {
      "text/plain": [
       "array(2.0) * m/s**2"
      ]
     },
     "execution_count": 5,
     "metadata": {},
     "output_type": "execute_result"
    }
   ],
   "source": [
    "acceleration = velocity / pq.second\n",
    "acceleration"
   ]
  },
  {
   "cell_type": "markdown",
   "metadata": {},
   "source": [
    "Importantly, operations on quantities must be correct for dimensions, but may use different units."
   ]
  },
  {
   "cell_type": "code",
   "execution_count": 6,
   "metadata": {
    "collapsed": false
   },
   "outputs": [
    {
     "data": {
      "text/plain": [
       "array(1.3048) * m"
      ]
     },
     "execution_count": 6,
     "metadata": {},
     "output_type": "execute_result"
    }
   ],
   "source": [
    "pq.Quantity(1, 'meter') + pq.Quantity(1, 'foot')"
   ]
  },
  {
   "cell_type": "code",
   "execution_count": 7,
   "metadata": {
    "collapsed": false
   },
   "outputs": [
    {
     "name": "stdout",
     "output_type": "stream",
     "text": [
      "Unable to convert between units of \"s\" and \"m\"\n"
     ]
    }
   ],
   "source": [
    "try:\n",
    "    pq.Quantity(1, 'meter') + pq.Quantity(1, 'second')\n",
    "except ValueError as ex:\n",
    "    print(ex)"
   ]
  },
  {
   "cell_type": "markdown",
   "metadata": {},
   "source": [
    "Quanities also support transforming between different unit systems; such conversions are also checked for consistent dimensions."
   ]
  },
  {
   "cell_type": "code",
   "execution_count": 8,
   "metadata": {
    "collapsed": false
   },
   "outputs": [
    {
     "data": {
      "text/plain": [
       "array(23622.047244094487) * ft/min**2"
      ]
     },
     "execution_count": 8,
     "metadata": {},
     "output_type": "execute_result"
    }
   ],
   "source": [
    "acceleration.rescale('ft / minute**2')"
   ]
  },
  {
   "cell_type": "code",
   "execution_count": 9,
   "metadata": {
    "collapsed": false
   },
   "outputs": [
    {
     "name": "stdout",
     "output_type": "stream",
     "text": [
      "Unable to convert between units of \"m/s**2\" and \"kg\"\n"
     ]
    }
   ],
   "source": [
    "try:\n",
    "    acceleration.rescale('kg')\n",
    "except ValueError as ex:\n",
    "    print(ex)"
   ]
  },
  {
   "cell_type": "markdown",
   "metadata": {},
   "source": [
    "Finally, python-quantities also provides a range of useful physical constants that we can use to quickly construct quantities."
   ]
  },
  {
   "cell_type": "code",
   "execution_count": 10,
   "metadata": {
    "collapsed": false
   },
   "outputs": [
    {
     "data": {
      "text/plain": [
       "array([[ 3.5,  0. ],\n",
       "       [ 0. , -3.5]]) * gamma_p*(h/(2*pi))*T"
      ]
     },
     "execution_count": 10,
     "metadata": {},
     "output_type": "execute_result"
    }
   ],
   "source": [
    "Sz = pq.constants.hbar * np.array([[1, 0], [0, -1]]) / 2\n",
    "H = pq.constants.gamma_p * pq.Quantity(7, 'tesla') * Sz\n",
    "H"
   ]
  },
  {
   "cell_type": "code",
   "execution_count": 11,
   "metadata": {
    "collapsed": false
   },
   "outputs": [
    {
     "data": {
      "text/plain": [
       "array([[ 149.02118732,    0.        ],\n",
       "       [   0.        , -149.02118732]]) * MHz"
      ]
     },
     "execution_count": 11,
     "metadata": {},
     "output_type": "execute_result"
    }
   ],
   "source": [
    "(H.simplified / (2 * np.pi * pq.constants.hbar)).simplified.rescale('MHz')"
   ]
  },
  {
   "cell_type": "markdown",
   "metadata": {},
   "source": [
    "## More on class inheritance (15 Minutes) ##"
   ]
  },
  {
   "cell_type": "markdown",
   "metadata": {},
   "source": [
    "## Abstract device component classes (15 Minutes) ##"
   ]
  },
  {
   "cell_type": "markdown",
   "metadata": {},
   "source": [
    "- channels, I/O, axes"
   ]
  },
  {
   "cell_type": "markdown",
   "metadata": {},
   "source": [
    "## Let's build up an Instrument and talk to it! (45 Minutes) ##"
   ]
  },
  {
   "cell_type": "code",
   "execution_count": 70,
   "metadata": {
    "collapsed": true
   },
   "outputs": [],
   "source": [
    "import logging\n",
    "logging.basicConfig(level=logging.DEBUG)"
   ]
  },
  {
   "cell_type": "code",
   "execution_count": 1,
   "metadata": {
    "collapsed": true
   },
   "outputs": [],
   "source": [
    "import instruments as ik"
   ]
  },
  {
   "cell_type": "code",
   "execution_count": 66,
   "metadata": {
    "collapsed": false
   },
   "outputs": [],
   "source": [
    "ins = ik.generic_scpi.SCPIInstrument.open_tcpip(\"localhost\",8042)"
   ]
  },
  {
   "cell_type": "code",
   "execution_count": 68,
   "metadata": {
    "collapsed": true
   },
   "outputs": [],
   "source": [
    "ins._file.debug = True"
   ]
  },
  {
   "cell_type": "code",
   "execution_count": 77,
   "metadata": {
    "collapsed": true
   },
   "outputs": [],
   "source": [
    "ins._file._query??"
   ]
  },
  {
   "cell_type": "code",
   "execution_count": 72,
   "metadata": {
    "collapsed": false
   },
   "outputs": [
    {
     "name": "stderr",
     "output_type": "stream",
     "text": [
      "DEBUG:instruments.abstract_instruments.comm.socket_communicator: <- 'VOLTS?'\n",
      "DEBUG:instruments.abstract_instruments.comm.socket_communicator: <- 'VOLTS?'\n",
      "DEBUG:instruments.abstract_instruments.comm.socket_communicator: -> '42.0'\n"
     ]
    },
    {
     "data": {
      "text/plain": [
       "'42.0'"
      ]
     },
     "execution_count": 72,
     "metadata": {},
     "output_type": "execute_result"
    }
   ],
   "source": [
    "ins.query(\"VOLTS?\")"
   ]
  },
  {
   "cell_type": "code",
   "execution_count": 73,
   "metadata": {
    "collapsed": false
   },
   "outputs": [
    {
     "name": "stderr",
     "output_type": "stream",
     "text": [
      "DEBUG:instruments.abstract_instruments.comm.socket_communicator: <- 'VOLTS 42'\n"
     ]
    }
   ],
   "source": [
    "ins.sendcmd(\"VOLTS 42\")"
   ]
  },
  {
   "cell_type": "code",
   "execution_count": 74,
   "metadata": {
    "collapsed": false
   },
   "outputs": [
    {
     "name": "stderr",
     "output_type": "stream",
     "text": [
      "DEBUG:instruments.abstract_instruments.comm.socket_communicator: <- 'ENABLE?'\n",
      "DEBUG:instruments.abstract_instruments.comm.socket_communicator: <- 'ENABLE?'\n",
      "DEBUG:instruments.abstract_instruments.comm.socket_communicator: -> 'OFF'\n"
     ]
    },
    {
     "data": {
      "text/plain": [
       "'OFF'"
      ]
     },
     "execution_count": 74,
     "metadata": {},
     "output_type": "execute_result"
    }
   ],
   "source": [
    "ins.query(\"ENABLE?\")"
   ]
  },
  {
   "cell_type": "code",
   "execution_count": 58,
   "metadata": {
    "collapsed": true
   },
   "outputs": [],
   "source": [
    "ins.sendcmd(\"ENABLE ON\")"
   ]
  },
  {
   "cell_type": "code",
   "execution_count": 32,
   "metadata": {
    "collapsed": false
   },
   "outputs": [
    {
     "data": {
      "text/plain": [
       "'EPQIS16 Demonstration Instrument'"
      ]
     },
     "execution_count": 32,
     "metadata": {},
     "output_type": "execute_result"
    }
   ],
   "source": [
    "ins.query(\"*IDN?\")"
   ]
  },
  {
   "cell_type": "markdown",
   "metadata": {},
   "source": [
    "| SPCI command              | Example usage                                                      | Options                                                                                 | Description                                           |\n",
    "|---------------------------|--------------------------------------------------------------------|-----------------------------------------------------------------------------------------|-------------------------------------------------------|\n",
    "| ``*IDN?``                | Query return:<br>``EPQIS16 Demonstration Instrument``              |                                                                                         | Find out what the name of the instument is.           |\n",
    "| ``VOLTS? <ch>``          | ``VOLTS? 0``<br>``VOLTS? 1``<br>Query return:<br>``{value in mV}`` | ``<ch> = {0,1}``<br>Default: ``0``                                                      | Check what the ouput voltage is set to  (returns mV). |\n",
    "| ``VOLTS  <ch> <val>``    | ``VOLTS 0 314``<br>``VOLTS 1 159``                               | ``<ch> = {0,1}``<br>Default: ``0``<br>``<val> = voltage value in mV``<br>Default: ``0`` | Set the voltage output (provided value is mV).        |\n",
    "| ``ENABLE <ch> <state>``  | ``ENABLE 0 OFF``<br>``ENABLE 1 ON``                              | ``<ch> = {0,1}``<br>Default: ``0``<br>``<state> = {ON,OFF}``<br>Default: ``OFF``        | Toggle the voltage channel output on/off.             |     \n",
    "| ``ENABLE? <ch>``         | ``ENABLE? 0``<br>``ENABLE? 1``<br> Query return:<br>``{ON, OFF}``  | ``<ch> = {0,1}``<br>Default: ``0``                                                      | Check the ouput status of a voltage channel.          | "
   ]
  },
  {
   "cell_type": "code",
   "execution_count": null,
   "metadata": {
    "collapsed": true
   },
   "outputs": [],
   "source": []
  },
  {
   "cell_type": "code",
   "execution_count": null,
   "metadata": {
    "collapsed": true
   },
   "outputs": [],
   "source": []
  },
  {
   "cell_type": "markdown",
   "metadata": {},
   "source": [
    "``` bash\n",
    "C:\\Users\\Sarah\\Documents\\GitHub\\PythonWorkshop-science\\epqis16-demos [master ≡ +0 ~2 -0 !]> epqis16 demo_instrument\n",
    "Waiting for a connection from InstrumentKit on port 8042...........\n",
    "InstrumentKit connected, opening instrument!\n",
    "ERR\n",
    "\n",
    "EPQIS16 Demonstration Instrument\n",
    "\n",
    "QThread: Destroyed while thread is still running\n",
    "Fatal Python error: PyImport_GetModuleDict: no module dictionary!\n",
    "\n",
    "This application has requested the Runtime to terminate it in an unusual way.\n",
    "Please contact the application's support team for more information.\n",
    "```"
   ]
  },
  {
   "cell_type": "markdown",
   "metadata": {},
   "source": [
    "- like catherine's [tutoral](http://catherineh.github.io/programming/2016/08/15/contributing-a-scientific-instrument-driver-to-instrumentkit.html), is there a real physical device we can use or does a dummy need written"
   ]
  },
  {
   "cell_type": "markdown",
   "metadata": {},
   "source": [
    "## ~~Unit testing (10 Minutes)~~ ##"
   ]
  },
  {
   "cell_type": "markdown",
   "metadata": {},
   "source": [
    "- ~~so you dont have a bad day or make anyone else's bad~~"
   ]
  },
  {
   "cell_type": "markdown",
   "metadata": {},
   "source": [
    "## Lots of options of starting points, don't reinvent the wheel! ## "
   ]
  },
  {
   "cell_type": "markdown",
   "metadata": {},
   "source": [
    "- [InstrumentKit](http://instrumentkit.readthedocs.io/en/latest/index.html)\n",
    "- [Instrumental](http://instrumental-lib.readthedocs.io/en/latest/)\n",
    "- [QuDi](http://qosvn.physik.uni-ulm.de/trac/qudi)  \n",
    "- [Python IVI](http://alexforencich.com/wiki/en/python-ivi/readme)"
   ]
  }
 ],
 "metadata": {
  "anaconda-cloud": {},
  "kernelspec": {
   "display_name": "Python [default]",
   "language": "python",
   "name": "python2"
  },
  "language_info": {
   "codemirror_mode": {
    "name": "ipython",
    "version": 2
   },
   "file_extension": ".py",
   "mimetype": "text/x-python",
   "name": "python",
   "nbconvert_exporter": "python",
   "pygments_lexer": "ipython2",
   "version": "2.7.12"
  }
 },
 "nbformat": 4,
 "nbformat_minor": 1
}

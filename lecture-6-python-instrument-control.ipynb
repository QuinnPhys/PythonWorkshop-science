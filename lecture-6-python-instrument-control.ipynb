{
 "cells": [
  {
   "cell_type": "markdown",
   "metadata": {},
   "source": [
    "# Lecture 6: Python for Intrument Control (1.5 Hours) #"
   ]
  },
  {
   "cell_type": "markdown",
   "metadata": {},
   "source": [
    "### ABSTRACT ###\n",
    "\n",
    "In this lecture we will see how we can use Python to communicate with scientific instruments. First we will look at two packages that help add unit support to Python. Then we will revisit classes and how they can be usefull for desiging python interfaces to communicate to devices. We will then work on designing a driver for a demo instrument provided in the [git repo](https://github.com/QuinnPhys/PythonWorkshop-science) for this project."
   ]
  },
  {
   "cell_type": "markdown",
   "metadata": {},
   "source": [
    "## Unitful Computing with python-quantities and Pint (15 Minutes)##"
   ]
  },
  {
   "cell_type": "markdown",
   "metadata": {},
   "source": [
    "Before getting to acutally controling instruments, we'll briefly mention how to use Python to perform numerical computations in a *unitful* way. We'll demonstrate using python-quantities, which provides a *quantity* data type to represent arrays with associated units (and is how units are handled in IntrumentKit). \n",
    "\n",
    "For now, let's go on and import python-quantities."
   ]
  },
  {
   "cell_type": "code",
   "execution_count": 1,
   "metadata": {
    "collapsed": false
   },
   "outputs": [],
   "source": [
    "import numpy as np\n",
    "import quantities as pq"
   ]
  },
  {
   "cell_type": "markdown",
   "metadata": {},
   "source": [
    "We can now create quantities by specifying both a magnitude and a unit string."
   ]
  },
  {
   "cell_type": "code",
   "execution_count": 2,
   "metadata": {
    "collapsed": false
   },
   "outputs": [
    {
     "data": {
      "text/plain": [
       "array(2) * m/s"
      ]
     },
     "execution_count": 2,
     "metadata": {},
     "output_type": "execute_result"
    }
   ],
   "source": [
    "velocity = pq.Quantity(2, 'm / s')\n",
    "velocity"
   ]
  },
  {
   "cell_type": "markdown",
   "metadata": {},
   "source": [
    "Units can also be applied by arithmetically multiplying them with an array from numpy or just a python list. The following two ways of adding units are equvalent:"
   ]
  },
  {
   "cell_type": "code",
   "execution_count": 3,
   "metadata": {
    "collapsed": false
   },
   "outputs": [
    {
     "name": "stdout",
     "output_type": "stream",
     "text": [
      "[ 1.  2.  3.] N\n",
      "[ 1.  2.  3.] N\n"
     ]
    }
   ],
   "source": [
    "vader = np.array([1,2,3]) * pq.N\n",
    "luke = [1,2,3] * pq.N\n",
    "print(vader) \n",
    "print(luke)"
   ]
  },
  {
   "cell_type": "markdown",
   "metadata": {},
   "source": [
    "Arithmetic operations on quantities respect units."
   ]
  },
  {
   "cell_type": "code",
   "execution_count": 4,
   "metadata": {
    "collapsed": false
   },
   "outputs": [
    {
     "data": {
      "text/plain": [
       "array(2.0) * m/s**2"
      ]
     },
     "execution_count": 4,
     "metadata": {},
     "output_type": "execute_result"
    }
   ],
   "source": [
    "acceleration = velocity / pq.second\n",
    "acceleration"
   ]
  },
  {
   "cell_type": "markdown",
   "metadata": {},
   "source": [
    "Importantly, operations on quantities must be correct for dimensions, but may use different units."
   ]
  },
  {
   "cell_type": "code",
   "execution_count": 5,
   "metadata": {
    "collapsed": false
   },
   "outputs": [
    {
     "data": {
      "text/plain": [
       "array(1.3048) * m"
      ]
     },
     "execution_count": 5,
     "metadata": {},
     "output_type": "execute_result"
    }
   ],
   "source": [
    "pq.Quantity(1, 'meter') + pq.Quantity(1, 'foot')"
   ]
  },
  {
   "cell_type": "markdown",
   "metadata": {},
   "source": [
    "Now, you may ask what happens when we use dimensionally incorrect units. Look at the below raised error:"
   ]
  },
  {
   "cell_type": "code",
   "execution_count": 6,
   "metadata": {
    "collapsed": false
   },
   "outputs": [
    {
     "ename": "ValueError",
     "evalue": "Unable to convert between units of \"s\" and \"m\"",
     "output_type": "error",
     "traceback": [
      "\u001b[0;31m---------------------------------------------------------------------------\u001b[0m",
      "\u001b[0;31mAssertionError\u001b[0m                            Traceback (most recent call last)",
      "\u001b[0;32m/home/skaiser/anaconda3/lib/python3.5/site-packages/quantities/quantity.py\u001b[0m in \u001b[0;36mrescale\u001b[0;34m(self, units)\u001b[0m\n\u001b[1;32m    191\u001b[0m         \u001b[0;32mtry\u001b[0m\u001b[0;34m:\u001b[0m\u001b[0;34m\u001b[0m\u001b[0m\n\u001b[0;32m--> 192\u001b[0;31m             \u001b[0mcf\u001b[0m \u001b[0;34m=\u001b[0m \u001b[0mget_conversion_factor\u001b[0m\u001b[0;34m(\u001b[0m\u001b[0mfrom_u\u001b[0m\u001b[0;34m,\u001b[0m \u001b[0mto_u\u001b[0m\u001b[0;34m)\u001b[0m\u001b[0;34m\u001b[0m\u001b[0m\n\u001b[0m\u001b[1;32m    193\u001b[0m         \u001b[0;32mexcept\u001b[0m \u001b[0mAssertionError\u001b[0m\u001b[0;34m:\u001b[0m\u001b[0;34m\u001b[0m\u001b[0m\n",
      "\u001b[0;32m/home/skaiser/anaconda3/lib/python3.5/site-packages/quantities/quantity.py\u001b[0m in \u001b[0;36mget_conversion_factor\u001b[0;34m(from_u, to_u)\u001b[0m\n\u001b[1;32m     52\u001b[0m     \u001b[0mto_u\u001b[0m \u001b[0;34m=\u001b[0m \u001b[0mto_u\u001b[0m\u001b[0;34m.\u001b[0m\u001b[0m_reference\u001b[0m\u001b[0;34m\u001b[0m\u001b[0m\n\u001b[0;32m---> 53\u001b[0;31m     \u001b[0;32massert\u001b[0m \u001b[0mfrom_u\u001b[0m\u001b[0;34m.\u001b[0m\u001b[0mdimensionality\u001b[0m \u001b[0;34m==\u001b[0m \u001b[0mto_u\u001b[0m\u001b[0;34m.\u001b[0m\u001b[0mdimensionality\u001b[0m\u001b[0;34m\u001b[0m\u001b[0m\n\u001b[0m\u001b[1;32m     54\u001b[0m     \u001b[0;32mreturn\u001b[0m \u001b[0mfrom_u\u001b[0m\u001b[0;34m.\u001b[0m\u001b[0mmagnitude\u001b[0m \u001b[0;34m/\u001b[0m \u001b[0mto_u\u001b[0m\u001b[0;34m.\u001b[0m\u001b[0mmagnitude\u001b[0m\u001b[0;34m\u001b[0m\u001b[0m\n",
      "\u001b[0;31mAssertionError\u001b[0m: ",
      "\nDuring handling of the above exception, another exception occurred:\n",
      "\u001b[0;31mValueError\u001b[0m                                Traceback (most recent call last)",
      "\u001b[0;32m<ipython-input-6-3c7bda4e7ce9>\u001b[0m in \u001b[0;36m<module>\u001b[0;34m()\u001b[0m\n\u001b[0;32m----> 1\u001b[0;31m \u001b[0mpq\u001b[0m\u001b[0;34m.\u001b[0m\u001b[0mQuantity\u001b[0m\u001b[0;34m(\u001b[0m\u001b[0;36m1\u001b[0m\u001b[0;34m,\u001b[0m \u001b[0;34m'meter'\u001b[0m\u001b[0;34m)\u001b[0m \u001b[0;34m+\u001b[0m \u001b[0mpq\u001b[0m\u001b[0;34m.\u001b[0m\u001b[0mQuantity\u001b[0m\u001b[0;34m(\u001b[0m\u001b[0;36m1\u001b[0m\u001b[0;34m,\u001b[0m \u001b[0;34m'second'\u001b[0m\u001b[0;34m)\u001b[0m\u001b[0;34m\u001b[0m\u001b[0m\n\u001b[0m",
      "\u001b[0;32m/home/skaiser/anaconda3/lib/python3.5/site-packages/quantities/quantity.py\u001b[0m in \u001b[0;36mg\u001b[0;34m(self, other, *args)\u001b[0m\n\u001b[1;32m     61\u001b[0m             \u001b[0mother\u001b[0m \u001b[0;34m=\u001b[0m \u001b[0mother\u001b[0m\u001b[0;34m.\u001b[0m\u001b[0mview\u001b[0m\u001b[0;34m(\u001b[0m\u001b[0mtype\u001b[0m\u001b[0;34m=\u001b[0m\u001b[0mQuantity\u001b[0m\u001b[0;34m)\u001b[0m\u001b[0;34m\u001b[0m\u001b[0m\n\u001b[1;32m     62\u001b[0m         \u001b[0;32mif\u001b[0m \u001b[0mother\u001b[0m\u001b[0;34m.\u001b[0m\u001b[0m_dimensionality\u001b[0m \u001b[0;34m!=\u001b[0m \u001b[0mself\u001b[0m\u001b[0;34m.\u001b[0m\u001b[0m_dimensionality\u001b[0m\u001b[0;34m:\u001b[0m\u001b[0;34m\u001b[0m\u001b[0m\n\u001b[0;32m---> 63\u001b[0;31m             \u001b[0mother\u001b[0m \u001b[0;34m=\u001b[0m \u001b[0mother\u001b[0m\u001b[0;34m.\u001b[0m\u001b[0mrescale\u001b[0m\u001b[0;34m(\u001b[0m\u001b[0mself\u001b[0m\u001b[0;34m.\u001b[0m\u001b[0munits\u001b[0m\u001b[0;34m)\u001b[0m\u001b[0;34m\u001b[0m\u001b[0m\n\u001b[0m\u001b[1;32m     64\u001b[0m         \u001b[0;32mreturn\u001b[0m \u001b[0mf\u001b[0m\u001b[0;34m(\u001b[0m\u001b[0mself\u001b[0m\u001b[0;34m,\u001b[0m \u001b[0mother\u001b[0m\u001b[0;34m,\u001b[0m \u001b[0;34m*\u001b[0m\u001b[0margs\u001b[0m\u001b[0;34m)\u001b[0m\u001b[0;34m\u001b[0m\u001b[0m\n\u001b[1;32m     65\u001b[0m     \u001b[0;32mreturn\u001b[0m \u001b[0mg\u001b[0m\u001b[0;34m\u001b[0m\u001b[0m\n",
      "\u001b[0;32m/home/skaiser/anaconda3/lib/python3.5/site-packages/quantities/quantity.py\u001b[0m in \u001b[0;36mrescale\u001b[0;34m(self, units)\u001b[0m\n\u001b[1;32m    194\u001b[0m             raise ValueError(\n\u001b[1;32m    195\u001b[0m                 \u001b[0;34m'Unable to convert between units of \"%s\" and \"%s\"'\u001b[0m\u001b[0;34m\u001b[0m\u001b[0m\n\u001b[0;32m--> 196\u001b[0;31m                 \u001b[0;34m%\u001b[0m\u001b[0;34m(\u001b[0m\u001b[0mfrom_u\u001b[0m\u001b[0;34m.\u001b[0m\u001b[0m_dimensionality\u001b[0m\u001b[0;34m,\u001b[0m \u001b[0mto_u\u001b[0m\u001b[0;34m.\u001b[0m\u001b[0m_dimensionality\u001b[0m\u001b[0;34m)\u001b[0m\u001b[0;34m\u001b[0m\u001b[0m\n\u001b[0m\u001b[1;32m    197\u001b[0m             )\n\u001b[1;32m    198\u001b[0m         \u001b[0;32mreturn\u001b[0m \u001b[0mQuantity\u001b[0m\u001b[0;34m(\u001b[0m\u001b[0mcf\u001b[0m\u001b[0;34m*\u001b[0m\u001b[0mself\u001b[0m\u001b[0;34m.\u001b[0m\u001b[0mmagnitude\u001b[0m\u001b[0;34m,\u001b[0m \u001b[0mto_u\u001b[0m\u001b[0;34m)\u001b[0m\u001b[0;34m\u001b[0m\u001b[0m\n",
      "\u001b[0;31mValueError\u001b[0m: Unable to convert between units of \"s\" and \"m\""
     ]
    }
   ],
   "source": [
    "pq.Quantity(1, 'meter') + pq.Quantity(1, 'second')"
   ]
  },
  {
   "cell_type": "markdown",
   "metadata": {},
   "source": [
    "This looks quite long, but there is basically two main places to look for what the error was: at the top ``ValueError`` and the bottom: ``ValueError: Unable to convert between units of \"s\" and \"m\"``. The text in the middle is just tracking where the fuctions were called from and is often not needed to troubleshoot the problem. We can use python statements ``try:`` and ``except`` to help us make errors more readable."
   ]
  },
  {
   "cell_type": "code",
   "execution_count": 7,
   "metadata": {
    "collapsed": false
   },
   "outputs": [
    {
     "name": "stdout",
     "output_type": "stream",
     "text": [
      "Unable to convert between units of \"s\" and \"m\"\n"
     ]
    }
   ],
   "source": [
    "try:\n",
    "    pq.Quantity(1, 'meter') + pq.Quantity(1, 'second')\n",
    "except ValueError as ex:\n",
    "    print(ex)"
   ]
  },
  {
   "cell_type": "markdown",
   "metadata": {},
   "source": [
    "Quanities also support transforming between different unit systems. You can do this in one of two ways, you can directly set the atribute ``.units`` of the object or use the rescale method. \n",
    "\n",
    "*NB: if you directly set the atribute by spectifying a named module variable (``pq.hour``) you must use the singular version of the name of the unit (not ``pq.hours``). If you are specifying a unit as a strin"
   ]
  },
  {
   "cell_type": "code",
   "execution_count": 8,
   "metadata": {
    "collapsed": false
   },
   "outputs": [
    {
     "name": "stdout",
     "output_type": "stream",
     "text": [
      "8760.0 h\n"
     ]
    },
    {
     "data": {
      "text/plain": [
       "array(365.0) * d"
      ]
     },
     "execution_count": 8,
     "metadata": {},
     "output_type": "execute_result"
    }
   ],
   "source": [
    "love = pq.Quantity(525600.0, 'minutes')\n",
    "love.units = pq.hour\n",
    "print(love)\n",
    "love.rescale('days')"
   ]
  },
  {
   "cell_type": "markdown",
   "metadata": {},
   "source": [
    "Such conversions are also checked for consistent dimensions."
   ]
  },
  {
   "cell_type": "code",
   "execution_count": 9,
   "metadata": {
    "collapsed": false
   },
   "outputs": [
    {
     "name": "stdout",
     "output_type": "stream",
     "text": [
      "Unable to convert between units of \"m/s**2\" and \"kg\"\n"
     ]
    }
   ],
   "source": [
    "try:\n",
    "    acceleration.rescale('kg')\n",
    "except ValueError as ex:\n",
    "    print(ex)"
   ]
  },
  {
   "cell_type": "markdown",
   "metadata": {},
   "source": [
    "Finally, python-quantities also provides a range of useful physical constants that we can use to quickly construct quantities. "
   ]
  },
  {
   "cell_type": "code",
   "execution_count": 10,
   "metadata": {
    "collapsed": false
   },
   "outputs": [
    {
     "name": "stdout",
     "output_type": "stream",
     "text": [
      "[[ 3.5  0. ]\n",
      " [ 0.  -3.5]] gamma_p*(h/(2*pi))*T\n"
     ]
    }
   ],
   "source": [
    "Sz = pq.constants.hbar * np.array([[1, 0], [0, -1]]) / 2\n",
    "H = pq.constants.gamma_p * pq.Quantity(7, 'tesla') * Sz\n",
    "print(H)"
   ]
  },
  {
   "cell_type": "markdown",
   "metadata": {},
   "source": [
    "To make it easier to compare values, you can use the atribute simplified to convert all the units to the defaults for that dimension. "
   ]
  },
  {
   "cell_type": "code",
   "execution_count": 11,
   "metadata": {
    "collapsed": false
   },
   "outputs": [
    {
     "name": "stdout",
     "output_type": "stream",
     "text": [
      "[[  9.87424663e-26   0.00000000e+00]\n",
      " [  0.00000000e+00  -9.87424663e-26]] kg*m**2/s**2\n"
     ]
    },
    {
     "data": {
      "text/plain": [
       "array([[ 149.02118732,    0.        ],\n",
       "       [   0.        , -149.02118732]]) * MHz"
      ]
     },
     "execution_count": 11,
     "metadata": {},
     "output_type": "execute_result"
    }
   ],
   "source": [
    "print(H.simplified)\n",
    "(H.simplified / (2 * np.pi * pq.constants.hbar)).simplified.rescale('MHz')"
   ]
  },
  {
   "cell_type": "markdown",
   "metadata": {},
   "source": [
    "### Pint units package ###"
   ]
  },
  {
   "cell_type": "markdown",
   "metadata": {},
   "source": [
    "As we might expect, there is more than one option for a packackage in python that can help us handle units. [Pint](https://pint.readthedocs.io/en/0.7.2/) is chronologically a newer package, but with a bit more features than quantities. "
   ]
  },
  {
   "cell_type": "markdown",
   "metadata": {},
   "source": [
    "First, let's check to see if the package is installed. Try running: \n",
    "```bash \n",
    "pip show pint\n",
    "```\n",
    "in your shell to see if pip knows about the package. If it returns nothing, then you do not have it installed and you should run:\n",
    "```bash \n",
    "pip install pint\n",
    "```\n",
    "If if does print out some stuff to the screen, then it will show you where it has the package installed. Let's look at some examples of using the Pint package. "
   ]
  },
  {
   "cell_type": "markdown",
   "metadata": {},
   "source": [
    "Pints has this concept of a unit registry, that is a list of all the supported units and their relationship. "
   ]
  },
  {
   "cell_type": "code",
   "execution_count": 12,
   "metadata": {
    "collapsed": true
   },
   "outputs": [],
   "source": [
    "import pint \n",
    "ureg = pint.UnitRegistry()"
   ]
  },
  {
   "cell_type": "markdown",
   "metadata": {},
   "source": [
    "To use these units you simply multiply the magnitude of the value by an instance of a unit object defined by the unit registry. The variable ``time`` then becomes an instance of a quantitiy object:"
   ]
  },
  {
   "cell_type": "code",
   "execution_count": 13,
   "metadata": {
    "collapsed": false
   },
   "outputs": [
    {
     "name": "stdout",
     "output_type": "stream",
     "text": [
      "8.0 second\n"
     ]
    },
    {
     "data": {
      "text/plain": [
       "pint.unit.build_quantity_class.<locals>.Quantity"
      ]
     },
     "execution_count": 13,
     "metadata": {},
     "output_type": "execute_result"
    }
   ],
   "source": [
    "time = 8.0 * ureg.second\n",
    "print(time)\n",
    "type(time)"
   ]
  },
  {
   "cell_type": "markdown",
   "metadata": {},
   "source": [
    "You can also provide the units as a string that Pint will parse:"
   ]
  },
  {
   "cell_type": "code",
   "execution_count": 14,
   "metadata": {
    "collapsed": true
   },
   "outputs": [],
   "source": [
    "time = 8.0 * ureg('seconds')"
   ]
  },
  {
   "cell_type": "markdown",
   "metadata": {},
   "source": [
    "Being an instance of a quantity type means that we can access atributes of ``time``:"
   ]
  },
  {
   "cell_type": "code",
   "execution_count": 15,
   "metadata": {
    "collapsed": false
   },
   "outputs": [
    {
     "name": "stdout",
     "output_type": "stream",
     "text": [
      "8.0\n",
      "second\n",
      "[time]\n"
     ]
    }
   ],
   "source": [
    "print(time.magnitude)\n",
    "print(time.units)\n",
    "print(time.dimensionality)"
   ]
  },
  {
   "cell_type": "markdown",
   "metadata": {},
   "source": [
    "We can look at how these ``Quantity`` objects are represented internaly:"
   ]
  },
  {
   "cell_type": "code",
   "execution_count": 16,
   "metadata": {
    "collapsed": false
   },
   "outputs": [
    {
     "name": "stdout",
     "output_type": "stream",
     "text": [
      "<Quantity(8.0, 'second')>\n"
     ]
    }
   ],
   "source": [
    "print(repr(time))"
   ]
  },
  {
   "cell_type": "markdown",
   "metadata": {},
   "source": [
    "This then allows us to be more direct about creating an instance of a ``Quantity``:"
   ]
  },
  {
   "cell_type": "code",
   "execution_count": 17,
   "metadata": {
    "collapsed": false
   },
   "outputs": [
    {
     "name": "stdout",
     "output_type": "stream",
     "text": [
      "3 foot\n"
     ]
    }
   ],
   "source": [
    "distance = ureg.Quantity(3, 'feet')\n",
    "print(distance)"
   ]
  },
  {
   "cell_type": "markdown",
   "metadata": {},
   "source": [
    "We can perform arithmetic operations with the ``Quantity`` objects with no special syntax:"
   ]
  },
  {
   "cell_type": "code",
   "execution_count": 18,
   "metadata": {
    "collapsed": false
   },
   "outputs": [
    {
     "name": "stdout",
     "output_type": "stream",
     "text": [
      "0.375 foot / second\n"
     ]
    }
   ],
   "source": [
    "speed = np.absolute( distance / time )\n",
    "print(speed)"
   ]
  },
  {
   "cell_type": "markdown",
   "metadata": {},
   "source": [
    "We can easily convert quantities with the ``.to`` method, which generates a new object with the new units. Else to change the units associated with the object ``speed`` we can ise the ``.ito`` method."
   ]
  },
  {
   "cell_type": "code",
   "execution_count": 19,
   "metadata": {
    "collapsed": false
   },
   "outputs": [
    {
     "name": "stdout",
     "output_type": "stream",
     "text": [
      "0.375 foot / second\n",
      "0.41147999999999996 kilometer / hour\n"
     ]
    }
   ],
   "source": [
    "speed.to(ureg.km / ureg.hour)\n",
    "print(speed)\n",
    "speed.ito(ureg.km / ureg.hour)\n",
    "print(speed)"
   ]
  },
  {
   "cell_type": "markdown",
   "metadata": {},
   "source": [
    "Similar to quantities, Pint will warn when a particular unit conversion is not possible."
   ]
  },
  {
   "cell_type": "code",
   "execution_count": 20,
   "metadata": {
    "collapsed": false
   },
   "outputs": [
    {
     "name": "stdout",
     "output_type": "stream",
     "text": [
      "Cannot convert from 'kilometer / hour' ([length] / [time]) to 'newton' ([length] * [mass] / [time] ** 2)\n"
     ]
    }
   ],
   "source": [
    "try:\n",
    "    speed.to(ureg.N)\n",
    "except pint.errors.DimensionalityError as ex:\n",
    "    print(ex)"
   ]
  },
  {
   "cell_type": "markdown",
   "metadata": {},
   "source": [
    "Lastly, if we want to look up what units are defined in the current registry, we can look at the different unit systems the registry knows about. By default calling ``ureg = UnitRegistry()`` makes units from all systems available."
   ]
  },
  {
   "cell_type": "code",
   "execution_count": 21,
   "metadata": {
    "collapsed": false
   },
   "outputs": [
    {
     "data": {
      "text/plain": [
       "['US', 'cgs', 'imperial', 'mks']"
      ]
     },
     "execution_count": 21,
     "metadata": {},
     "output_type": "execute_result"
    }
   ],
   "source": [
    "dir(ureg.sys)"
   ]
  },
  {
   "cell_type": "markdown",
   "metadata": {},
   "source": [
    "To see what units are defined in a specific unit system just look at the atributes of the system:"
   ]
  },
  {
   "cell_type": "code",
   "execution_count": 22,
   "metadata": {
    "collapsed": false
   },
   "outputs": [
    {
     "data": {
      "text/plain": [
       "['UK_hundredweight',\n",
       " 'UK_ton',\n",
       " 'acre_foot',\n",
       " 'cubic_foot',\n",
       " 'cubic_inch',\n",
       " 'cubic_yard',\n",
       " 'drachm',\n",
       " 'foot',\n",
       " 'grain',\n",
       " 'imperial_barrel',\n",
       " 'imperial_bushel',\n",
       " 'imperial_cup',\n",
       " 'imperial_fluid_drachm',\n",
       " 'imperial_fluid_ounce',\n",
       " 'imperial_gallon',\n",
       " 'imperial_gill',\n",
       " 'imperial_peck',\n",
       " 'imperial_pint',\n",
       " 'imperial_quart',\n",
       " 'inch',\n",
       " 'long_hunderweight',\n",
       " 'long_ton',\n",
       " 'mile',\n",
       " 'ounce',\n",
       " 'pound',\n",
       " 'quarter',\n",
       " 'short_hunderdweight',\n",
       " 'short_ton',\n",
       " 'square_foot',\n",
       " 'square_inch',\n",
       " 'square_mile',\n",
       " 'square_yard',\n",
       " 'stone',\n",
       " 'yard']"
      ]
     },
     "execution_count": 22,
     "metadata": {},
     "output_type": "execute_result"
    }
   ],
   "source": [
    "dir(ureg.sys.imperial)"
   ]
  },
  {
   "cell_type": "markdown",
   "metadata": {},
   "source": [
    "## More on class inheritance (25 Minutes) ##"
   ]
  },
  {
   "cell_type": "markdown",
   "metadata": {},
   "source": [
    "Recall that in Python all types are functions which return values of that type. Classes in python are a way of defining new types. Let's look a little more in-depth at classes and how they can be useful to us for communicating with instruments."
   ]
  },
  {
   "cell_type": "markdown",
   "metadata": {},
   "source": [
    "We will use this ``ExampleClass`` to explore our understanding of classes. It inherits the attributes of the ``object`` class which is the most basic class one can inherit from. Unlike the previous examples we are specifing an ``__init__`` definition. This function is called when an instance of the class is created and allows us to specify input arguments. "
   ]
  },
  {
   "cell_type": "code",
   "execution_count": 23,
   "metadata": {
    "collapsed": false
   },
   "outputs": [],
   "source": [
    "class ExampleClass(object):\n",
    "    '''\n",
    "    An example of a basic class with attributes and methods.\n",
    "    '''\n",
    "    def __init__(self, name, value):\n",
    "        '''\n",
    "        Initialize the class, set the name, and value for the exponent method.\n",
    "        '''\n",
    "        self.name = name\n",
    "        self.value = value\n",
    "    \n",
    "    tally = 0\n",
    "    \n",
    "    def test_exponent(self, x):\n",
    "        self.tally = self.tally + 1\n",
    "        return x ** self.value\n",
    "    def say_name(self):\n",
    "        print('My name is {name}. I raise thing to the power of {power}.'.format(name = self.name, power = self.value))\n",
    "        "
   ]
  },
  {
   "cell_type": "markdown",
   "metadata": {},
   "source": [
    "You might notice the text inclosed with '''. This is called a ``Docstring`` and is basically documentation attached to that class. If you try running the below line, you can see that this text is then displayed in the pop-up."
   ]
  },
  {
   "cell_type": "code",
   "execution_count": 24,
   "metadata": {
    "collapsed": true
   },
   "outputs": [],
   "source": [
    "?ExampleClass"
   ]
  },
  {
   "cell_type": "markdown",
   "metadata": {},
   "source": [
    "We can then create an instance of this class by choosing a name and an exponent value. We can also check on the value of the attribute ``tally``:"
   ]
  },
  {
   "cell_type": "code",
   "execution_count": 25,
   "metadata": {
    "collapsed": false
   },
   "outputs": [
    {
     "name": "stdout",
     "output_type": "stream",
     "text": [
      "My name is Bob. I raise thing to the power of 3.\n",
      "27\n",
      "1\n"
     ]
    }
   ],
   "source": [
    "cls = ExampleClass('Bob', 3)\n",
    "cls.say_name()\n",
    "print(cls.test_exponent(3))\n",
    "print(cls.tally)"
   ]
  },
  {
   "cell_type": "markdown",
   "metadata": {},
   "source": [
    "We can check to see if  the atribute ``tally`` is keeping track of how many times we have called the ``test_exponent`` method."
   ]
  },
  {
   "cell_type": "code",
   "execution_count": 26,
   "metadata": {
    "collapsed": false
   },
   "outputs": [
    {
     "name": "stdout",
     "output_type": "stream",
     "text": [
      "64\n",
      "2\n"
     ]
    }
   ],
   "source": [
    "print(cls.test_exponent(4))\n",
    "print(cls.tally)"
   ]
  },
  {
   "cell_type": "markdown",
   "metadata": {},
   "source": [
    "If we want to look to see what attributes that ``ExampleClass`` is inheriting from ``object`` we can use the ``dir`` function to list atributes:"
   ]
  },
  {
   "cell_type": "code",
   "execution_count": 27,
   "metadata": {
    "collapsed": false
   },
   "outputs": [
    {
     "data": {
      "text/plain": [
       "['__class__',\n",
       " '__delattr__',\n",
       " '__dir__',\n",
       " '__doc__',\n",
       " '__eq__',\n",
       " '__format__',\n",
       " '__ge__',\n",
       " '__getattribute__',\n",
       " '__gt__',\n",
       " '__hash__',\n",
       " '__init__',\n",
       " '__le__',\n",
       " '__lt__',\n",
       " '__ne__',\n",
       " '__new__',\n",
       " '__reduce__',\n",
       " '__reduce_ex__',\n",
       " '__repr__',\n",
       " '__setattr__',\n",
       " '__sizeof__',\n",
       " '__str__',\n",
       " '__subclasshook__']"
      ]
     },
     "execution_count": 27,
     "metadata": {},
     "output_type": "execute_result"
    }
   ],
   "source": [
    "dir(object)"
   ]
  },
  {
   "cell_type": "markdown",
   "metadata": {},
   "source": [
    "Inheriting these atributes means that they are also valid atributes of ``ExampleClass``. For example ``__sizeof__`` is defined for an instance of our example class ``cls`` and returns the internal size in bytes for the given object:"
   ]
  },
  {
   "cell_type": "code",
   "execution_count": 28,
   "metadata": {
    "collapsed": false
   },
   "outputs": [
    {
     "data": {
      "text/plain": [
       "32"
      ]
     },
     "execution_count": 28,
     "metadata": {},
     "output_type": "execute_result"
    }
   ],
   "source": [
    "cls.__sizeof__()"
   ]
  },
  {
   "cell_type": "markdown",
   "metadata": {},
   "source": [
    "Having this inheriting structure for classes makes it easy to share definitions for methods, which can reduce copy/pasting of code and make things more readable. We are going to explore this idea further now by looking at some \"general\" or \"abstract\" classes that could describe an instrument we might want to control with python. Then to control a specific model of that instrument we can write a new class that inherits methods and atributes that we have already specified as being a part of an abstract version of that instrument. \n",
    "\n",
    "Python packages that you might find for instrument control will work similarly, you use the package both for the template classes that they define for instruments, as well as haveing specific classes that are writen to talk to specific devices. "
   ]
  },
  {
   "cell_type": "markdown",
   "metadata": {},
   "source": [
    "## Let's build up an Instrument and talk to it! (50 Minutes) ##"
   ]
  },
  {
   "cell_type": "markdown",
   "metadata": {
    "collapsed": true
   },
   "source": [
    "For the purposes of this lecture we will use the ``InstrumentKit`` python package to write a class that can talk to a fake instrument. **TODO: instrument install instructions**"
   ]
  },
  {
   "cell_type": "markdown",
   "metadata": {},
   "source": [
    "Consider the following situation: your experiment needs constant babysitting to set values and make sure that it functions correctly. You decide that to make your life simpler you will write a program that can set all the measurements needed and save the output data. The device you need to control is a four channel DC power supply. Opening the manual you find the following table for what commands you can send to the device:"
   ]
  },
  {
   "cell_type": "markdown",
   "metadata": {},
   "source": [
    "| SPCI command              | Example usage                                                      | Options                                                                                 | Description                                           |\n",
    "|---------------------------|--------------------------------------------------------------------|-----------------------------------------------------------------------------------------|-------------------------------------------------------|\n",
    "| ``*IDN?``                | Query return:<br>``EPQIS16 Demonstration Instrument``              |                                                                                         | Find out what the name of the instument is.           |\n",
    "| ``VOLTS? <ch>``          | ``VOLTS? 0``<br>``VOLTS? 1``<br>Query return:<br>``{value in mV}`` | ``<ch> = {0,1,2,3}``<br>Default: ``0``                                                      | Check what the ouput voltage is set to  (returns mV). |\n",
    "| ``VOLTS  <ch> <val>``    | ``VOLTS 0 314``<br>``VOLTS 1 159``                               | ``<ch> = {0,1,2,3}``<br>Default: ``0``<br>``<val> = voltage value in mV``<br>Default: ``0`` | Set the voltage output (provided value is mV).        |\n",
    "| ``ENABLE <ch> <state>``  | ``ENABLE 0 OFF``<br>``ENABLE 1 ON``                              | ``<ch> = {0,1,2,3}``<br>Default: ``0``<br>``<state> = {ON,OFF}``<br>Default: ``OFF``        | Toggle the voltage channel output on/off.             |     \n",
    "| ``ENABLE? <ch>``         | ``ENABLE? 0``<br>``ENABLE? 1``<br> Query return:<br>``{ON, OFF}``  | ``<ch> = {0,1,2,3}``<br>Default: ``0``                                                      | Check the ouput status of a voltage channel.          | "
   ]
  },
  {
   "cell_type": "markdown",
   "metadata": {},
   "source": [
    "We can do some inital debugging of the communication channel if we just treat the instrument as a generic SCPI intrument from the ``InstrumentKit`` package. Let's start by importing as ik:"
   ]
  },
  {
   "cell_type": "code",
   "execution_count": 33,
   "metadata": {
    "collapsed": true
   },
   "outputs": [],
   "source": [
    "import instruments as ik"
   ]
  },
  {
   "cell_type": "code",
   "execution_count": 39,
   "metadata": {
    "collapsed": false
   },
   "outputs": [
    {
     "name": "stdout",
     "output_type": "stream",
     "text": [
      "\n",
      "    Base class for all SCPI-compliant instruments. Inherits from\n",
      "    from `~instruments.Instrument`.\n",
      "\n",
      "    This class does not implement any instrument-specific communication\n",
      "    commands. What it does add is several of the generic SCPI star commands.\n",
      "    This includes commands such as ``*IDN?``, ``*OPC?``, and ``*RST``.\n",
      "\n",
      "    Example usage:\n",
      "\n",
      "    >>> import instruments as ik\n",
      "    >>> inst = ik.generic_scpi.SCPIInstrument.open_tcpip('192.168.0.2', 8888)\n",
      "    >>> print(inst.name)\n",
      "    \n"
     ]
    }
   ],
   "source": [
    "print(ik.generic_scpi.SCPIInstrument.__doc__)"
   ]
  },
  {
   "cell_type": "code",
   "execution_count": 30,
   "metadata": {
    "collapsed": false
   },
   "outputs": [],
   "source": [
    "ins = ik.generic_scpi.SCPIInstrument.open_tcpip(\"localhost\",8042)"
   ]
  },
  {
   "cell_type": "code",
   "execution_count": 31,
   "metadata": {
    "collapsed": false
   },
   "outputs": [
    {
     "data": {
      "text/plain": [
       "instruments.generic_scpi.scpi_instrument.SCPIInstrument"
      ]
     },
     "execution_count": 31,
     "metadata": {},
     "output_type": "execute_result"
    }
   ],
   "source": [
    "type(ins)"
   ]
  },
  {
   "cell_type": "code",
   "execution_count": 32,
   "metadata": {
    "collapsed": false
   },
   "outputs": [
    {
     "ename": "NameError",
     "evalue": "name 'Quantities' is not defined",
     "output_type": "error",
     "traceback": [
      "\u001b[0;31m---------------------------------------------------------------------------\u001b[0m",
      "\u001b[0;31mNameError\u001b[0m                                 Traceback (most recent call last)",
      "\u001b[0;32m<ipython-input-32-479bbd3615c5>\u001b[0m in \u001b[0;36m<module>\u001b[0;34m()\u001b[0m\n\u001b[0;32m----> 1\u001b[0;31m \u001b[0mins\u001b[0m\u001b[0;34m.\u001b[0m\u001b[0mchannel\u001b[0m\u001b[0;34m[\u001b[0m\u001b[0;36m2\u001b[0m\u001b[0;34m]\u001b[0m\u001b[0;34m.\u001b[0m\u001b[0mvoltage\u001b[0m \u001b[0;34m=\u001b[0m \u001b[0mQuantities\u001b[0m\u001b[0;34m(\u001b[0m\u001b[0;36m43\u001b[0m\u001b[0;34m,\u001b[0m\u001b[0;34m\"millivolts\"\u001b[0m\u001b[0;34m)\u001b[0m\u001b[0;34m\u001b[0m\u001b[0m\n\u001b[0m",
      "\u001b[0;31mNameError\u001b[0m: name 'Quantities' is not defined"
     ]
    }
   ],
   "source": [
    "ins.channel[2].voltage = Quantities(43,\"millivolts\")"
   ]
  },
  {
   "cell_type": "code",
   "execution_count": null,
   "metadata": {
    "collapsed": false
   },
   "outputs": [],
   "source": [
    "ins.query(\"VOLTS? 2\")"
   ]
  },
  {
   "cell_type": "code",
   "execution_count": null,
   "metadata": {
    "collapsed": false
   },
   "outputs": [],
   "source": [
    "ins.sendcmd(\"VOLTS 2 43\")"
   ]
  },
  {
   "cell_type": "code",
   "execution_count": null,
   "metadata": {
    "collapsed": true
   },
   "outputs": [],
   "source": [
    "    "
   ]
  },
  {
   "cell_type": "code",
   "execution_count": null,
   "metadata": {
    "collapsed": false
   },
   "outputs": [],
   "source": [
    "ins.query(\"ENABLE? 2\")"
   ]
  },
  {
   "cell_type": "code",
   "execution_count": null,
   "metadata": {
    "collapsed": true
   },
   "outputs": [],
   "source": [
    "ins.sendcmd(\"ENABLE 1 ON\")"
   ]
  },
  {
   "cell_type": "code",
   "execution_count": null,
   "metadata": {
    "collapsed": false
   },
   "outputs": [],
   "source": [
    "ins.query(\"*IDN?\")"
   ]
  },
  {
   "cell_type": "markdown",
   "metadata": {},
   "source": [
    "## Lots of options of starting points, don't reinvent the wheel! ## "
   ]
  },
  {
   "cell_type": "markdown",
   "metadata": {},
   "source": [
    "We all have no more valuable resource than our own time, so there is little point to reimplimenting functionality that exsists in other packages that will work in your Python workflow. As ususal, google your instrument to see if there is a python package that already supports it (or if the manufacuter can supply control code samples!). Here are some popular packages that together cover a lot of instruments. "
   ]
  },
  {
   "cell_type": "markdown",
   "metadata": {},
   "source": [
    "- [InstrumentKit](http://instrumentkit.readthedocs.io/en/latest/index.html)\n",
    "- [Instrumental](http://instrumental-lib.readthedocs.io/en/latest/)\n",
    "- [QuDi](http://qosvn.physik.uni-ulm.de/trac/qudi)  \n",
    "- [Python IVI](http://alexforencich.com/wiki/en/python-ivi/readme)"
   ]
  }
 ],
 "metadata": {
  "anaconda-cloud": {},
  "kernelspec": {
   "display_name": "Python [conda root]",
   "language": "python",
   "name": "conda-root-py"
  },
  "language_info": {
   "codemirror_mode": {
    "name": "ipython",
    "version": 3
   },
   "file_extension": ".py",
   "mimetype": "text/x-python",
   "name": "python",
   "nbconvert_exporter": "python",
   "pygments_lexer": "ipython3",
   "version": "3.5.2"
  }
 },
 "nbformat": 4,
 "nbformat_minor": 1
}

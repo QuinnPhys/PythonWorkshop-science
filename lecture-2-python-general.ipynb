{
 "cells": [
  {
   "cell_type": "markdown",
   "metadata": {},
   "source": [
    "# Lecture 1: Basics of Python (1.5 Hours) #"
   ]
  },
  {
   "cell_type": "markdown",
   "metadata": {},
   "source": [
    "- Introduction to the Python language\n",
    "- Python 2 vs. 3\n",
    "- Using the Python interactive interpreter\n",
    "- Using Jupyter Notebook\n",
    "- Stylistic guidelines for keeping collaborators happy (incl. future you)"
   ]
  },
  {
   "cell_type": "markdown",
   "metadata": {},
   "source": [
    "## Introduction to the Python Language (45 Minutes) ##"
   ]
  },
  {
   "cell_type": "markdown",
   "metadata": {},
   "source": [
    "- Python at the command line (IPython)\n",
    "- Basic types (``str``, ``float``, ``int``)\n",
    "- Collection types (``list``, ``tuple``, ``dict`` and ``set``)\n",
    "- Variables and values\n",
    "- Functions\n",
    "- Import\n",
    "- Iterators, ``for``\n",
    "- ``map``, ``lambda`` and comprehensions\n",
    "- Print\n",
    "- Very fast intro to classes"
   ]
  },
  {
   "cell_type": "markdown",
   "metadata": {},
   "source": [
    "## A Few Words on Python 2 vs 3 (10 Minutes) ##"
   ]
  },
  {
   "cell_type": "markdown",
   "metadata": {},
   "source": [
    "- Use Python 3.\n",
    "- Unless on Windows and QuTiP.\n",
    "- Examples of changes, ``print`` vs ``print()``, ``map`` vs ``list(map())``, ``xrange`` vs ``range``.\n",
    "- Even on Py3, be nice to back compat, use ``__future__``."
   ]
  },
  {
   "cell_type": "markdown",
   "metadata": {},
   "source": [
    "## Jupyter Notebook (30 Minutes) ##"
   ]
  },
  {
   "cell_type": "markdown",
   "metadata": {},
   "source": [
    "- Launching\n",
    "- Navigating cells\n",
    "- Running Python cells\n",
    "- Adding Markdown/math cells"
   ]
  },
  {
   "cell_type": "markdown",
   "metadata": {},
   "source": [
    "## Style Guidelines for General Happiness (5 Minutes) ##"
   ]
  },
  {
   "cell_type": "markdown",
   "metadata": {},
   "source": [
    "- Summarize PEP 8."
   ]
  }
 ],
 "metadata": {
  "anaconda-cloud": {},
  "kernelspec": {
   "display_name": "Python [default]",
   "language": "python",
   "name": "python2"
  },
  "language_info": {
   "codemirror_mode": {
    "name": "ipython",
    "version": 2
   },
   "file_extension": ".py",
   "mimetype": "text/x-python",
   "name": "python",
   "nbconvert_exporter": "python",
   "pygments_lexer": "ipython2",
   "version": "2.7.12"
  }
 },
 "nbformat": 4,
 "nbformat_minor": 1
}

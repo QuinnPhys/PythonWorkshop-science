{
 "cells": [
  {
   "cell_type": "markdown",
   "metadata": {},
   "source": [
    "# Lecture 2: Basics for General Use (1.5 Hours) #"
   ]
  },
  {
   "cell_type": "markdown",
   "metadata": {},
   "source": [
    "### ABSTRACT ###\n",
    "\n",
    "In this Lecture, we will use an interactive Python interface called a REPL (read-evaluate-print-loop) to evaluate Python code. This interface will then help us learn about types, indexing, functions, and classes in Python. We will also discuss the general differences between Python 2 and 3 as well as ways of formatting the code you write to keep you and your collaborators happy. Finally we will setup a Python interface that consists of a notebook with code and documentation cells called *Jupyter Notebook*.\n",
    "\n",
    "---"
   ]
  },
  {
   "cell_type": "markdown",
   "metadata": {},
   "source": [
    "## Introduction to the Python Language (45 Minutes) ##"
   ]
  },
  {
   "cell_type": "markdown",
   "metadata": {},
   "source": [
    "Python, like many other interpreted languages, can be used in an interactive manner known as *REPL* (read-evaluate-print-loop). Though the name \"REPL\" might be new, this way of using Python is quite similar to how many other environments work, including languages as diverse as Lisp and MATLAB/Octave. Using the Python REPL will allow us to get a handle on the language without having to worry about writing self-contained programs right away."
   ]
  },
  {
   "cell_type": "markdown",
   "metadata": {},
   "source": [
    "In particular, we'll use an enhanced REPL for Python called IPython, as this comes with a lot of nice features for scientific computation (to wit, IPython was designed by a particle-physics grad student, Fernando Pérez). To start IPython, launch a command line session (either PowerShell or bash, depending on your operating system), and run the ``ipython`` command:"
   ]
  },
  {
   "cell_type": "markdown",
   "metadata": {},
   "source": [
    "```bash\n",
    "$ ipython\n",
    "```"
   ]
  },
  {
   "cell_type": "markdown",
   "metadata": {},
   "source": [
    "<figure style=\"text-align: center;\">\n",
    "    <img src=\"files/figures/win10-ipython-powershell.png\" width=\"50%\">\n",
    "    <caption>\n",
    "        Running an IPython session in Windows 10.\n",
    "    </caption>\n",
    "</figure>"
   ]
  },
  {
   "cell_type": "markdown",
   "metadata": {},
   "source": [
    "You'll be presented with a new shell that allows you to enter in Python expressions and statements. Let's try it out."
   ]
  },
  {
   "cell_type": "markdown",
   "metadata": {},
   "source": [
    "```ipython\n",
    "In [1]: 1 + 1\n",
    "Out[1]: 2\n",
    "\n",
    "In [2]:\n",
    "```"
   ]
  },
  {
   "cell_type": "markdown",
   "metadata": {},
   "source": [
    "Breaking this down a bit, ``1`` is a Python *literal* of type ``int`` (short for \"integer\") that we then add using the addition operator ``+``. The expression ``1 + 1`` is then *evaluated* by IPython, and its value is printed out to the command line. We then loop to the next prompt, ``In [2]:``.\n",
    "\n",
    "*NB: in a lot of Python documentation, you will often see ``>>>`` instead of numbered ``In`` prompts. The numbered prompts are an IPython feature, while ``>>>`` is the \"plain\" Python prompt. For the rest of this tutorial, I'll use the plain prompt for consistency with this convention.*"
   ]
  },
  {
   "cell_type": "markdown",
   "metadata": {},
   "source": [
    "### Types in Python ###"
   ]
  },
  {
   "cell_type": "markdown",
   "metadata": {},
   "source": [
    "Now that we see how to use IPython to run Python statements and expressions, let's use it to explore the language a bit more. First, let's familiarize ourselves with a few basic Python types and what we can do with them."
   ]
  },
  {
   "cell_type": "markdown",
   "metadata": {},
   "source": [
    "```python\n",
    ">>> x = \"Hello, world!\"\n",
    ">>> print(x)\n",
    "Hello, world!\n",
    "```"
   ]
  },
  {
   "cell_type": "markdown",
   "metadata": {},
   "source": [
    "In this example, ``\"Hello, world!\"`` is a *string* — that is, a sequence of characters representing text — that we can then display by using the *function* ``print()``. Strings can be denoted using either single- or double-quotes, making it easy to nest strings."
   ]
  },
  {
   "cell_type": "markdown",
   "metadata": {},
   "source": [
    "```python\n",
    ">>> y = \"What's up?\"\n",
    ">>> z = 'Just playing with \\n some \"quotes.\"'\n",
    ">>> print(y + z)\n",
    "What's up? Just playing with \n",
    " some \"quotes.\"\n",
    "```"
   ]
  },
  {
   "cell_type": "markdown",
   "metadata": {},
   "source": [
    "In the above example, we also see two other important things about strings. First, that ``\\n`` has a special meaning inside of a string, indicating a new line. This is an example of an *escape character*. Second, we note that the ``+`` operator acts differently for strings than for integers, and returns the concatenation of two strings. We will see more examples of how the behavior of operators such as ``+`` can depend on the type of its operands. For now, though, let's press on and see some other types that we can use."
   ]
  },
  {
   "cell_type": "markdown",
   "metadata": {},
   "source": [
    "One type that we will often rely on is ``bool``, short for Boolean. This type is useful in that it only has two valid values, ``True`` and ``False``, which are related by logical operators:"
   ]
  },
  {
   "cell_type": "markdown",
   "metadata": {},
   "source": [
    "```python\n",
    ">>> True and True\n",
    "True\n",
    ">>> not True\n",
    "False\n",
    ">>> False or not True\n",
    "False\n",
    "```"
   ]
  },
  {
   "cell_type": "markdown",
   "metadata": {},
   "source": [
    "Python also has a concept of things that are \"truthy\" and \"falsy\". This means that there are things (in this case other types) that the ``bool`` type will intrepret as ``True`` and ``False``. For example:"
   ]
  },
  {
   "cell_type": "markdown",
   "metadata": {},
   "source": [
    "```python\n",
    ">>> bool('')\n",
    "False\n",
    ">>> bool([])\n",
    "False\n",
    ">>> bool(0)\n",
    "False\n",
    ">>> bool(0.00)\n",
    "False\n",
    "```"
   ]
  },
  {
   "cell_type": "markdown",
   "metadata": {},
   "source": [
    "As you can see, anything that is \"empty\" or equivalnt to 0 is intrepreted as ``False``. Things then that are \"truthy\" are then non-empty or non-zero:"
   ]
  },
  {
   "cell_type": "markdown",
   "metadata": {},
   "source": [
    "```python\n",
    ">>> bool('abc')\n",
    "True\n",
    ">>> bool(['a',1,False])\n",
    "True\n",
    ">>> bool(-42)\n",
    "True\n",
    ">>> bool(3.14159)\n",
    "True\n",
    "```"
   ]
  },
  {
   "cell_type": "markdown",
   "metadata": {},
   "source": [
    "Next, we will very often need to consider numbers other than integers. For this, the ``float`` type (short for \"floating-point number\") is very useful:"
   ]
  },
  {
   "cell_type": "markdown",
   "metadata": {},
   "source": [
    "```python\n",
    ">>> float(1)\n",
    "1.0\n",
    ">>> 1 + 1.1\n",
    "2.1\n",
    ">>> 1 + 0.0\n",
    "1.0\n",
    ">>> 42.0 + float('inf')\n",
    "inf\n",
    "```"
   ]
  },
  {
   "cell_type": "markdown",
   "metadata": {},
   "source": [
    "Here, we see that adding a ``float`` to an ``int`` results in a ``float``, even if the ``float`` represents a number that is actually an integer. We also see that Python supports special non-numeric floating point values such as ``inf`` and ``nan`` (not a number) by using the ``float`` function with a string argument ``'inf'``. This demonstrates an important concept: Python *types* are functions which return values of that type. For instance:"
   ]
  },
  {
   "cell_type": "markdown",
   "metadata": {},
   "source": [
    "```python\n",
    ">>> str()\n",
    "''\n",
    ">>> int()\n",
    "0\n",
    ">>> float()\n",
    "0.0\n",
    ">>> int(\"12\")\n",
    "12\n",
    "```"
   ]
  },
  {
   "cell_type": "markdown",
   "metadata": {},
   "source": [
    "We can use the ``type()`` function to return the type of a value:"
   ]
  },
  {
   "cell_type": "markdown",
   "metadata": {},
   "source": [
    "```python\n",
    ">>> type(12)\n",
    "<type 'int'>\n",
    "```"
   ]
  },
  {
   "cell_type": "markdown",
   "metadata": {},
   "source": [
    "Note that your output when using ``type()`` may differ from that presented here. "
   ]
  },
  {
   "cell_type": "markdown",
   "metadata": {},
   "source": [
    "*NB: the cheekier amongst us may wonder what the type of ``type`` is. For reasons that are both fascinating and esoteric, ``type(type)`` is ``type``.*"
   ]
  },
  {
   "cell_type": "markdown",
   "metadata": {},
   "source": [
    "If you pass an argument to one of these type functions that cannot be intrepreted, they function will raise an ``ValueError``:"
   ]
  },
  {
   "cell_type": "markdown",
   "metadata": {},
   "source": [
    "```python\n",
    ">>> float(\"foo\")\n",
    "Traceback (most recent call last):\n",
    "  File \"<stdin>\", line 1, in <module>\n",
    "ValueError: could not convert string to float: foo\n",
    ">>> int(\"3.14159\")\n",
    "Traceback (most recent call last):\n",
    "  File \"<stdin>\", line 1, in <module>\n",
    "ValueError: invalid literal for int() with base 10: '3.14159'\n",
    "```"
   ]
  },
  {
   "cell_type": "markdown",
   "metadata": {},
   "source": [
    "Importantly, we can *catch* these errors and deal with them."
   ]
  },
  {
   "cell_type": "markdown",
   "metadata": {},
   "source": [
    "```python\n",
    ">>> try:\n",
    "...     print(float(\"foo\"))\n",
    "... except ValueError:\n",
    "...     print(\"nope.py\")\n",
    "...\n",
    "nope.py\n",
    "```"
   ]
  },
  {
   "cell_type": "markdown",
   "metadata": {},
   "source": [
    "Python also supports several types for representing *collections* of different values. For instance, the ``list`` type does pretty much what it says on the tin:"
   ]
  },
  {
   "cell_type": "markdown",
   "metadata": {},
   "source": [
    "```python\n",
    ">>> x = [12, 'foo', True]\n",
    ">>> print(type(x))\n",
    "<type 'list'>\n",
    "```"
   ]
  },
  {
   "cell_type": "markdown",
   "metadata": {},
   "source": [
    "Values of type ``list`` can be *indexed* by using the ``[]`` operator:"
   ]
  },
  {
   "cell_type": "markdown",
   "metadata": {},
   "source": [
    "```python\n",
    ">>> print(x[0])\n",
    "12\n",
    ">>> print(x[2])\n",
    "True\n",
    ">>> print(type(x[2]))\n",
    "<type 'bool'>\n",
    "```"
   ]
  },
  {
   "cell_type": "markdown",
   "metadata": {},
   "source": [
    "**Note that Python starts indexing with zero.** This is a very useful convention for programming, and will make our lives much, much simpler in a wide variety of ways. In particular, starting with 0 works very well in combination with *slicing*, where we index a list by a range instead of a single value. For instance:"
   ]
  },
  {
   "cell_type": "markdown",
   "metadata": {},
   "source": [
    "```python\n",
    ">>> x = ['a', 'b', 'c', 'd']\n",
    ">>> print(x[0:2])\n",
    "['a', 'b']\n",
    ">>> print(x[2:]) # If we omit the end of a slice, it continues until the end.\n",
    "['c', 'd']\n",
    "```"
   ]
  },
  {
   "cell_type": "markdown",
   "metadata": {},
   "source": [
    "Python uses what are called half-open intervals to slice collections. We can think of this as indexing elements by \"fence posts,\" as illustrated below."
   ]
  },
  {
   "cell_type": "markdown",
   "metadata": {},
   "source": [
    "<figure style=\"text-align: center;\">\n",
    "    <img src=\"files/figures/indexing-fencepost.png\" width=\"40%\">\n",
    "</figure>"
   ]
  },
  {
   "cell_type": "markdown",
   "metadata": {},
   "source": [
    "When Python takes a slice of a list it returnes all the objects \"inside\" the fences chosen by the slice. This example demonstrates that we can use slicing to partition a list without having to worry about adding and subtracting one, greatly reducing the opportunity for off-by-one errors. This benefit also extends to determining the lengths of collections:"
   ]
  },
  {
   "cell_type": "markdown",
   "metadata": {},
   "source": [
    "```python\n",
    ">>> print(len(x))\n",
    "4\n",
    ">>> i = 1\n",
    ">>> j = 3\n",
    ">>> print(j - i == len(x[i:j]))\n",
    "True\n",
    ">>> assert(j - i == len(x[i:j]))\n",
    "```"
   ]
  },
  {
   "cell_type": "markdown",
   "metadata": {},
   "source": [
    "The ``len`` function above returns the length of a collection, allowing us to check that we the length of ``x[1:3]`` is the same as the distance between ``1`` and ``3``. We use the ``assert`` keyword, which raises an error if its argument is ``False``, along with the equality operator ``==`` to check this."
   ]
  },
  {
   "cell_type": "markdown",
   "metadata": {},
   "source": [
    "Indexing also works over things other than lists:"
   ]
  },
  {
   "cell_type": "markdown",
   "metadata": {},
   "source": [
    "```python\n",
    ">>> 'abcde'[1:3]\n",
    "'bc'\n",
    ">>> (1, 3.4, True, 'hi')[2:]\n",
    "(True, 'hi')\n",
    "```"
   ]
  },
  {
   "cell_type": "markdown",
   "metadata": {},
   "source": [
    "In addition to ``list``, Python also provides several other collection types. For instance, ``tuple`` is identical to list except that the contents of a ``tuple`` cannot be changed after it is created. That is, ``tuple`` values are *immutable*."
   ]
  },
  {
   "cell_type": "markdown",
   "metadata": {},
   "source": [
    "```python\n",
    ">>> x = [1, 2]\n",
    ">>> x[1] = \"foo\"\n",
    ">>> print(x)\n",
    "[1, \"foo\"]\n",
    ">>> x = (1, 2) # x is a tuple now!\n",
    ">>> x[1] = 'bar'\n",
    "Traceback (most recent call last):\n",
    "  File \"<ipython-input-21-3c6077352bf0>\", line 1, in <module>\n",
    "    x[1] = 'bar'\n",
    "TypeError: 'tuple' object does not support item assignment\n",
    "```"
   ]
  },
  {
   "cell_type": "markdown",
   "metadata": {},
   "source": [
    "*NB: as an annoying edge case, tuples with exactly one element must be written using a trailing comma, as in ``(2, )`` to represent the tuple containing ``2``.*"
   ]
  },
  {
   "cell_type": "markdown",
   "metadata": {},
   "source": [
    "Also useful are dictionaries, also known as associative or mapping collections, represented in Python by the type ``dict``. As opposed to indexing by consecutive integers, most immutable types (for instance, ``str``, ``int``, ``float`` and ``tuple``) can be used to index a dictionary. Let's create a simple dictionary."
   ]
  },
  {
   "cell_type": "markdown",
   "metadata": {},
   "source": [
    "```python\n",
    ">>> x = {\n",
    "...     'a': 'foo',\n",
    "...     42: True,\n",
    "...     (): 0.0\n",
    "... }\n",
    ">>> print(x[()])\n",
    "0.0\n",
    ">>> print(x['a'])\n",
    "'foo'\n",
    "```"
   ]
  },
  {
   "cell_type": "markdown",
   "metadata": {},
   "source": [
    "*NB: Note that the IPython REPL detected that the opening brace ``{`` of the ``dict`` was not closed, and changed the prompt to ``...``. This indicates that the same line is being continued until a closing ``}`` is found. This will work for any type of characted the IPython REPL identifies as needing a closing or another line like [], {}, : ,etc. Putting the dictionary entries on seperate lines makes it easier to read*"
   ]
  },
  {
   "cell_type": "markdown",
   "metadata": {},
   "source": [
    "### Functions in Python ###"
   ]
  },
  {
   "cell_type": "markdown",
   "metadata": {},
   "source": [
    "Now that we have an understanding of what basic types are available, we can move forward by writing some more useful code. Let's start by looking at how to define *functions* in Python."
   ]
  },
  {
   "cell_type": "markdown",
   "metadata": {},
   "source": [
    "```python\n",
    ">>> def f(x):\n",
    "...     return x ** 2 # ** is the exponentiation operator\n",
    "...\n",
    ">>> f(3)\n",
    "9\n",
    "```"
   ]
  },
  {
   "cell_type": "markdown",
   "metadata": {},
   "source": [
    "The ``def`` keyword starts a function definition, and is followed by the name of the function and its *arguments*, followed by a colon. In the example above, we take one argument ``x``. The body of a function is then set apart by indenting each line within the function. For ``f``, we only have one line, ``return x ** 2``, which squares the argument ``x`` and returns its value to the caller. Within IPython, function definitions require a final blank line."
   ]
  },
  {
   "cell_type": "markdown",
   "metadata": {},
   "source": [
    "Functions can also take optional or *keyword* arguments, allowing arguments to have default values."
   ]
  },
  {
   "cell_type": "markdown",
   "metadata": {},
   "source": [
    "```python\n",
    ">>> def g(x, y, z=2):\n",
    "...     return x + y ** z\n",
    "...\n",
    ">>> g(0, 2, 2)\n",
    "4\n",
    ">>> g(1, 2, 4)\n",
    "17\n",
    ">>> g(0, 2)\n",
    "4\n",
    "```"
   ]
  },
  {
   "cell_type": "markdown",
   "metadata": {},
   "source": [
    "In addition, we can also pass arguments by name, useful for calling functions with a large number of arguments. That is to say, we can swap the order in which the arguments are listed as long as they are labeled as to which argument they are. If you label any of the arguments, you must label all of them to remove ambiguity."
   ]
  },
  {
   "cell_type": "markdown",
   "metadata": {},
   "source": [
    "```python\n",
    ">>> g(2, 3)\n",
    "11\n",
    ">>> g(y=3, z=2, x=5)\n",
    "14\n",
    "```"
   ]
  },
  {
   "cell_type": "markdown",
   "metadata": {},
   "source": [
    "Importantly, functions are values in and of themselves, and can be assigned to variables or passed as arguments."
   ]
  },
  {
   "cell_type": "markdown",
   "metadata": {},
   "source": [
    "```python\n",
    ">>> h = g\n",
    ">>> h(3, 4)\n",
    "81\n",
    ">>> h\n",
    "<function __main__.g>\n",
    "```"
   ]
  },
  {
   "cell_type": "markdown",
   "metadata": {},
   "source": [
    "To return to an earlier topic,you might ask why some types in Python are immutable. A large part of this is to make storing and acessing values faster. Another benifit to immutablilty is that you can be sure that a particular value is constant. Consider the following example:"
   ]
  },
  {
   "cell_type": "markdown",
   "metadata": {},
   "source": [
    "```python\n",
    ">>> def sketchy_function(t=[]):\n",
    "...     t.append(\"foo\")\n",
    "...     return t\n",
    "...\n",
    ">>> print(sketchy_function())\n",
    "[\"foo\"]\n",
    ">>> print(sketchy_function())\n",
    "[\"foo\",\"foo\"]\n",
    "```"
   ]
  },
  {
   "cell_type": "markdown",
   "metadata": {},
   "source": [
    "So what is going wrong here? Because the default value for t is a *mutable* ``list`` then because the ``append`` method actually changes the original list, the list changes. Then the next time the function is called it the default value for t was the output from last time. This is most likely not the behaivor desired for the function and there are better solutions that gaurentee that ``t = []`` every time the function is run:"
   ]
  },
  {
   "cell_type": "markdown",
   "metadata": {},
   "source": [
    "```python\n",
    ">>> def not_sketchy_function(t=None):\n",
    "...     if t is None:\n",
    "...         t = []\n",
    "...     t.append(\"foo\")\n",
    "...     return t\n",
    "...\n",
    ">>> print(not_sketchy_function())\n",
    "[\"foo\"]\n",
    ">>> print(not_sketchy_function())\n",
    "[\"foo\"]\n",
    "```"
   ]
  },
  {
   "cell_type": "markdown",
   "metadata": {},
   "source": [
    "Let's define a function that takes some other function and applies it twice."
   ]
  },
  {
   "cell_type": "markdown",
   "metadata": {},
   "source": [
    "```python\n",
    ">>> def apply_twice(f, x):\n",
    "...     return f(f(x))\n",
    "...\n",
    "```"
   ]
  },
  {
   "cell_type": "markdown",
   "metadata": {},
   "source": [
    "This is especially useful with *lambda functions*, which provide a way of defining one-line functions in a compact manner."
   ]
  },
  {
   "cell_type": "markdown",
   "metadata": {},
   "source": [
    "```python\n",
    ">>> (lambda x: x * 2 + '!')('ab')\n",
    "'abab!'\n",
    ">>> apply_twice((lambda x: x * 2 + '!'), 'ab')\n",
    "'abab!abab!!'\n",
    "```"
   ]
  },
  {
   "cell_type": "markdown",
   "metadata": {},
   "source": [
    "We can use this to quickly apply a function over a collection, such as a list or a tuple, with the ``map`` function:"
   ]
  },
  {
   "cell_type": "markdown",
   "metadata": {},
   "source": [
    "```python\n",
    ">>> list(map(lambda x: x ** 2 , [2, 3, 4]))\n",
    "[4, 9, 16]\n",
    "```"
   ]
  },
  {
   "cell_type": "markdown",
   "metadata": {},
   "source": [
    "This example shows that ``map`` applies its first argument to each element of a collection. By calling ``list``, we then make a new list to hold the results of ``map``. We will discuss ``map`` a bit more later in this lecture."
   ]
  },
  {
   "cell_type": "markdown",
   "metadata": {},
   "source": [
    "Alternately, we can also use a *list comprehension* to represent the same idea in a way that more closely resembles \"set builder notation.\""
   ]
  },
  {
   "cell_type": "markdown",
   "metadata": {},
   "source": [
    "```python\n",
    ">>> x = [2, 3, 4]\n",
    ">>> y = [element ** 2 for element in x]\n",
    ">>> print(y)\n",
    "[4, 9, 16]\n",
    "```"
   ]
  },
  {
   "cell_type": "markdown",
   "metadata": {},
   "source": [
    "Underlying all of these examples is the concept of *iteration*, in which one value at a time is *yielded* from some collection. Functions such as ``list`` or ``map`` then iterate over their arguments, such that they can be used with any iterable value. Similarly, ``for`` loops consume iterators and act on each value at a time. For instance, ``list`` and ``tuple`` yield each of their elements, as we can see with a quick example."
   ]
  },
  {
   "cell_type": "markdown",
   "metadata": {},
   "source": [
    "```python\n",
    ">>> for element in [1, 'a', False]:\n",
    "...     print(element)\n",
    "...\n",
    "1\n",
    "'a'\n",
    "False\n",
    "```"
   ]
  },
  {
   "cell_type": "markdown",
   "metadata": {},
   "source": [
    "This is a notable contrast to how ``for`` loops work in languages such as FORTRAN or C, and is most closely related to what many languages call a \"for-each\" loop. To emulate C- or FORTRAN-style for-loops, Python provides a function ``range`` that allows iterating over a collection of indices:"
   ]
  },
  {
   "cell_type": "markdown",
   "metadata": {},
   "source": [
    "```python\n",
    ">>> for idx in range(3):\n",
    "...     print(x[idx])\n",
    "...\n",
    "2\n",
    "3\n",
    "4\n",
    "```"
   ]
  },
  {
   "cell_type": "markdown",
   "metadata": {},
   "source": [
    "Iterators allow for writing writing for loops in a much more robust style, however, such that looping over ``range`` is not recommended. In particular, the ``enumerate`` function provides a very useful iterable. Let's look at a more complicated example, then break it down some:"
   ]
  },
  {
   "cell_type": "markdown",
   "metadata": {},
   "source": [
    "```python\n",
    ">>> for idx, element in enumera\n",
    "te('abc'):\n",
    "...     print(\"{}: {}\".format(idx, element))\n",
    "...\n",
    "0: a\n",
    "1: b\n",
    "2: c\n",
    "```"
   ]
  },
  {
   "cell_type": "markdown",
   "metadata": {},
   "source": [
    "As promised, let's look at each part of this example in turn. First, we now have two loop variables instead of one. This is an example of *destructuring assignment*, and works because each value yielded by ``enumerate`` is a tuple:"
   ]
  },
  {
   "cell_type": "markdown",
   "metadata": {},
   "source": [
    "```python\n",
    ">>> print(list(enumerate('ab'))\n",
    "[(0, 'a'), (1, 'b')]\n",
    "```"
   ]
  },
  {
   "cell_type": "markdown",
   "metadata": {},
   "source": [
    "Each of these tuples contains the index of an element and the element itself. Since ``str`` iterates and yields each character at a time, the \"elements\" are strings of length 1. In the ``for`` loop above, each of these tuples then gets \"unpacked\", such that ``idx`` is set to each index and ``element`` is set to each element.\n",
    "\n",
    "Next, we see an example of ``format``, which makes a new string from one or more other values. In the string ``\"{}: {}\"``, each ``{}`` serves as a placeholder that is filled with the arguments to ``format``:"
   ]
  },
  {
   "cell_type": "markdown",
   "metadata": {},
   "source": [
    "```python\n",
    ">>> \"{}, {}!\".format('Hello', 'world')\n",
    "'Hello, world!'\n",
    "```"
   ]
  },
  {
   "cell_type": "markdown",
   "metadata": {},
   "source": [
    "Python provides a rich set of tools for operating on iterable values, most notably through the built-in ``itertools`` package. We can include ``itertools`` by running the statement ``import itertools``, as below."
   ]
  },
  {
   "cell_type": "markdown",
   "metadata": {},
   "source": [
    "```python\n",
    ">>> r = [2, 3, 4]\n",
    ">>> import itertools as it\n",
    ">>> print(list(it.product(r, [0,1])))\n",
    "[(2,2), (2,1), (3,2), (3,1), (4,2), (4,1)]\n",
    "```"
   ]
  },
  {
   "cell_type": "markdown",
   "metadata": {},
   "source": [
    "The ``import`` statement is an extremely useful one in general, and is the main way to include additional functionality into  Python. For instance, if you have a file ``foo.py`` in your current directory, then ``import foo`` will run that file, saving all of its variables and functions into the new Python value ``foo``, known as a *module*. Similarly, ``import`` can include functionality defined as *packages*, which are folders containing the specially-named file ``__init__.py``, possibly along with other modules."
   ]
  },
  {
   "cell_type": "markdown",
   "metadata": {},
   "source": [
    "The ``import`` statement finds modules and packages by scanning a special variable ``sys.path``. For example:"
   ]
  },
  {
   "cell_type": "markdown",
   "metadata": {},
   "source": [
    "```python\n",
    ">>> import sys\n",
    ">>> print(sys.path)\n",
    "['', 'C:\\\\Anaconda3\\\\envs\\\\py27\\\\python27.zip', 'C:\\\\Anaconda3\\\\envs\\\\py27\\\\DLLs', 'C:\\\\Anaconda3\\\\envs\\\\py27\\\\lib', 'C:\\\\Anaconda3\\\\envs\\\\py27\\\\lib\\\\plat-win', 'C:\\\\Anaconda3\\\\envs\\\\py27\\\\lib\\\\lib-tk', 'C:\\\\Anaconda3\\\\envs\\\\py27', 'C:\\\\Anaconda3\\\\envs\\\\py27\\\\lib\\\\site-packages', ...]\n",
    "```"
   ]
  },
  {
   "cell_type": "markdown",
   "metadata": {},
   "source": [
    "Here, the empty string ``''`` indicates the current directory, while the rest of the entries refer to the Python standard library, and to where utilities like ``pip`` and ``conda`` install additional packages. To install your own module or package to these locations, Python provides a very nice package called [distutils](https://docs.python.org/2/distutils/introduction.html) you can look at, but this is out of scope for our current discussion."
   ]
  },
  {
   "cell_type": "markdown",
   "metadata": {},
   "source": [
    "In any case, ``import`` also allows you to give an alternate name to modules and packages that you import. In the example above, we gave the ``itertools`` package a short name ``it``, and then referred to the ``product`` function included with ``itertools`` using ``it.product``. This function iterates over ``tuple``s with one element drawn from each of its arguments. As such, ``it.product`` is not limited to integers."
   ]
  },
  {
   "cell_type": "markdown",
   "metadata": {},
   "source": [
    "```python\n",
    ">>> print(list(it.product('abc', 'xyz')))\n",
    "[('a', 'x'), ('a', 'y'), ('a', 'z'), ('b', 'x'), ('b', 'y'), ('b', 'z'), ('c', 'x'), ('c', 'y'), ('c', 'z')]\n",
    "```"
   ]
  },
  {
   "cell_type": "markdown",
   "metadata": {},
   "source": [
    "### Classes in Python ###"
   ]
  },
  {
   "cell_type": "markdown",
   "metadata": {},
   "source": [
    "Finally, Python also allows us to define our own types, known as *classes*. A value whose type is a class is called an *instance* of that class. For example:"
   ]
  },
  {
   "cell_type": "markdown",
   "metadata": {},
   "source": [
    "```python\n",
    ">>> class ExampleClass(object):\n",
    "...     x = \"some reasonable value\"\n",
    "... \n",
    ">>> example_instance = ExampleClass()\n",
    ">>> print(example_instance.x)\n",
    "some reasonable value\n",
    ">>> example_instance.x = 42\n",
    ">>> print(example_instance.x)\n",
    "42\n",
    "```"
   ]
  },
  {
   "cell_type": "markdown",
   "metadata": {},
   "source": [
    "In this example, ``object`` specifies that our new class should *inherit* from the class ``object`` that is built in to Python; we'll see more about this later. The assignment to ``x`` in the body of the class defines a new *attribute* of ``ExampleClass`` that we can obtain through the dot operator (``.``).\n",
    "\n",
    "For now, though, we note that classes can specify behavior as well as data, in that functions can also be attributes of classes. A function defined in this way is called a *method*, and takes a special first argument called ``self`` that is always an instance of the class being defined. Let's make a new class and add a couple of method this time."
   ]
  },
  {
   "cell_type": "markdown",
   "metadata": {},
   "source": [
    "```python\n",
    ">>> class D(object):\n",
    "...     x = 'world'\n",
    "...     b = 3\n",
    "...     def say_hello(self):\n",
    "...         print(\"Hello, {}!\".format(self.x))\n",
    "...\n",
    "...     def do_math(self, a):\n",
    "...         print(\"The sum of  {} + {} is {}\".format(a, self.b, a + self.b))\n",
    "...         self.b = a + self.b\n",
    "...\n",
    ">>> d = D()\n",
    ">>> d.say_hello()\n",
    "Hello, world!\n",
    "```"
   ]
  },
  {
   "cell_type": "markdown",
   "metadata": {},
   "source": [
    "We can see that the ``say_hello`` method, a method that is defined only with the argument ``self``, when called needs nothing in the argument. "
   ]
  },
  {
   "cell_type": "markdown",
   "metadata": {},
   "source": [
    "```python\n",
    ">>> d.do_math(4)\n",
    "The sum of  4 + 3 is 7\n",
    ">>> d.do_math(1)\n",
    "The sum of  1 + 7 is 8\n",
    ">>> d.b = 0\n",
    ">>> d.do_math(5)\n",
    "The sum of  5 + 0 is 5\n",
    "```"
   ]
  },
  {
   "cell_type": "markdown",
   "metadata": {},
   "source": [
    "Looking then at the ``do_math`` method, it takes one input (``a``), adds it to the stored value of the atribute ``b``, and then set the new value of ``b`` to the sum. We can manually set the value of this atribute, and then this change is reflected when we try the ``do_math`` method after."
   ]
  },
  {
   "cell_type": "markdown",
   "metadata": {},
   "source": [
    "### Magic and Help Statement ###"
   ]
  },
  {
   "cell_type": "markdown",
   "metadata": {},
   "source": [
    "In addition to running Python code for us, IPython also supports a number of different commands called *magic commands*. These commands aren't valid Python, but represent instructions to the REPL environment. For instance, the ``%timeit`` magic command takes a bit of Python code and repeatedly runs it to estimate how long it takes. Let's see how long it takes to format a very long list into a string:"
   ]
  },
  {
   "cell_type": "markdown",
   "metadata": {},
   "source": [
    "```python\n",
    "In [1]: %timeit \"{}\".format([0] * 100000)\n",
    "100 loops, best of 3: 4.89 ms per loop\n",
    "```"
   ]
  },
  {
   "cell_type": "markdown",
   "metadata": {},
   "source": [
    "*NB: we've switched back to IPython-style prompts to emphasize that magic commands do **not** work in \"plain\" Python contexts.*"
   ]
  },
  {
   "cell_type": "markdown",
   "metadata": {},
   "source": [
    "We'll see a few more magic commands as we go through the lectures, but there's a lot we won't have time to cover in full detail, and thus will mention only briefly:\n",
    "\n",
    "- ``%debug``: Interactively debug a Python statement *after* it crashes.\n",
    "- ``%prun``: Run a Python statement while collecting full profiling data.\n",
    "- ``%cd``/``%ls``: Emulate the command line programs of the same names; useful for navigating without launching a new IPython session."
   ]
  },
  {
   "cell_type": "markdown",
   "metadata": {},
   "source": [
    "Perhaps the most useful IPython feature of all, though, is its help statement feature. As a shortcut to viewing documentation, you can run a variable, class, module, or package name followed by a question mark as a statement."
   ]
  },
  {
   "cell_type": "markdown",
   "metadata": {},
   "source": [
    "```python\n",
    "In [2]: str?\n",
    "Docstring:\n",
    "str(object='') -> string\n",
    "\n",
    "Return a nice string representation of the object.\n",
    "If the argument is a string, the return value is the same object.\n",
    "Type:      type\n",
    "```"
   ]
  },
  {
   "cell_type": "markdown",
   "metadata": {},
   "source": [
    "Use two question marks (``??``) to get details about its implementation. Let's try it out with a small example."
   ]
  },
  {
   "cell_type": "markdown",
   "metadata": {},
   "source": [
    "```python\n",
    "In [3]: def f(x):\n",
    "    ...:     \"\"\"Does a thing.\"\"\"\n",
    "    ...:     return x ** 2\n",
    "    ...:\n",
    "\n",
    "In [4]: f??\n",
    "Signature: f(x)\n",
    "Source:\n",
    "def f(x):\n",
    "    \"\"\"Does a thing.\"\"\"\n",
    "    return x ** 2\n",
    "File:      c:\\users\\cgranade\\<ipython-input-10-69a064096fa5>\n",
    "Type:      function\n",
    "```"
   ]
  },
  {
   "cell_type": "markdown",
   "metadata": {},
   "source": [
    "---\n",
    "## A Few Words on Python 2 vs 3 (10 Minutes) ##"
   ]
  },
  {
   "cell_type": "markdown",
   "metadata": {},
   "source": [
    "There are two different versions of Python, 2 and 3, that are in common use today. Python 3 brings with it a number of new features and clarifies a lot of earlier issues and edge cases, and is recommended for new projects. Though Python 2 is still being maintained for the forseeable future, there are no new features that will be developed for the Python 2 language or standard library.\n",
    "\n",
    "Unfortunately, moving to Python 3 is a bit more complicated for quantum information on Windows, as compiler support means that QuTiP is currently only stable on Windows with Python 2.7. For this reason, we strongly suggest writing code that is compatible with both versions 2 and 3, and will take a few moments to provide some tips to do so."
   ]
  },
  {
   "cell_type": "markdown",
   "metadata": {},
   "source": [
    "Most importantly to scientific computing, the definition of division has changed with Python 3 to be much more in line with what we might naively expect. On Python 2, ``1 / 2`` returns 0, as ``/`` between two integers is defined as returning an integer. In Python 3, ``1 / 2`` is automatically *promoted* to the floating-point value ``0.5``. If integer division is wanted, the ``//`` operator is available, such that ``1 // 2 == 0`` on Python 3."
   ]
  },
  {
   "cell_type": "markdown",
   "metadata": {},
   "source": [
    "The new behavior for ``/`` can be used even on Python 2.7 by using a special ``import`` statement at the top of each file:"
   ]
  },
  {
   "cell_type": "markdown",
   "metadata": {},
   "source": [
    "```python\n",
    "from __future__ import division\n",
    "```"
   ]
  },
  {
   "cell_type": "markdown",
   "metadata": {},
   "source": [
    "The ``__future__`` module allows for turning on forward-compatability *features*, and is very handy in writing 2/3 compatible code. For instance, ``__future__`` also provides the ``print_function`` feature to force ``print`` to be a function on Python 2; otherwise, ``print`` is defined as a keyword, and cannot be used in ``map`` or other contexts in which a function is expected."
   ]
  },
  {
   "cell_type": "markdown",
   "metadata": {},
   "source": [
    "The other important change to be aware of is that many Python 3 functions return iterators where their Python 2 counterparts returned lists. This change allows for *lazy computation*, in which a value isn't calculated until the iterator needs to yield it. As we saw above, ``list()`` allows for constructing lists explicitly from iterators, so that ``list(map(...))`` will work on either 2 or 3. Similarly, ``range`` on Python 3 returns an iterator and returns a list on Python 2; though either works with a ``for`` loop, this means one should take some care before calling ``range`` with extremely large numbers."
   ]
  },
  {
   "cell_type": "markdown",
   "metadata": {},
   "source": [
    "For the most part, the split between 2 and 3 is an annoyance, but will not be a major problem for us if we take some proactive caution to write code that is compatible with both."
   ]
  },
  {
   "cell_type": "markdown",
   "metadata": {},
   "source": [
    "---\n",
    "## Style Guidelines for General Happiness (5 Minutes) ##"
   ]
  },
  {
   "cell_type": "markdown",
   "metadata": {},
   "source": [
    "As with various english writing style guides to help people write with uniform grammar and formatting, there are coding style guides. The name of the Python guide is [PEP 8](https://www.python.org/dev/peps/pep-0008/). As with many style guide it is long to accomodate specifying lots of edge cases, but we'll look at some of the most common recomendataions."
   ]
  },
  {
   "cell_type": "markdown",
   "metadata": {},
   "source": [
    "- **Naming modules or python files**\n",
    "Do not use a space in the file name! This will cause large problems when you try to import the file(s):\n",
    "```python\n",
    ">>> import foo bar\n",
    "\n",
    "  File \"<ipython-input-5-3d3b554def9b>\", line 1\n",
    "    import foo bar\n",
    "                 ^\n",
    "SyntaxError: invalid syntax\n",
    ">>> import foobar\n",
    "```"
   ]
  },
  {
   "cell_type": "markdown",
   "metadata": {},
   "source": [
    "- **Spaces around binary operators:**\n",
    "When using operator symbols like +, -, =, +=, <, >, is, and, not, (and many more) there should be a space on each side of the operator.\n",
    "```python\n",
    "total = a + b\n",
    "val and not error == true\n",
    "```"
   ]
  },
  {
   "cell_type": "markdown",
   "metadata": {},
   "source": [
    "- **Indents:** \n",
    "Always 4 spaces. Some text editors insert a special character called the tab character whenever you press the tab key (this is represented in Python by \"\\t\"), which show up as any number of spaces. Python 2.x and older versions could understand a tab character mixed with spaces, but Python 3 and later require sticking with either spaces or tabs. If you dont like hitting the space bar 4 times, you can often configure your editor to auto convert between you hitting tab and entering 4 spaces (see [earlier tutorial](https://nbviewer.jupyter.org/github/QuinnPhys/PythonWorkshop-science/blob/master/lecture-0-scicomp-tools-part0.ipynb) on setting up your editor).\n",
    "\n",
    "*NB: the Tab character really is a single character— try selecting the output in the cell below with your mouse! This isn't a great way in general to tell if something is a single character, after all emoji exist, but it demonstrates that something a bit funny is going on.*"
   ]
  },
  {
   "cell_type": "code",
   "execution_count": 1,
   "metadata": {
    "collapsed": false
   },
   "outputs": [
    {
     "name": "stdout",
     "output_type": "stream",
     "text": [
      "This is a tab: '\t'\n"
     ]
    }
   ],
   "source": [
    "print(\"This is a tab: '\\t'\")"
   ]
  },
  {
   "cell_type": "markdown",
   "metadata": {},
   "source": [
    "- **Long expressions with binary operators**\n",
    "When an expression will not fit on one line, you should put the operator at the beginning of the line to make it easier to read: \n",
    "```python \n",
    "total = (big_number1 + big_number2 \n",
    "    + big_number3\n",
    "    - big_number4\n",
    "    + big_number5)\n",
    "```"
   ]
  },
  {
   "cell_type": "markdown",
   "metadata": {},
   "source": [
    "- **Naming things**\n",
    "    - Never use 'l' (lowercase letter el), 'O' (uppercase letter oh), or 'I' (uppercase letter eye) as single letter variables, since they are hard to distingush in some fonts.\n",
    "    - Class names should use CamelCase, as in ```ExampleClass()```.\n",
    "    - Function names and variables should be lowercase, with words separated by underscores as necessary to improve readability, as in ```long_function_name()```.\n",
    "    - Constants are should be all caps with underscores to seperate words, as in ```NUM_ITERATIONS```.\n",
    "    - If a variable name would conflict with a Python keyword (such as ``class`` or ``lambda``), add one trailing underscore, as in ```class_``` to prevent syntax errors while still maintaining readability.\n",
    "    - In the context of functions and variables inside of classes, there's a few other important conventions:\n",
    "        - Having one leading underscore (```_var_name```) indicates an attribute is for \"internal\" use only, though it doesn't really hide it or enforce \"privacy.\"\n",
    "        - Two leading underscores mean the same as one, but also tell the Python interpeter to \"hide\" your new attribute.\n",
    "        - Having two leading and trailing underscores (```__var_name__```) indicates the name of a special attribute, used by the Python interpreter itself. For instance, ``a.__add__(b)`` is called to resolve ``a + b``. Do not use your own names of this form, but instead only use those defined in the Python documentation."
   ]
  },
  {
   "cell_type": "markdown",
   "metadata": {},
   "source": [
    "---\n",
    "## Jupyter Notebook (30 Minutes) ##"
   ]
  },
  {
   "cell_type": "markdown",
   "metadata": {},
   "source": [
    "[Jupyter Notebooks](http://jupyter.readthedocs.io/en/latest/#) (formerly IPython Notebooks) are really neat ways to share and run code that can be mixed with rich formatted documentation, notes, pictures, equations in LaTeX, etc. *You might notice that what you are looking at currently is an example of such a notebook* :) The idea is similar to Mathematica in that you have a document that consists of cells that can contain code from a variety of [languages](https://github.com/ipython/ipython/wiki/IPython-kernels-for-other-languages), which links to a *kernel* that can execute the code in the notebook. If you look in the top right corner of this page you can see what kernel is connected to the notebook (probably some version of Python).\n",
    "\n",
    "We have already installed Jupyter since it comes with many scientific Python distributions like Anaconda. To use or make a notebooks, we start by launching the Jupyter notebook app from the command line. This launches a kernel and links it to the notebook document, which is then displayed in your browser. Let's try this now. Open a new bash or Powershell terminal and navigate on your computer (as discussed in [Lecture 0](https://nbviewer.jupyter.org/github/QuinnPhys/PythonWorkshop-science/blob/master/lecture-0-scicomp-tools-part0.ipynb)) to the cloned GitHub repository for this workshop. "
   ]
  },
  {
   "cell_type": "markdown",
   "metadata": {},
   "source": [
    "```\n",
    "$ jupyter notebook\n",
    "```"
   ]
  },
  {
   "cell_type": "markdown",
   "metadata": {},
   "source": [
    "A browser tab automatically opens that should look like this:"
   ]
  },
  {
   "cell_type": "markdown",
   "metadata": {},
   "source": [
    "<figure style=\"text-align: center;\">\n",
    "    <img src=\"files/figures/jupyter-home-tab.png\" width=\"70%\">\n",
    "    <caption>Browser tab that shows the Jupyter app</caption>\n",
    "</figure>"
   ]
  },
  {
   "cell_type": "markdown",
   "metadata": {},
   "source": [
    "If for some reason the browser does not automatically launch you can open it yourself and just go to the address listed in the shell output, it looks like ``The Jupyter Notebook is running at: http://localhost:8888/`` (it won't all ways be port 8888). You can then see all the files that were in the folder that you started Jupyter in and if you click on on a notebook file (.ipynb) it will open in a new tab, or if you want to start a new notebook you can in the top right click the new button and choose under Notebooks, Python."
   ]
  },
  {
   "cell_type": "markdown",
   "metadata": {},
   "source": [
    "Now that we have a notebook open, let's look at how to do cool stuff in it!\n",
    "\n",
    "*NB: all of the toolbar commands/navigation in the cells have keyboard shortcuts that you can find in the menu at the top under the help tab. Most of these consist of **Ctrl+M** or **Esc**, followed by another letter.*"
   ]
  },
  {
   "cell_type": "markdown",
   "metadata": {},
   "source": [
    "There are two main types of cell in the notebook, *code cells* and *Markdown cells*. Code cells execute code, just like the ``>>>`` Python REPL inputs we were using earlier. To do this, select a code cell, type what you would like to evaluate, and then run the cell by pushing **Shift+Enter** together. "
   ]
  },
  {
   "cell_type": "markdown",
   "metadata": {},
   "source": [
    "<figure style=\"text-align: center;\">\n",
    "    <img src=\"files/figures/jupyter-code-cell.png\" width=\"95%\">\n",
    "    <caption>A code cell that will run Python code when you **Shift+Enter**.</caption>\n",
    "</figure>"
   ]
  },
  {
   "cell_type": "markdown",
   "metadata": {},
   "source": [
    "Here is an example of doing some of the examples from earlier in a notebook:"
   ]
  },
  {
   "cell_type": "markdown",
   "metadata": {},
   "source": [
    "  <figure style=\"text-align: center;\">\n",
    "            <img src=\"files/figures/jupyter-code-examples.png\" width=\"60%\">\n",
    "            <caption>Executing Python code cells in a notebook.</caption>\n",
    "        </figure>"
   ]
  },
  {
   "cell_type": "markdown",
   "metadata": {},
   "source": [
    "When running Python cells, Jupyter Notebook uses IPython to communicate with your Python environment. Thus, Jupyter Notebook also supports many of the magic commands we saw above. In the code cell below, try out some of the Python commands we learned in previous lectures."
   ]
  },
  {
   "cell_type": "code",
   "execution_count": null,
   "metadata": {
    "collapsed": true
   },
   "outputs": [],
   "source": []
  },
  {
   "cell_type": "markdown",
   "metadata": {},
   "source": [
    "Markdown cells resemble code cells, except they do not have the ``In [ ]:`` prompt. With a cell selected (indicated by a box around the cell) you can change the type of cell by the dropdown menu in the toolbar:"
   ]
  },
  {
   "cell_type": "markdown",
   "metadata": {},
   "source": [
    "<figure style=\"text-align: center;\">\n",
    "    <img src=\"files/figures/jupyter-change-cell.png\" width=\"60%\">\n",
    "    <caption>Changing they type of cell with the toolbar</caption>\n",
    "</figure>"
   ]
  },
  {
   "cell_type": "markdown",
   "metadata": {},
   "source": [
    "Some things you can do in Markdown:\n",
    "\n",
    "- Type in plaintext\n",
    "- Use [Markdown](https://github.com/adam-p/markdown-here/wiki/Markdown-Cheatsheet) to \n",
    "    - ```**Bold**``` **Bold** \n",
    "    - ```*italicise*``` *italicize* \n",
    "    - ```~~strikethrough~~``` ~~strikethrough~~ \n",
    "    - and apply many other standard formatting styles (ex. the bullets in this cell)\n",
    "- Type LaTeX in math mode: ```$\\int_{a}^{b} x^2 dx$``` $~~\\rightarrow~~$ $\\int_{a}^{b} x^2 dx$.\n",
    "- Have LaTeX in a separate line: ```$$\\sum_{n=1}^{\\infty} 2^{-n} = 1$$``` $~~\\rightarrow$ $$\\sum_{n=1}^{\\infty} 2^{-n} = 1.$$\n",
    "- Insert pictures with HTML (this is the code for the picture above)\n",
    "    \n",
    "```html\n",
    "    <figure style=\"text-align: center;\">\n",
    "        <img src=\"files/figures/jupyter-change-cell.png\" width=\"60%\">\n",
    "        <caption>Changing they type of cell with the toolbar</caption>\n",
    "    </figure>\n",
    "```\n",
    "\n",
    "Test some of these out in the Markdown cell below. First double-click the cell to begin editing. When you \n",
    "would like to see how it looks, press **Shift+Enter** to execute the Markdown."
   ]
  },
  {
   "cell_type": "markdown",
   "metadata": {},
   "source": [
    "*This* is a **Markdown** cell"
   ]
  },
  {
   "cell_type": "markdown",
   "metadata": {},
   "source": [
    "A final note about the Jupyter notebooks is how to shut them down. Closing the tab does *not* actually stop the Jupyter app or the associated kernel. To close the app, just close the shell where you launched Jupyter from, or press **Ctrl+C** to interrupt the Notebook server. "
   ]
  }
 ],
 "metadata": {
  "anaconda-cloud": {},
  "kernelspec": {
   "display_name": "Python [conda root]",
   "language": "python",
   "name": "conda-root-py"
  },
  "language_info": {
   "codemirror_mode": {
    "name": "ipython",
    "version": 3
   },
   "file_extension": ".py",
   "mimetype": "text/x-python",
   "name": "python",
   "nbconvert_exporter": "python",
   "pygments_lexer": "ipython3",
   "version": "3.5.2"
  }
 },
 "nbformat": 4,
 "nbformat_minor": 1
}

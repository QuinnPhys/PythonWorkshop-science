{
 "cells": [
  {
   "cell_type": "markdown",
   "metadata": {},
   "source": [
    "# Lecture 1: Basics of Python (1.5 Hours) #"
   ]
  },
  {
   "cell_type": "markdown",
   "metadata": {},
   "source": [
    "### ABSTRACT ###\n",
    "\n",
    "In this Lecture, we will do other stuff. **todo**\n",
    "\n",
    "---"
   ]
  },
  {
   "cell_type": "markdown",
   "metadata": {},
   "source": [
    "## Introduction to the Python Language (45 Minutes) ##"
   ]
  },
  {
   "cell_type": "markdown",
   "metadata": {},
   "source": [
    "Python, like many other interpreted languages, can be used in an interactive manner known as *REPL* (read-evaluate-print-loop). Though the name \"REPL\" might be new, this way of using Python is quite similar to how many other environments work, including languages as diverse as Lisp and MATLAB/Octave. Using the Python REPL will allow us to get a handle on the language without having to worry about writing self-contained programs right away."
   ]
  },
  {
   "cell_type": "markdown",
   "metadata": {},
   "source": [
    "In particular, we'll use an enhanced REPL for Python called IPython, as this comes with a lot of nice features for scientific computation (to wit, IPython was designed by a biostatistics grad student who was frustrated with the REPL choices available at the time **todo: check that fperez was actually biostats**). To start IPython, launch a command line session (either PowerShell or bash, depending on your operating system), and run the ``ipython`` command:"
   ]
  },
  {
   "cell_type": "markdown",
   "metadata": {},
   "source": [
    "```bash\n",
    "$ ipython\n",
    "```"
   ]
  },
  {
   "cell_type": "markdown",
   "metadata": {},
   "source": [
    "<figure style=\"text-align: center;\">\n",
    "    <img src=\"files/figures/win10-ipython-powershell.png\" width=\"50%\">\n",
    "    <caption>\n",
    "        Running an IPython session in Windows 10.\n",
    "    </caption>\n",
    "</figure>"
   ]
  },
  {
   "cell_type": "markdown",
   "metadata": {},
   "source": [
    "You'll be presented with a new shell that allows you to enter in Python expressions and statements. Let's try it out."
   ]
  },
  {
   "cell_type": "markdown",
   "metadata": {},
   "source": [
    "```ipython\n",
    "In [1]: 1 + 1\n",
    "Out[1]: 2\n",
    "\n",
    "In [2]:\n",
    "```"
   ]
  },
  {
   "cell_type": "markdown",
   "metadata": {},
   "source": [
    "Breaking this down a bit, ``1`` is a Python *literal* of type ``int`` that we then add using the addition operator ``+``. The expression ``1 + 1`` is then *evaluated* by IPython, and its value is printed out to the command line. We then loop to the next prompt, ``In [2]:``.\n",
    "\n",
    "*NB: in a lot of Python documentation, you will often see ``>>>`` instead of numbered ``In`` prompts. The numbered prompts are an IPython feature, while ``>>>`` is the \"plain\" Python prompt. For the rest of this tutorial, I'll use the plain prompt for consistency with this convention.*"
   ]
  },
  {
   "cell_type": "markdown",
   "metadata": {},
   "source": [
    "Now that we see how to use IPython to run Python statements and expressions, let's use it to explore the language a bit more. First, let's familiarize ourselves with a few basic Python types and what we can do with them."
   ]
  },
  {
   "cell_type": "markdown",
   "metadata": {},
   "source": [
    "```python\n",
    ">>> x = \"Hello, world!\"\n",
    ">>> print(x)\n",
    "Hello, world!\n",
    "```"
   ]
  },
  {
   "cell_type": "markdown",
   "metadata": {},
   "source": [
    "In this example, ``\"Hello, world!\"`` is a *string* — that is, a sequence of characters representing text — that we can then display by using the *function* ``print()``. Strings can be denoted using either single- or double-quotes, making it easy to nest strings."
   ]
  },
  {
   "cell_type": "markdown",
   "metadata": {},
   "source": [
    "```python\n",
    ">>> y = \"What's up?\\n\"\n",
    ">>> z = 'Just playing with \"quotes.\"'\n",
    ">>> print(y + z)\n",
    "What's up?\n",
    "Just playing with \"quotes.\"\n",
    "```"
   ]
  },
  {
   "cell_type": "markdown",
   "metadata": {},
   "source": [
    "In the above example, we also see two other important things about strings. First, that ``\\n`` has a special meaning inside of a string, indicating a new line. This is an example of an *escape character*. Second, we note that the ``+`` operator acts differently for strings than for integers, and returns the concatenation of two strings. We will see more examples of how the behavior of operators such as ``+`` can depend on the type of its operands. For now, though, let's press on and see some other types that we can use."
   ]
  },
  {
   "cell_type": "markdown",
   "metadata": {},
   "source": [
    "One type that we will often rely on is ``bool``, short for Boolean. This type is useful in that it only has two valid values, ``True`` and ``False``, which are related by logical operators:"
   ]
  },
  {
   "cell_type": "markdown",
   "metadata": {},
   "source": [
    "```python\n",
    ">>> True and True\n",
    "True\n",
    ">>> not True\n",
    "False\n",
    ">>> False or not True\n",
    "False\n",
    "```"
   ]
  },
  {
   "cell_type": "markdown",
   "metadata": {},
   "source": [
    "Next, we will very often need to consider numbers other than integers. For this, the ``float`` type (short for \"floating-point number\") is very useful:"
   ]
  },
  {
   "cell_type": "markdown",
   "metadata": {},
   "source": [
    "```python\n",
    ">>> 1 + 1.1\n",
    "2.1\n",
    ">>> 1 + 0.0\n",
    "1.0\n",
    ">>> 42.0 + float('inf')\n",
    "inf\n",
    "```"
   ]
  },
  {
   "cell_type": "markdown",
   "metadata": {},
   "source": [
    "Here, we see that adding a ``float`` to an ``int`` results in a ``float``, even if the ``float`` represents a number that is actually an integer. We also see that Python supports special non-numeric floating point values such as ``inf`` and ``nan`` (not a number) by using the ``float`` function with a string argument. This demonstrates an important concept: Python types are functions which return values of that type. For instance:"
   ]
  },
  {
   "cell_type": "markdown",
   "metadata": {},
   "source": [
    "```python\n",
    ">>> str()\n",
    "''\n",
    ">>> int()\n",
    "0\n",
    ">>> float()\n",
    "0.0\n",
    ">>> int(\"12\")\n",
    "12\n",
    "```"
   ]
  },
  {
   "cell_type": "markdown",
   "metadata": {},
   "source": [
    "We can use the ``type()`` function to return the type of a value:"
   ]
  },
  {
   "cell_type": "markdown",
   "metadata": {},
   "source": [
    "```python\n",
    ">>> type(12)\n",
    "<type 'int'>\n",
    "```"
   ]
  },
  {
   "cell_type": "markdown",
   "metadata": {},
   "source": [
    "*NB: the cheekier amongst us may wonder what the type of ``type`` is. For reasons that are both fascinating and esoteric, ``type(type)`` is ``type``.*"
   ]
  },
  {
   "cell_type": "markdown",
   "metadata": {},
   "source": [
    "Python also supports several types for representing *collections* of different values. For instance, the ``list`` type does pretty much what it says on the tin:"
   ]
  },
  {
   "cell_type": "markdown",
   "metadata": {},
   "source": [
    "```python\n",
    ">>> x = [12, 'foo', True]\n",
    ">>> print(type(x))\n",
    "<type 'list'>\n",
    "```"
   ]
  },
  {
   "cell_type": "markdown",
   "metadata": {},
   "source": [
    "Values of type ``list`` can be *indexed* by using the ``[]`` operator:"
   ]
  },
  {
   "cell_type": "markdown",
   "metadata": {},
   "source": [
    "```python\n",
    ">>> print(x[2])\n",
    "True\n",
    ">>> print(type(x[2]))\n",
    "<type 'bool'>\n",
    "```"
   ]
  },
  {
   "cell_type": "markdown",
   "metadata": {},
   "source": [
    "Note that Python starts indexing with zero. This is a very useful convention for programming, and will make our lives much, much simpler in a wide variety of ways. In particular, starting with 0 works very well in combination with *slicing*, where we index a list by a range instead of a single value. For instance:"
   ]
  },
  {
   "cell_type": "markdown",
   "metadata": {},
   "source": [
    "```python\n",
    ">>> x = ['a', 'b', 'c', 'd']\n",
    ">>> print(x[0:2])\n",
    "['a', 'b']\n",
    ">>> print(x[2:]) # If we omit the end of a slice, it continues until the end.\n",
    "['c', 'd']\n",
    "```"
   ]
  },
  {
   "cell_type": "markdown",
   "metadata": {},
   "source": [
    "This example demonstrates that we can use slicing to partition a list without having to worry about adding and subtracting one, greatly reducing the opportunity for off-by-one errors. This benefit also extends to determining the lengths of collections:"
   ]
  },
  {
   "cell_type": "markdown",
   "metadata": {},
   "source": [
    "```python\n",
    ">>> i = 1\n",
    ">>> j = 3\n",
    ">>> assert(j - i == len(x[i:j]))\n",
    "```"
   ]
  },
  {
   "cell_type": "markdown",
   "metadata": {},
   "source": [
    "The ``len`` function above returns the length of a collection, allowing us to check that we the length of ``x[1:3]`` is the same as the distance between ``1`` and ``3``. We use the ``assert`` keyword, which raises an error if its argument is ``False``, along with the equality operator ``==`` to check this."
   ]
  },
  {
   "cell_type": "markdown",
   "metadata": {},
   "source": [
    "In addition to ``list``, Python also provides several other collection types. For instance, ``tuple`` is identical to list except that the contents of a ``tuple`` cannot be changed after it is created. That is, ``tuple`` values are *immutable*."
   ]
  },
  {
   "cell_type": "markdown",
   "metadata": {},
   "source": [
    "```python\n",
    ">>> x = [1, 2]\n",
    ">>> x[1] = \"foo\"\n",
    ">>> x = (1, 2) # x is a tuple now!\n",
    ">>> x[1] = 'bar'\n",
    "Traceback (most recent call last):\n",
    "  File \"<ipython-input-21-3c6077352bf0>\", line 1, in <module>\n",
    "    x[1] = 'bar'\n",
    "TypeError: 'tuple' object does not support item assignment\n",
    "```"
   ]
  },
  {
   "cell_type": "markdown",
   "metadata": {},
   "source": [
    "*NB: as an annoying edge case, tuples with exactly one element must be written using a trailing comma, as in ``(2, )`` to represent the tuple containing ``2``.*"
   ]
  },
  {
   "cell_type": "markdown",
   "metadata": {},
   "source": [
    "Also useful are dictionaries, also known as associative or mapping collections, represented in Python by the type ``dict``. As opposed to indexing by consequtive integers, most immutable types (for instance, ``str``, ``int``, ``float`` and ``tuple``) can be used to index a dictionary."
   ]
  },
  {
   "cell_type": "markdown",
   "metadata": {},
   "source": [
    "```python\n",
    ">>> x = {\n",
    "...     'a': 'foo',\n",
    "...     42: True,\n",
    "...     (): 0.0\n",
    "... }\n",
    ">>> print(x[()])\n",
    "0.0\n",
    ">>> print(x['a'])\n",
    "'foo'\n",
    "```"
   ]
  },
  {
   "cell_type": "markdown",
   "metadata": {},
   "source": [
    "*NB: Note that the IPython REPL detected that the opening brace ``{`` of the ``dict`` was not closed, and changed the prompt to ``...``. This indicates that the same line is being continued until a closing ``}`` is found.*"
   ]
  },
  {
   "cell_type": "markdown",
   "metadata": {},
   "source": [
    "Now that we have an understanding of what basic types are available, we can move forward by writing some more useful code. Let's start by looking at how to define *functions* in Python."
   ]
  },
  {
   "cell_type": "markdown",
   "metadata": {},
   "source": [
    "```python\n",
    ">>> def f(x):\n",
    "...     return x ** 2\n",
    ">>> f(2)\n",
    "4\n",
    "```"
   ]
  },
  {
   "cell_type": "markdown",
   "metadata": {},
   "source": [
    "The ``def`` keyword starts a function definition, and is followed by the name of the function and its *arguments*, followed by a colon. In the example above, we take one argument ``x``. The body of a function is then set apart by indenting each line within the function. For ``f``, we only have one line, ``return x ** 2``, which squares the argument ``x`` and returns its value to the caller."
   ]
  },
  {
   "cell_type": "markdown",
   "metadata": {},
   "source": [
    "Functions can also take optional or *keyword* arguments, allowing arguments to have default values."
   ]
  },
  {
   "cell_type": "markdown",
   "metadata": {},
   "source": [
    "```python\n",
    ">>> def g(x, y=2):\n",
    "...     return x ** y\n",
    ">>> g(2, 2)\n",
    "4\n",
    ">>> g(2, 1)\n",
    "2\n",
    ">>> g(2, 4)\n",
    "16\n",
    "```"
   ]
  },
  {
   "cell_type": "markdown",
   "metadata": {},
   "source": [
    "In addition, we can also pass arguments by name, useful for calling functions with a large number of arguments."
   ]
  },
  {
   "cell_type": "markdown",
   "metadata": {},
   "source": [
    "```python\n",
    ">>> g(y=3, x=2)\n",
    "8\n",
    "```"
   ]
  },
  {
   "cell_type": "markdown",
   "metadata": {},
   "source": [
    "Importantly, functions are values in and of themselves, and can be assigned to variables or passed as arguments."
   ]
  },
  {
   "cell_type": "markdown",
   "metadata": {},
   "source": [
    "```python\n",
    ">>> h = g\n",
    ">>> h(3, 4)\n",
    "81\n",
    ">>> h\n",
    "<function g at 0x00000000049AB748>\n",
    "```"
   ]
  },
  {
   "cell_type": "markdown",
   "metadata": {},
   "source": [
    "Let's use this to define a function that takes some other function and applies it twice."
   ]
  },
  {
   "cell_type": "markdown",
   "metadata": {},
   "source": [
    "```python\n",
    ">>> def apply_twice(f, x):\n",
    ">>>     return f(f(x))\n",
    "```"
   ]
  },
  {
   "cell_type": "markdown",
   "metadata": {},
   "source": [
    "This is especially useful with *lambda functions*, which provide a way of defining one-line functions in a compact manner."
   ]
  },
  {
   "cell_type": "markdown",
   "metadata": {},
   "source": [
    "```python\n",
    ">>> apply_twice((lambda x: x * 2 + '!'), 'ab')\n",
    "'abab!abab!!'\n",
    "```"
   ]
  },
  {
   "cell_type": "markdown",
   "metadata": {},
   "source": [
    "We can use this to quickly apply a function over a collection, such as a list or a tuple, with the ``map`` function:"
   ]
  },
  {
   "cell_type": "markdown",
   "metadata": {},
   "source": [
    "```python\n",
    ">>> list(map(g, [2, 3, 4]))\n",
    "[4, 9, 16]\n",
    "```"
   ]
  },
  {
   "cell_type": "markdown",
   "metadata": {},
   "source": [
    "This example shows that ``map`` applies its first argument to each element of a collection. By calling ``list``, we then make a new list to hold the results of ``map``."
   ]
  },
  {
   "cell_type": "markdown",
   "metadata": {},
   "source": [
    "Alternately, we can also use a *list comprehension* to represent the same idea in a way that more closely resembles \"set builder notation.\""
   ]
  },
  {
   "cell_type": "markdown",
   "metadata": {},
   "source": [
    "```python\n",
    ">>> x = [2, 3, 4]\n",
    ">>> y = [element ** 2 for element in y]\n",
    ">>> print(y)\n",
    "[4, 9, 16]\n",
    "```"
   ]
  },
  {
   "cell_type": "markdown",
   "metadata": {},
   "source": [
    "Underlying all of these examples is the concept of *iteration*, in which one value at a time is *yielded* from some collection. Functions such as ``list`` or ``map`` then iterate over their arguments, such that they can be used with any iterable value. Similarly, ``for`` loops consume iterators and act on each value at a time. For instance, ``list`` and ``tuple`` yield each of their elements, as we can see with a quick example."
   ]
  },
  {
   "cell_type": "markdown",
   "metadata": {},
   "source": [
    "```python\n",
    ">>> for element in [1, 'a', False]:\n",
    "...     print(element)\n",
    "1\n",
    "'a'\n",
    "False\n",
    "```"
   ]
  },
  {
   "cell_type": "markdown",
   "metadata": {},
   "source": [
    "This is a notable contrast to how ``for`` loops work in languages such as FORTRAN or C, and is most closely related to what many languages call a \"for-each\" loop. To emulate C- or FORTRAN-style for-loops, Python provides a function ``range`` that allows iterating over a collection of indices:"
   ]
  },
  {
   "cell_type": "markdown",
   "metadata": {},
   "source": [
    "```python\n",
    ">>> for idx in range(3):\n",
    "...     print(idx)\n",
    "0\n",
    "1\n",
    "2\n",
    "```"
   ]
  },
  {
   "cell_type": "markdown",
   "metadata": {},
   "source": [
    "Iterators allow for writing writing for loops in a much more robust style, however, such that looping over ``range`` is not recommended. In particular, the ``enumerate`` function provides a very useful iterable. Let's look at a more complicated example, then break it down some:"
   ]
  },
  {
   "cell_type": "markdown",
   "metadata": {},
   "source": [
    "```python\n",
    ">>> for idx, element in enumerate('abc'):\n",
    "...     print(\"{}: {}\".format(idx, element))\n",
    "0 a\n",
    "1 b\n",
    "2 c\n",
    "```"
   ]
  },
  {
   "cell_type": "markdown",
   "metadata": {},
   "source": [
    "As promised, let's look at each part of this example in turn. First, we now have two loop variables instead of one. This is an example of *destructuring assignment*, and works because each value yielded by ``enumerate`` is a tuple:"
   ]
  },
  {
   "cell_type": "markdown",
   "metadata": {},
   "source": [
    "```python\n",
    ">>> print(list(enumerate('ab'))\n",
    "[(0, 'a'), (1, 'b')]\n",
    "```"
   ]
  },
  {
   "cell_type": "markdown",
   "metadata": {},
   "source": [
    "Each of these tuples contains the index of an element and the element itself. Since ``str`` iterates and yields each character at a time, the \"elements\" are strings of length 1. In the ``for`` loop above, each of these tuples then gets \"unpacked\", such that ``idx`` is set to each index and ``element`` is set to each element.\n",
    "\n",
    "Next, we see an example of ``format``, which makes a new string from one or more other values. In the string ``\"{}: {}\"``, each ``{}`` serves as a placeholder that is filled with the arguments to ``format``:"
   ]
  },
  {
   "cell_type": "markdown",
   "metadata": {},
   "source": [
    "```python\n",
    ">>> \"{}, {}!\".format('Hello', 'world')\n",
    "'Hello, world!'\n",
    "```"
   ]
  },
  {
   "cell_type": "markdown",
   "metadata": {},
   "source": [
    "**TODO** pick up from here"
   ]
  },
  {
   "cell_type": "markdown",
   "metadata": {},
   "source": [
    "- Import\n",
    "- Iterators, ``for``\n",
    "- ``map``, ``lambda`` and comprehensions\n",
    "- Print\n",
    "- Very fast intro to classes ** this may need expanded on later**"
   ]
  },
  {
   "cell_type": "markdown",
   "metadata": {},
   "source": [
    "## A Few Words on Python 2 vs 3 (10 Minutes) ##"
   ]
  },
  {
   "cell_type": "markdown",
   "metadata": {},
   "source": [
    "- Use Python 3.\n",
    "- Unless on Windows and QuTiP.\n",
    "- Examples of changes, ``print`` vs ``print()``, ``map`` vs ``list(map())``, ``xrange`` vs ``range``.\n",
    "- Even on Py3, be nice to back compat, use ``__future__``."
   ]
  },
  {
   "cell_type": "markdown",
   "metadata": {},
   "source": [
    "## Jupyter Notebook (30 Minutes) ##"
   ]
  },
  {
   "cell_type": "markdown",
   "metadata": {},
   "source": [
    "- Launching\n",
    "- Navigating cells\n",
    "- Running Python cells\n",
    "- Adding Markdown/math cells"
   ]
  },
  {
   "cell_type": "markdown",
   "metadata": {},
   "source": [
    "## Style Guidelines for General Happiness (5 Minutes) ##"
   ]
  },
  {
   "cell_type": "markdown",
   "metadata": {},
   "source": [
    "- Summarize PEP 8."
   ]
  }
 ],
 "metadata": {
  "anaconda-cloud": {},
  "kernelspec": {
   "display_name": "Python [default]",
   "language": "python",
   "name": "python2"
  },
  "language_info": {
   "codemirror_mode": {
    "name": "ipython",
    "version": 2
   },
   "file_extension": ".py",
   "mimetype": "text/x-python",
   "name": "python",
   "nbconvert_exporter": "python",
   "pygments_lexer": "ipython2",
   "version": "2.7.12"
  }
 },
 "nbformat": 4,
 "nbformat_minor": 1
}
